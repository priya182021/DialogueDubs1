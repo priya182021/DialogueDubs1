{
 "cells": [
  {
   "cell_type": "markdown",
   "id": "498d2545",
   "metadata": {},
   "source": [
    "# extracting masked lip frames and frames"
   ]
  },
  {
   "cell_type": "code",
   "execution_count": 1,
   "id": "545bb24a",
   "metadata": {},
   "outputs": [
    {
     "name": "stdout",
     "output_type": "stream",
     "text": [
      "Frame extraction complete.\n"
     ]
    }
   ],
   "source": [
    "import cv2\n",
    "import numpy as np\n",
    "import os\n",
    "\n",
    "mouth_cascade = cv2.CascadeClassifier('haarcascade_mcs_mouth.xml')\n",
    "if mouth_cascade.empty():\n",
    "    raise IOError('Unable to load the mouth cascade classifier xml file')\n",
    "\n",
    "def extract_mask_frames(video_path, output_path,frame_directory, frame_interval):\n",
    "    cap = cv2.VideoCapture(video_path)\n",
    "    frame_count = 0\n",
    "    ds_factor = 0.5\n",
    "    while True:\n",
    "        ret, frame = cap.read()\n",
    "        if not ret:\n",
    "            break \n",
    "        frame = cv2.resize(frame, None, fx=ds_factor, fy=ds_factor, interpolation=cv2.INTER_AREA)\n",
    "        gray = cv2.cvtColor(frame, cv2.COLOR_BGR2GRAY)\n",
    "        mouth_rects = mouth_cascade.detectMultiScale(gray, 1.7, 11)\n",
    "        for (x,y,w,h) in mouth_rects:\n",
    "            y = int(y - 0.15*h)\n",
    "            mask = np.zeros_like(frame)\n",
    "            mask[y:y+h, x:x+w, :] = 255\n",
    "            masked_video_frame = cv2.bitwise_and(frame, mask)\n",
    "            remaining_face = frame.copy()\n",
    "            remaining_face[y:y+h, x:x+w] = [0, 0, 0]\n",
    "            os.makedirs(output_path, exist_ok=True)\n",
    "            output_file = os.path.join(output_path, f\"frame_{frame_count}.jpg\")\n",
    "            cv2.imwrite(output_file,remaining_face)\n",
    "            os.makedirs(frame_directory, exist_ok=True)\n",
    "            output_frame = os.path.join(frame_directory, f\"frame_{frame_count}.jpg\")\n",
    "            cv2.imwrite(output_frame,frame)\n",
    "            frame_count += 1\n",
    "    cap.release()\n",
    "\n",
    "folder = os.path.join(os.getcwd(), \"pri_data\",\"videos\")\n",
    "for filename in os.listdir(folder):\n",
    "    if filename.endswith(\".mp4\"):\n",
    "        video_file_path = os.path.join(folder, filename)\n",
    "        output_directory = os.path.join(folder, \"img\", os.path.splitext(filename)[0],\"masked_images\") \n",
    "        frame_directory =  os.path.join(folder, \"img\", os.path.splitext(filename)[0],\"images\")\n",
    "        frame_interval = 2\n",
    "        extract_mask_frames(video_file_path, output_directory,frame_directory, frame_interval)\n",
    "print(\"Frame extraction complete.\")"
   ]
  },
  {
   "cell_type": "markdown",
   "id": "0b63781d",
   "metadata": {},
   "source": [
    "# extracting audio from each video"
   ]
  },
  {
   "cell_type": "code",
   "execution_count": 37,
   "id": "2460afc7",
   "metadata": {},
   "outputs": [
    {
     "name": "stderr",
     "output_type": "stream",
     "text": [
      "                                                                                                                       \n",
      "\n",
      "\u001b[A\u001b[A                                                                                                                 \n",
      "chunk:  60%|███████████████████████████████████████▎                         | 26/43 [04:17<02:48,  9.92s/it, now=None]\n",
      "\n",
      "chunk:  60%|███████████████████████████████████████▎                         | 26/43 [02:33<01:40,  5.90s/it, now=None]\u001b[A\u001b[A\n",
      "chunk:  60%|███████████████████████████████████████▎                         | 26/43 [04:06<02:40,  9.47s/it, now=None]\u001b[A"
     ]
    },
    {
     "name": "stdout",
     "output_type": "stream",
     "text": [
      "MoviePy - Writing audio in C:\\Users\\D priyanka\\Downloads\\pri_data\\audio\\1.mp4\n"
     ]
    },
    {
     "name": "stderr",
     "output_type": "stream",
     "text": [
      "\n",
      "\n",
      "\n",
      "chunk:   0%|                                                                          | 0/27 [00:00<?, ?it/s, now=None]\u001b[A\u001b[A\u001b[A\n",
      "\n",
      "\n",
      "                                                                                                                       \u001b[A\u001b[A\u001b[A\n",
      "\n",
      "\u001b[A\u001b[A                                                                                                                 \n",
      "chunk:  60%|███████████████████████████████████████▎                         | 26/43 [04:17<02:48,  9.92s/it, now=None]\n",
      "\n",
      "chunk:  60%|███████████████████████████████████████▎                         | 26/43 [02:33<01:40,  5.90s/it, now=None]\u001b[A\u001b[A\n",
      "chunk:  60%|███████████████████████████████████████▎                         | 26/43 [04:06<02:41,  9.47s/it, now=None]\u001b[A"
     ]
    },
    {
     "name": "stdout",
     "output_type": "stream",
     "text": [
      "MoviePy - Done.\n"
     ]
    },
    {
     "name": "stderr",
     "output_type": "stream",
     "text": [
      "                                                                                                                       \n",
      "\n",
      "\u001b[A\u001b[A                                                                                                                 \n",
      "chunk:  60%|███████████████████████████████████████▎                         | 26/43 [04:18<02:48,  9.94s/it, now=None]\n",
      "\n",
      "chunk:  60%|███████████████████████████████████████▎                         | 26/43 [02:33<01:40,  5.92s/it, now=None]\u001b[A\u001b[A\n",
      "chunk:  60%|███████████████████████████████████████▎                         | 26/43 [04:06<02:41,  9.49s/it, now=None]\u001b[A"
     ]
    },
    {
     "name": "stdout",
     "output_type": "stream",
     "text": [
      "MoviePy - Writing audio in C:\\Users\\D priyanka\\Downloads\\pri_data\\audio\\11.mp4\n"
     ]
    },
    {
     "name": "stderr",
     "output_type": "stream",
     "text": [
      "\n",
      "\n",
      "\n",
      "chunk:   0%|                                                                          | 0/43 [00:00<?, ?it/s, now=None]\u001b[A\u001b[A\u001b[A\n",
      "\n",
      "\n",
      "chunk:  70%|████████████████████████████████████████████▋                   | 30/43 [00:00<00:00, 294.21it/s, now=None]\u001b[A\u001b[A\u001b[A\n",
      "\n",
      "\n",
      "                                                                                                                       \u001b[A\u001b[A\u001b[A\n",
      "\n",
      "\u001b[A\u001b[A                                                                                                                 \n",
      "chunk:  60%|███████████████████████████████████████▎                         | 26/43 [04:18<02:49,  9.94s/it, now=None]\n",
      "\n",
      "chunk:  60%|███████████████████████████████████████▎                         | 26/43 [02:34<01:40,  5.92s/it, now=None]\u001b[A\u001b[A\n",
      "chunk:  60%|███████████████████████████████████████▎                         | 26/43 [04:06<02:41,  9.49s/it, now=None]\u001b[A"
     ]
    },
    {
     "name": "stdout",
     "output_type": "stream",
     "text": [
      "MoviePy - Done.\n"
     ]
    },
    {
     "name": "stderr",
     "output_type": "stream",
     "text": [
      "                                                                                                                       \n",
      "\n",
      "\u001b[A\u001b[A                                                                                                                 \n",
      "chunk:  60%|███████████████████████████████████████▎                         | 26/43 [04:18<02:49,  9.96s/it, now=None]\n",
      "\n",
      "chunk:  60%|███████████████████████████████████████▎                         | 26/43 [02:34<01:40,  5.94s/it, now=None]\u001b[A\u001b[A\n",
      "chunk:  60%|███████████████████████████████████████▎                         | 26/43 [04:07<02:41,  9.51s/it, now=None]\u001b[A"
     ]
    },
    {
     "name": "stdout",
     "output_type": "stream",
     "text": [
      "MoviePy - Writing audio in C:\\Users\\D priyanka\\Downloads\\pri_data\\audio\\13.mp4\n"
     ]
    },
    {
     "name": "stderr",
     "output_type": "stream",
     "text": [
      "\n",
      "\n",
      "\n",
      "chunk:   0%|                                                                          | 0/50 [00:00<?, ?it/s, now=None]\u001b[A\u001b[A\u001b[A\n",
      "\n",
      "\n",
      "                                                                                                                       \u001b[A\u001b[A\u001b[A\n",
      "\n",
      "\u001b[A\u001b[A                                                                                                                 \n",
      "chunk:  60%|███████████████████████████████████████▎                         | 26/43 [04:19<02:49,  9.96s/it, now=None]\n",
      "\n",
      "chunk:  60%|███████████████████████████████████████▎                         | 26/43 [02:34<01:41,  5.94s/it, now=None]\u001b[A\u001b[A\n",
      "chunk:  60%|███████████████████████████████████████▎                         | 26/43 [04:07<02:41,  9.51s/it, now=None]\u001b[A"
     ]
    },
    {
     "name": "stdout",
     "output_type": "stream",
     "text": [
      "MoviePy - Done.\n"
     ]
    },
    {
     "name": "stderr",
     "output_type": "stream",
     "text": [
      "                                                                                                                       \n",
      "\n",
      "\u001b[A\u001b[A                                                                                                                 \n",
      "chunk:  60%|███████████████████████████████████████▎                         | 26/43 [04:19<02:49,  9.98s/it, now=None]\n",
      "\n",
      "chunk:  60%|███████████████████████████████████████▎                         | 26/43 [02:34<01:41,  5.96s/it, now=None]\u001b[A\u001b[A\n",
      "chunk:  60%|███████████████████████████████████████▎                         | 26/43 [04:07<02:42,  9.53s/it, now=None]\u001b[A"
     ]
    },
    {
     "name": "stdout",
     "output_type": "stream",
     "text": [
      "MoviePy - Writing audio in C:\\Users\\D priyanka\\Downloads\\pri_data\\audio\\14.mp4\n"
     ]
    },
    {
     "name": "stderr",
     "output_type": "stream",
     "text": [
      "\n",
      "\n",
      "\n",
      "chunk:   0%|                                                                          | 0/60 [00:00<?, ?it/s, now=None]\u001b[A\u001b[A\u001b[A\n",
      "\n",
      "\n",
      "chunk:  48%|██████████████████████████████▉                                 | 29/60 [00:00<00:00, 286.49it/s, now=None]\u001b[A\u001b[A\u001b[A\n",
      "\n",
      "\n",
      "                                                                                                                       \u001b[A\u001b[A\u001b[A\n",
      "\n",
      "\u001b[A\u001b[A                                                                                                                 \n",
      "chunk:  60%|███████████████████████████████████████▎                         | 26/43 [04:19<02:49,  9.98s/it, now=None]\n",
      "\n",
      "chunk:  60%|███████████████████████████████████████▎                         | 26/43 [02:35<01:41,  5.97s/it, now=None]\u001b[A\u001b[A\n",
      "chunk:  60%|███████████████████████████████████████▎                         | 26/43 [04:07<02:42,  9.54s/it, now=None]\u001b[A"
     ]
    },
    {
     "name": "stdout",
     "output_type": "stream",
     "text": [
      "MoviePy - Done.\n"
     ]
    },
    {
     "name": "stderr",
     "output_type": "stream",
     "text": [
      "                                                                                                                       \n",
      "\n",
      "\u001b[A\u001b[A                                                                                                                 \n",
      "chunk:  60%|███████████████████████████████████████▎                         | 26/43 [04:20<02:50, 10.00s/it, now=None]\n",
      "\n",
      "chunk:  60%|███████████████████████████████████████▎                         | 26/43 [02:35<01:41,  5.98s/it, now=None]\u001b[A\u001b[A\n",
      "chunk:  60%|███████████████████████████████████████▎                         | 26/43 [04:08<02:42,  9.55s/it, now=None]\u001b[A"
     ]
    },
    {
     "name": "stdout",
     "output_type": "stream",
     "text": [
      "MoviePy - Writing audio in C:\\Users\\D priyanka\\Downloads\\pri_data\\audio\\15.mp4\n"
     ]
    },
    {
     "name": "stderr",
     "output_type": "stream",
     "text": [
      "\n",
      "\n",
      "\n",
      "chunk:   0%|                                                                          | 0/55 [00:00<?, ?it/s, now=None]\u001b[A\u001b[A\u001b[A\n",
      "\n",
      "\n",
      "                                                                                                                       \u001b[A\u001b[A\u001b[A\n",
      "\n",
      "\u001b[A\u001b[A                                                                                                                 \n",
      "chunk:  60%|███████████████████████████████████████▎                         | 26/43 [04:20<02:50, 10.01s/it, now=None]\n",
      "\n",
      "chunk:  60%|███████████████████████████████████████▎                         | 26/43 [02:35<01:41,  5.99s/it, now=None]\u001b[A\u001b[A\n",
      "chunk:  60%|███████████████████████████████████████▎                         | 26/43 [04:08<02:42,  9.56s/it, now=None]\u001b[A"
     ]
    },
    {
     "name": "stdout",
     "output_type": "stream",
     "text": [
      "MoviePy - Done.\n"
     ]
    },
    {
     "name": "stderr",
     "output_type": "stream",
     "text": [
      "                                                                                                                       \n",
      "\n",
      "\u001b[A\u001b[A                                                                                                                 \n",
      "chunk:  60%|███████████████████████████████████████▎                         | 26/43 [04:20<02:50, 10.02s/it, now=None]\n",
      "\n",
      "chunk:  60%|███████████████████████████████████████▎                         | 26/43 [02:36<01:42,  6.00s/it, now=None]\u001b[A\u001b[A\n",
      "chunk:  60%|███████████████████████████████████████▎                         | 26/43 [04:08<02:42,  9.57s/it, now=None]\u001b[A"
     ]
    },
    {
     "name": "stdout",
     "output_type": "stream",
     "text": [
      "MoviePy - Writing audio in C:\\Users\\D priyanka\\Downloads\\pri_data\\audio\\16.mp4\n"
     ]
    },
    {
     "name": "stderr",
     "output_type": "stream",
     "text": [
      "\n",
      "\n",
      "\n",
      "chunk:   0%|                                                                          | 0/57 [00:00<?, ?it/s, now=None]\u001b[A\u001b[A\u001b[A\n",
      "\n",
      "\n",
      "chunk:  82%|████████████████████████████████████████████████████▊           | 47/57 [00:00<00:00, 435.84it/s, now=None]\u001b[A\u001b[A\u001b[A\n",
      "\n",
      "\n",
      "                                                                                                                       \u001b[A\u001b[A\u001b[A\n",
      "\n",
      "\u001b[A\u001b[A                                                                                                                 \n",
      "chunk:  60%|███████████████████████████████████████▎                         | 26/43 [04:20<02:50, 10.03s/it, now=None]\n",
      "\n",
      "chunk:  60%|███████████████████████████████████████▎                         | 26/43 [02:36<01:42,  6.01s/it, now=None]\u001b[A\u001b[A\n",
      "chunk:  60%|███████████████████████████████████████▎                         | 26/43 [04:09<02:42,  9.58s/it, now=None]\u001b[A"
     ]
    },
    {
     "name": "stdout",
     "output_type": "stream",
     "text": [
      "MoviePy - Done.\n"
     ]
    },
    {
     "name": "stderr",
     "output_type": "stream",
     "text": [
      "                                                                                                                       \n",
      "\n",
      "\u001b[A\u001b[A                                                                                                                 \n",
      "chunk:  60%|███████████████████████████████████████▎                         | 26/43 [04:21<02:50, 10.04s/it, now=None]\n",
      "\n",
      "chunk:  60%|███████████████████████████████████████▎                         | 26/43 [02:36<01:42,  6.02s/it, now=None]\u001b[A\u001b[A\n",
      "chunk:  60%|███████████████████████████████████████▎                         | 26/43 [04:09<02:43,  9.59s/it, now=None]\u001b[A"
     ]
    },
    {
     "name": "stdout",
     "output_type": "stream",
     "text": [
      "MoviePy - Writing audio in C:\\Users\\D priyanka\\Downloads\\pri_data\\audio\\17.mp4\n"
     ]
    },
    {
     "name": "stderr",
     "output_type": "stream",
     "text": [
      "\n",
      "\n",
      "\n",
      "chunk:   0%|                                                                         | 0/111 [00:00<?, ?it/s, now=None]\u001b[A\u001b[A\u001b[A\n",
      "\n",
      "\n",
      "chunk:  47%|█████████████████████████████▌                                 | 52/111 [00:00<00:00, 452.62it/s, now=None]\u001b[A\u001b[A\u001b[A\n",
      "\n",
      "\n",
      "                                                                                                                       \u001b[A\u001b[A\u001b[A\n",
      "\n",
      "\u001b[A\u001b[A                                                                                                                 \n",
      "chunk:  60%|███████████████████████████████████████▎                         | 26/43 [04:21<02:50, 10.05s/it, now=None]\n",
      "\n",
      "chunk:  60%|███████████████████████████████████████▎                         | 26/43 [02:36<01:42,  6.03s/it, now=None]\u001b[A\u001b[A\n",
      "chunk:  60%|███████████████████████████████████████▎                         | 26/43 [04:09<02:43,  9.60s/it, now=None]\u001b[A"
     ]
    },
    {
     "name": "stdout",
     "output_type": "stream",
     "text": [
      "MoviePy - Done.\n"
     ]
    },
    {
     "name": "stderr",
     "output_type": "stream",
     "text": [
      "                                                                                                                       \n",
      "\n",
      "\u001b[A\u001b[A                                                                                                                 \n",
      "chunk:  60%|███████████████████████████████████████▎                         | 26/43 [04:21<02:51, 10.07s/it, now=None]\n",
      "\n",
      "chunk:  60%|███████████████████████████████████████▎                         | 26/43 [02:37<01:42,  6.05s/it, now=None]\u001b[A\u001b[A\n",
      "chunk:  60%|███████████████████████████████████████▎                         | 26/43 [04:10<02:43,  9.62s/it, now=None]\u001b[A"
     ]
    },
    {
     "name": "stdout",
     "output_type": "stream",
     "text": [
      "MoviePy - Writing audio in C:\\Users\\D priyanka\\Downloads\\pri_data\\audio\\18.mp4\n"
     ]
    },
    {
     "name": "stderr",
     "output_type": "stream",
     "text": [
      "\n",
      "\n",
      "\n",
      "chunk:   0%|                                                                          | 0/42 [00:00<?, ?it/s, now=None]\u001b[A\u001b[A\u001b[A\n",
      "\n",
      "\n",
      "chunk:  95%|████████████████████████████████████████████████████████████▉   | 40/42 [00:00<00:00, 367.41it/s, now=None]\u001b[A\u001b[A\u001b[A\n",
      "\n",
      "\n",
      "                                                                                                                       \u001b[A\u001b[A\u001b[A\n",
      "\n",
      "\u001b[A\u001b[A                                                                                                                 \n",
      "chunk:  60%|███████████████████████████████████████▎                         | 26/43 [04:21<02:51, 10.07s/it, now=None]\n",
      "\n",
      "chunk:  60%|███████████████████████████████████████▎                         | 26/43 [02:37<01:42,  6.05s/it, now=None]\u001b[A\u001b[A\n",
      "chunk:  60%|███████████████████████████████████████▎                         | 26/43 [04:10<02:43,  9.62s/it, now=None]\u001b[A"
     ]
    },
    {
     "name": "stdout",
     "output_type": "stream",
     "text": [
      "MoviePy - Done.\n"
     ]
    },
    {
     "name": "stderr",
     "output_type": "stream",
     "text": [
      "                                                                                                                       \n",
      "\n",
      "\u001b[A\u001b[A                                                                                                                 \n",
      "chunk:  60%|███████████████████████████████████████▎                         | 26/43 [04:22<02:51, 10.09s/it, now=None]\n",
      "\n",
      "chunk:  60%|███████████████████████████████████████▎                         | 26/43 [02:37<01:43,  6.07s/it, now=None]\u001b[A\u001b[A\n",
      "chunk:  60%|███████████████████████████████████████▎                         | 26/43 [04:10<02:43,  9.64s/it, now=None]\u001b[A"
     ]
    },
    {
     "name": "stdout",
     "output_type": "stream",
     "text": [
      "MoviePy - Writing audio in C:\\Users\\D priyanka\\Downloads\\pri_data\\audio\\19.mp4\n"
     ]
    },
    {
     "name": "stderr",
     "output_type": "stream",
     "text": [
      "\n",
      "\n",
      "\n",
      "chunk:   0%|                                                                          | 0/77 [00:00<?, ?it/s, now=None]\u001b[A\u001b[A\u001b[A\n",
      "\n",
      "\n",
      "chunk:  83%|█████████████████████████████████████████████████████▏          | 64/77 [00:00<00:00, 590.54it/s, now=None]\u001b[A\u001b[A\u001b[A\n",
      "\n",
      "\n",
      "                                                                                                                       \u001b[A\u001b[A\u001b[A\n",
      "\n",
      "\u001b[A\u001b[A                                                                                                                 \n",
      "chunk:  60%|███████████████████████████████████████▎                         | 26/43 [04:22<02:51, 10.09s/it, now=None]\n",
      "\n",
      "chunk:  60%|███████████████████████████████████████▎                         | 26/43 [02:37<01:43,  6.07s/it, now=None]\u001b[A\u001b[A\n",
      "chunk:  60%|███████████████████████████████████████▎                         | 26/43 [04:10<02:43,  9.64s/it, now=None]\u001b[A"
     ]
    },
    {
     "name": "stdout",
     "output_type": "stream",
     "text": [
      "MoviePy - Done.\n"
     ]
    },
    {
     "name": "stderr",
     "output_type": "stream",
     "text": [
      "                                                                                                                       \n",
      "\n",
      "\u001b[A\u001b[A                                                                                                                 \n",
      "chunk:  60%|███████████████████████████████████████▎                         | 26/43 [04:22<02:51, 10.11s/it, now=None]\n",
      "\n",
      "chunk:  60%|███████████████████████████████████████▎                         | 26/43 [02:38<01:43,  6.09s/it, now=None]\u001b[A\u001b[A\n",
      "chunk:  60%|███████████████████████████████████████▎                         | 26/43 [04:11<02:44,  9.66s/it, now=None]\u001b[A"
     ]
    },
    {
     "name": "stdout",
     "output_type": "stream",
     "text": [
      "MoviePy - Writing audio in C:\\Users\\D priyanka\\Downloads\\pri_data\\audio\\2.mp4\n"
     ]
    },
    {
     "name": "stderr",
     "output_type": "stream",
     "text": [
      "\n",
      "\n",
      "\n",
      "chunk:   0%|                                                                          | 0/34 [00:00<?, ?it/s, now=None]\u001b[A\u001b[A\u001b[A\n",
      "\n",
      "\n",
      "                                                                                                                       \u001b[A\u001b[A\u001b[A\n",
      "\n",
      "\u001b[A\u001b[A                                                                                                                 \n",
      "chunk:  60%|███████████████████████████████████████▎                         | 26/43 [04:22<02:51, 10.11s/it, now=None]\n",
      "\n",
      "chunk:  60%|███████████████████████████████████████▎                         | 26/43 [02:38<01:43,  6.09s/it, now=None]\u001b[A\u001b[A\n",
      "chunk:  60%|███████████████████████████████████████▎                         | 26/43 [04:11<02:44,  9.66s/it, now=None]\u001b[A"
     ]
    },
    {
     "name": "stdout",
     "output_type": "stream",
     "text": [
      "MoviePy - Done.\n"
     ]
    },
    {
     "name": "stderr",
     "output_type": "stream",
     "text": [
      "                                                                                                                       \n",
      "\n",
      "\u001b[A\u001b[A                                                                                                                 \n",
      "chunk:  60%|███████████████████████████████████████▎                         | 26/43 [04:23<02:52, 10.13s/it, now=None]\n",
      "\n",
      "chunk:  60%|███████████████████████████████████████▎                         | 26/43 [02:38<01:43,  6.11s/it, now=None]\u001b[A\u001b[A\n",
      "chunk:  60%|███████████████████████████████████████▎                         | 26/43 [04:11<02:44,  9.68s/it, now=None]\u001b[A"
     ]
    },
    {
     "name": "stdout",
     "output_type": "stream",
     "text": [
      "MoviePy - Writing audio in C:\\Users\\D priyanka\\Downloads\\pri_data\\audio\\20.mp4\n"
     ]
    },
    {
     "name": "stderr",
     "output_type": "stream",
     "text": [
      "\n",
      "\n",
      "\n",
      "chunk:   0%|                                                                          | 0/77 [00:00<?, ?it/s, now=None]\u001b[A\u001b[A\u001b[A\n",
      "\n",
      "\n",
      "chunk:  90%|█████████████████████████████████████████████████████████▎      | 69/77 [00:00<00:00, 637.56it/s, now=None]\u001b[A\u001b[A\u001b[A\n",
      "\n",
      "\n",
      "                                                                                                                       \u001b[A\u001b[A\u001b[A\n",
      "\n",
      "\u001b[A\u001b[A                                                                                                                 \n",
      "chunk:  60%|███████████████████████████████████████▎                         | 26/43 [04:23<02:52, 10.13s/it, now=None]\n",
      "\n",
      "chunk:  60%|███████████████████████████████████████▎                         | 26/43 [02:38<01:43,  6.11s/it, now=None]\u001b[A\u001b[A\n",
      "chunk:  60%|███████████████████████████████████████▎                         | 26/43 [04:11<02:44,  9.68s/it, now=None]\u001b[A"
     ]
    },
    {
     "name": "stdout",
     "output_type": "stream",
     "text": [
      "MoviePy - Done.\n"
     ]
    },
    {
     "name": "stderr",
     "output_type": "stream",
     "text": [
      "                                                                                                                       \n",
      "\n",
      "\u001b[A\u001b[A                                                                                                                 \n",
      "chunk:  60%|███████████████████████████████████████▎                         | 26/43 [04:23<02:52, 10.15s/it, now=None]\n",
      "\n",
      "chunk:  60%|███████████████████████████████████████▎                         | 26/43 [02:39<01:44,  6.13s/it, now=None]\u001b[A\u001b[A\n",
      "chunk:  60%|███████████████████████████████████████▎                         | 26/43 [04:12<02:44,  9.70s/it, now=None]\u001b[A"
     ]
    },
    {
     "name": "stdout",
     "output_type": "stream",
     "text": [
      "MoviePy - Writing audio in C:\\Users\\D priyanka\\Downloads\\pri_data\\audio\\21.mp4\n"
     ]
    },
    {
     "name": "stderr",
     "output_type": "stream",
     "text": [
      "\n",
      "\n",
      "\n",
      "chunk:   0%|                                                                         | 0/121 [00:00<?, ?it/s, now=None]\u001b[A\u001b[A\u001b[A\n",
      "\n",
      "\n",
      "chunk:  40%|█████████████████████████▌                                     | 49/121 [00:00<00:00, 486.64it/s, now=None]\u001b[A\u001b[A\u001b[A\n",
      "\n",
      "\n",
      "                                                                                                                       \u001b[A\u001b[A\u001b[A\n",
      "\n",
      "\u001b[A\u001b[A                                                                                                                 \n",
      "chunk:  60%|███████████████████████████████████████▎                         | 26/43 [04:24<02:52, 10.16s/it, now=None]\n",
      "\n",
      "chunk:  60%|███████████████████████████████████████▎                         | 26/43 [02:39<01:44,  6.14s/it, now=None]\u001b[A\u001b[A\n",
      "chunk:  60%|███████████████████████████████████████▎                         | 26/43 [04:12<02:45,  9.71s/it, now=None]\u001b[A"
     ]
    },
    {
     "name": "stdout",
     "output_type": "stream",
     "text": [
      "MoviePy - Done.\n"
     ]
    },
    {
     "name": "stderr",
     "output_type": "stream",
     "text": [
      "                                                                                                                       \n",
      "\n",
      "\u001b[A\u001b[A                                                                                                                 \n",
      "chunk:  60%|███████████████████████████████████████▎                         | 26/43 [04:24<02:52, 10.17s/it, now=None]\n",
      "\n",
      "chunk:  60%|███████████████████████████████████████▎                         | 26/43 [02:39<01:44,  6.15s/it, now=None]\u001b[A\u001b[A\n",
      "chunk:  60%|███████████████████████████████████████▎                         | 26/43 [04:12<02:45,  9.72s/it, now=None]\u001b[A"
     ]
    },
    {
     "name": "stdout",
     "output_type": "stream",
     "text": [
      "MoviePy - Writing audio in C:\\Users\\D priyanka\\Downloads\\pri_data\\audio\\22.mp4\n"
     ]
    },
    {
     "name": "stderr",
     "output_type": "stream",
     "text": [
      "\n",
      "\n",
      "\n",
      "chunk:   0%|                                                                         | 0/150 [00:00<?, ?it/s, now=None]\u001b[A\u001b[A\u001b[A\n",
      "\n",
      "\n",
      "chunk:  37%|███████████████████████                                        | 55/150 [00:00<00:00, 499.80it/s, now=None]\u001b[A\u001b[A\u001b[A\n",
      "\n",
      "\n",
      "                                                                                                                       \u001b[A\u001b[A\u001b[A\n",
      "\n",
      "\u001b[A\u001b[A                                                                                                                 \n",
      "chunk:  60%|███████████████████████████████████████▎                         | 26/43 [04:24<02:53, 10.18s/it, now=None]\n",
      "\n",
      "chunk:  60%|███████████████████████████████████████▎                         | 26/43 [02:40<01:44,  6.16s/it, now=None]\u001b[A\u001b[A\n",
      "chunk:  60%|███████████████████████████████████████▎                         | 26/43 [04:12<02:45,  9.73s/it, now=None]\u001b[A"
     ]
    },
    {
     "name": "stdout",
     "output_type": "stream",
     "text": [
      "MoviePy - Done.\n"
     ]
    },
    {
     "name": "stderr",
     "output_type": "stream",
     "text": [
      "                                                                                                                       \n",
      "\n",
      "\u001b[A\u001b[A                                                                                                                 \n",
      "chunk:  60%|███████████████████████████████████████▎                         | 26/43 [04:25<02:53, 10.20s/it, now=None]\n",
      "\n",
      "chunk:  60%|███████████████████████████████████████▎                         | 26/43 [02:40<01:44,  6.18s/it, now=None]\u001b[A\u001b[A\n",
      "chunk:  60%|███████████████████████████████████████▎                         | 26/43 [04:13<02:45,  9.75s/it, now=None]\u001b[A"
     ]
    },
    {
     "name": "stdout",
     "output_type": "stream",
     "text": [
      "MoviePy - Writing audio in C:\\Users\\D priyanka\\Downloads\\pri_data\\audio\\23.mp4\n"
     ]
    },
    {
     "name": "stderr",
     "output_type": "stream",
     "text": [
      "\n",
      "\n",
      "\n",
      "chunk:   0%|                                                                          | 0/53 [00:00<?, ?it/s, now=None]\u001b[A\u001b[A\u001b[A\n",
      "\n",
      "\n",
      "                                                                                                                       \u001b[A\u001b[A\u001b[A\n",
      "\n",
      "\u001b[A\u001b[A                                                                                                                 \n",
      "chunk:  60%|███████████████████████████████████████▎                         | 26/43 [04:25<02:53, 10.20s/it, now=None]\n",
      "\n",
      "chunk:  60%|███████████████████████████████████████▎                         | 26/43 [02:40<01:45,  6.18s/it, now=None]\u001b[A\u001b[A\n",
      "chunk:  60%|███████████████████████████████████████▎                         | 26/43 [04:13<02:45,  9.75s/it, now=None]\u001b[A"
     ]
    },
    {
     "name": "stdout",
     "output_type": "stream",
     "text": [
      "MoviePy - Done.\n"
     ]
    },
    {
     "name": "stderr",
     "output_type": "stream",
     "text": [
      "                                                                                                                       \n",
      "\n",
      "\u001b[A\u001b[A                                                                                                                 \n",
      "chunk:  60%|███████████████████████████████████████▎                         | 26/43 [04:25<02:53, 10.21s/it, now=None]\n",
      "\n",
      "chunk:  60%|███████████████████████████████████████▎                         | 26/43 [02:41<01:45,  6.20s/it, now=None]\u001b[A\u001b[A\n",
      "chunk:  60%|███████████████████████████████████████▎                         | 26/43 [04:13<02:46,  9.77s/it, now=None]\u001b[A"
     ]
    },
    {
     "name": "stdout",
     "output_type": "stream",
     "text": [
      "MoviePy - Writing audio in C:\\Users\\D priyanka\\Downloads\\pri_data\\audio\\24.mp4\n"
     ]
    },
    {
     "name": "stderr",
     "output_type": "stream",
     "text": [
      "\n",
      "\n",
      "\n",
      "chunk:   0%|                                                                          | 0/40 [00:00<?, ?it/s, now=None]\u001b[A\u001b[A\u001b[A\n",
      "\n",
      "\n",
      "                                                                                                                       \u001b[A\u001b[A\u001b[A\n",
      "\n",
      "\u001b[A\u001b[A                                                                                                                 \n",
      "chunk:  60%|███████████████████████████████████████▎                         | 26/43 [04:25<02:53, 10.22s/it, now=None]\n",
      "\n",
      "chunk:  60%|███████████████████████████████████████▎                         | 26/43 [02:41<01:45,  6.20s/it, now=None]\u001b[A\u001b[A\n",
      "chunk:  60%|███████████████████████████████████████▎                         | 26/43 [04:14<02:46,  9.77s/it, now=None]\u001b[A"
     ]
    },
    {
     "name": "stdout",
     "output_type": "stream",
     "text": [
      "MoviePy - Done.\n"
     ]
    },
    {
     "name": "stderr",
     "output_type": "stream",
     "text": [
      "                                                                                                                       \n",
      "\n",
      "\u001b[A\u001b[A                                                                                                                 \n",
      "chunk:  60%|███████████████████████████████████████▎                         | 26/43 [04:26<02:53, 10.23s/it, now=None]\n",
      "\n",
      "chunk:  60%|███████████████████████████████████████▎                         | 26/43 [02:41<01:45,  6.21s/it, now=None]\u001b[A\u001b[A\n",
      "chunk:  60%|███████████████████████████████████████▎                         | 26/43 [04:14<02:46,  9.78s/it, now=None]\u001b[A"
     ]
    },
    {
     "name": "stdout",
     "output_type": "stream",
     "text": [
      "MoviePy - Writing audio in C:\\Users\\D priyanka\\Downloads\\pri_data\\audio\\25.mp4\n"
     ]
    },
    {
     "name": "stderr",
     "output_type": "stream",
     "text": [
      "\n",
      "\n",
      "\n",
      "chunk:   0%|                                                                          | 0/33 [00:00<?, ?it/s, now=None]\u001b[A\u001b[A\u001b[A\n",
      "\n",
      "\n",
      "                                                                                                                       \u001b[A\u001b[A\u001b[A\n",
      "\n",
      "\u001b[A\u001b[A                                                                                                                 \n",
      "chunk:  60%|███████████████████████████████████████▎                         | 26/43 [04:26<02:54, 10.24s/it, now=None]\n",
      "\n",
      "chunk:  60%|███████████████████████████████████████▎                         | 26/43 [02:41<01:45,  6.22s/it, now=None]\u001b[A\u001b[A\n",
      "chunk:  60%|███████████████████████████████████████▎                         | 26/43 [04:14<02:46,  9.79s/it, now=None]\u001b[A"
     ]
    },
    {
     "name": "stdout",
     "output_type": "stream",
     "text": [
      "MoviePy - Done.\n"
     ]
    },
    {
     "name": "stderr",
     "output_type": "stream",
     "text": [
      "                                                                                                                       \n",
      "\n",
      "\u001b[A\u001b[A                                                                                                                 \n",
      "chunk:  60%|███████████████████████████████████████▎                         | 26/43 [04:26<02:54, 10.25s/it, now=None]\n",
      "\n",
      "chunk:  60%|███████████████████████████████████████▎                         | 26/43 [02:42<01:45,  6.23s/it, now=None]\u001b[A\u001b[A\n",
      "chunk:  60%|███████████████████████████████████████▎                         | 26/43 [04:14<02:46,  9.80s/it, now=None]\u001b[A"
     ]
    },
    {
     "name": "stdout",
     "output_type": "stream",
     "text": [
      "MoviePy - Writing audio in C:\\Users\\D priyanka\\Downloads\\pri_data\\audio\\26.mp4\n"
     ]
    },
    {
     "name": "stderr",
     "output_type": "stream",
     "text": [
      "\n",
      "\n",
      "\n",
      "chunk:   0%|                                                                          | 0/40 [00:00<?, ?it/s, now=None]\u001b[A\u001b[A\u001b[A\n",
      "\n",
      "\n",
      "chunk:  92%|███████████████████████████████████████████████████████████▏    | 37/40 [00:00<00:00, 366.72it/s, now=None]\u001b[A\u001b[A\u001b[A\n",
      "\n",
      "\n",
      "                                                                                                                       \u001b[A\u001b[A\u001b[A\n",
      "\n",
      "\u001b[A\u001b[A                                                                                                                 \n",
      "chunk:  60%|███████████████████████████████████████▎                         | 26/43 [04:26<02:54, 10.26s/it, now=None]\n",
      "\n",
      "chunk:  60%|███████████████████████████████████████▎                         | 26/43 [02:42<01:46,  6.24s/it, now=None]\u001b[A\u001b[A\n",
      "chunk:  60%|███████████████████████████████████████▎                         | 26/43 [04:15<02:46,  9.81s/it, now=None]\u001b[A"
     ]
    },
    {
     "name": "stdout",
     "output_type": "stream",
     "text": [
      "MoviePy - Done.\n"
     ]
    },
    {
     "name": "stderr",
     "output_type": "stream",
     "text": [
      "                                                                                                                       \n",
      "\n",
      "\u001b[A\u001b[A                                                                                                                 \n",
      "chunk:  60%|███████████████████████████████████████▎                         | 26/43 [04:27<02:54, 10.27s/it, now=None]\n",
      "\n",
      "chunk:  60%|███████████████████████████████████████▎                         | 26/43 [02:42<01:46,  6.25s/it, now=None]\u001b[A\u001b[A\n",
      "chunk:  60%|███████████████████████████████████████▎                         | 26/43 [04:15<02:47,  9.82s/it, now=None]\u001b[A"
     ]
    },
    {
     "name": "stdout",
     "output_type": "stream",
     "text": [
      "MoviePy - Writing audio in C:\\Users\\D priyanka\\Downloads\\pri_data\\audio\\27.mp4\n"
     ]
    },
    {
     "name": "stderr",
     "output_type": "stream",
     "text": [
      "\n",
      "\n",
      "\n",
      "chunk:   0%|                                                                          | 0/85 [00:00<?, ?it/s, now=None]\u001b[A\u001b[A\u001b[A\n",
      "\n",
      "\n",
      "chunk: 100%|████████████████████████████████████████████████████████████████| 85/85 [00:00<00:00, 747.48it/s, now=None]\u001b[A\u001b[A\u001b[A\n",
      "\n",
      "\n",
      "                                                                                                                       \u001b[A\u001b[A\u001b[A\n",
      "\n",
      "\u001b[A\u001b[A                                                                                                                 \n",
      "chunk:  60%|███████████████████████████████████████▎                         | 26/43 [04:27<02:54, 10.28s/it, now=None]\n",
      "\n",
      "chunk:  60%|███████████████████████████████████████▎                         | 26/43 [02:42<01:46,  6.26s/it, now=None]\u001b[A\u001b[A\n",
      "chunk:  60%|███████████████████████████████████████▎                         | 26/43 [04:15<02:47,  9.83s/it, now=None]\u001b[A"
     ]
    },
    {
     "name": "stdout",
     "output_type": "stream",
     "text": [
      "MoviePy - Done.\n"
     ]
    },
    {
     "name": "stderr",
     "output_type": "stream",
     "text": [
      "                                                                                                                       \n",
      "\n",
      "\u001b[A\u001b[A                                                                                                                 \n",
      "chunk:  60%|███████████████████████████████████████▎                         | 26/43 [04:27<02:54, 10.29s/it, now=None]\n",
      "\n",
      "chunk:  60%|███████████████████████████████████████▎                         | 26/43 [02:43<01:46,  6.27s/it, now=None]\u001b[A\u001b[A\n",
      "chunk:  60%|███████████████████████████████████████▎                         | 26/43 [04:15<02:47,  9.84s/it, now=None]\u001b[A"
     ]
    },
    {
     "name": "stdout",
     "output_type": "stream",
     "text": [
      "MoviePy - Writing audio in C:\\Users\\D priyanka\\Downloads\\pri_data\\audio\\28.mp4\n"
     ]
    },
    {
     "name": "stderr",
     "output_type": "stream",
     "text": [
      "\n",
      "\n",
      "\n",
      "chunk:   0%|                                                                          | 0/60 [00:00<?, ?it/s, now=None]\u001b[A\u001b[A\u001b[A\n",
      "\n",
      "\n",
      "                                                                                                                       \u001b[A\u001b[A\u001b[A\n",
      "\n",
      "\u001b[A\u001b[A                                                                                                                 \n",
      "chunk:  60%|███████████████████████████████████████▎                         | 26/43 [04:27<02:55, 10.30s/it, now=None]\n",
      "\n",
      "chunk:  60%|███████████████████████████████████████▎                         | 26/43 [02:43<01:46,  6.28s/it, now=None]\u001b[A\u001b[A\n",
      "chunk:  60%|███████████████████████████████████████▎                         | 26/43 [04:16<02:47,  9.85s/it, now=None]\u001b[A"
     ]
    },
    {
     "name": "stdout",
     "output_type": "stream",
     "text": [
      "MoviePy - Done.\n"
     ]
    },
    {
     "name": "stderr",
     "output_type": "stream",
     "text": [
      "                                                                                                                       \n",
      "\n",
      "\u001b[A\u001b[A                                                                                                                 \n",
      "chunk:  60%|███████████████████████████████████████▎                         | 26/43 [04:28<02:55, 10.31s/it, now=None]\n",
      "\n",
      "chunk:  60%|███████████████████████████████████████▎                         | 26/43 [02:43<01:47,  6.29s/it, now=None]\u001b[A\u001b[A\n",
      "chunk:  60%|███████████████████████████████████████▎                         | 26/43 [04:16<02:47,  9.86s/it, now=None]\u001b[A"
     ]
    },
    {
     "name": "stdout",
     "output_type": "stream",
     "text": [
      "MoviePy - Writing audio in C:\\Users\\D priyanka\\Downloads\\pri_data\\audio\\29.mp4\n"
     ]
    },
    {
     "name": "stderr",
     "output_type": "stream",
     "text": [
      "\n",
      "\n",
      "\n",
      "chunk:   0%|                                                                          | 0/59 [00:00<?, ?it/s, now=None]\u001b[A\u001b[A\u001b[A\n",
      "\n",
      "\n",
      "chunk:  49%|███████████████████████████████▍                                | 29/59 [00:00<00:00, 274.85it/s, now=None]\u001b[A\u001b[A\u001b[A\n",
      "\n",
      "\n",
      "                                                                                                                       \u001b[A\u001b[A\u001b[A\n",
      "\n",
      "\u001b[A\u001b[A                                                                                                                 \n",
      "chunk:  60%|███████████████████████████████████████▎                         | 26/43 [04:28<02:55, 10.32s/it, now=None]\n",
      "\n",
      "chunk:  60%|███████████████████████████████████████▎                         | 26/43 [02:43<01:47,  6.30s/it, now=None]\u001b[A\u001b[A\n",
      "chunk:  60%|███████████████████████████████████████▎                         | 26/43 [04:16<02:47,  9.87s/it, now=None]\u001b[A"
     ]
    },
    {
     "name": "stdout",
     "output_type": "stream",
     "text": [
      "MoviePy - Done.\n"
     ]
    },
    {
     "name": "stderr",
     "output_type": "stream",
     "text": [
      "                                                                                                                       \n",
      "\n",
      "\u001b[A\u001b[A                                                                                                                 \n",
      "chunk:  60%|███████████████████████████████████████▎                         | 26/43 [04:28<02:55, 10.34s/it, now=None]\n",
      "\n",
      "chunk:  60%|███████████████████████████████████████▎                         | 26/43 [02:44<01:47,  6.32s/it, now=None]\u001b[A\u001b[A\n",
      "chunk:  60%|███████████████████████████████████████▎                         | 26/43 [04:17<02:48,  9.89s/it, now=None]\u001b[A"
     ]
    },
    {
     "name": "stdout",
     "output_type": "stream",
     "text": [
      "MoviePy - Writing audio in C:\\Users\\D priyanka\\Downloads\\pri_data\\audio\\3.mp4\n"
     ]
    },
    {
     "name": "stderr",
     "output_type": "stream",
     "text": [
      "\n",
      "\n",
      "\n",
      "chunk:   0%|                                                                          | 0/20 [00:00<?, ?it/s, now=None]\u001b[A\u001b[A\u001b[A\n",
      "\n",
      "\n",
      "                                                                                                                       \u001b[A\u001b[A\u001b[A\n",
      "\n",
      "\u001b[A\u001b[A                                                                                                                 \n",
      "chunk:  60%|███████████████████████████████████████▎                         | 26/43 [04:28<02:55, 10.34s/it, now=None]\n",
      "\n",
      "chunk:  60%|███████████████████████████████████████▎                         | 26/43 [02:44<01:47,  6.32s/it, now=None]\u001b[A\u001b[A\n",
      "chunk:  60%|███████████████████████████████████████▎                         | 26/43 [04:17<02:48,  9.89s/it, now=None]\u001b[A"
     ]
    },
    {
     "name": "stdout",
     "output_type": "stream",
     "text": [
      "MoviePy - Done.\n"
     ]
    },
    {
     "name": "stderr",
     "output_type": "stream",
     "text": [
      "                                                                                                                       \n",
      "\n",
      "\u001b[A\u001b[A                                                                                                                 \n",
      "chunk:  60%|███████████████████████████████████████▎                         | 26/43 [04:29<02:56, 10.36s/it, now=None]\n",
      "\n",
      "chunk:  60%|███████████████████████████████████████▎                         | 26/43 [02:44<01:47,  6.34s/it, now=None]\u001b[A\u001b[A\n",
      "chunk:  60%|███████████████████████████████████████▎                         | 26/43 [04:17<02:48,  9.91s/it, now=None]\u001b[A"
     ]
    },
    {
     "name": "stdout",
     "output_type": "stream",
     "text": [
      "MoviePy - Writing audio in C:\\Users\\D priyanka\\Downloads\\pri_data\\audio\\30.mp4\n"
     ]
    },
    {
     "name": "stderr",
     "output_type": "stream",
     "text": [
      "\n",
      "\n",
      "\n",
      "chunk:   0%|                                                                          | 0/32 [00:00<?, ?it/s, now=None]\u001b[A\u001b[A\u001b[A\n",
      "\n",
      "\n",
      "                                                                                                                       \u001b[A\u001b[A\u001b[A\n",
      "\n",
      "\u001b[A\u001b[A                                                                                                                 \n",
      "chunk:  60%|███████████████████████████████████████▎                         | 26/43 [04:29<02:56, 10.36s/it, now=None]\n",
      "\n",
      "chunk:  60%|███████████████████████████████████████▎                         | 26/43 [02:44<01:47,  6.34s/it, now=None]\u001b[A\u001b[A\n",
      "chunk:  60%|███████████████████████████████████████▎                         | 26/43 [04:17<02:48,  9.91s/it, now=None]\u001b[A"
     ]
    },
    {
     "name": "stdout",
     "output_type": "stream",
     "text": [
      "MoviePy - Done.\n"
     ]
    },
    {
     "name": "stderr",
     "output_type": "stream",
     "text": [
      "                                                                                                                       \n",
      "\n",
      "\u001b[A\u001b[A                                                                                                                 \n",
      "chunk:  60%|███████████████████████████████████████▎                         | 26/43 [04:29<02:56, 10.38s/it, now=None]\n",
      "\n",
      "chunk:  60%|███████████████████████████████████████▎                         | 26/43 [02:45<01:48,  6.36s/it, now=None]\u001b[A\u001b[A\n",
      "chunk:  60%|███████████████████████████████████████▎                         | 26/43 [04:18<02:48,  9.93s/it, now=None]\u001b[A"
     ]
    },
    {
     "name": "stdout",
     "output_type": "stream",
     "text": [
      "MoviePy - Writing audio in C:\\Users\\D priyanka\\Downloads\\pri_data\\audio\\4.mp4\n"
     ]
    },
    {
     "name": "stderr",
     "output_type": "stream",
     "text": [
      "\n",
      "\n",
      "\n",
      "chunk:   0%|                                                                          | 0/51 [00:00<?, ?it/s, now=None]\u001b[A\u001b[A\u001b[A\n",
      "\n",
      "\n",
      "chunk:  80%|███████████████████████████████████████████████████▍            | 41/51 [00:00<00:00, 407.86it/s, now=None]\u001b[A\u001b[A\u001b[A\n",
      "\n",
      "\n",
      "                                                                                                                       \u001b[A\u001b[A\u001b[A\n",
      "\n",
      "\u001b[A\u001b[A                                                                                                                 \n",
      "chunk:  60%|███████████████████████████████████████▎                         | 26/43 [04:29<02:56, 10.38s/it, now=None]\n",
      "\n",
      "chunk:  60%|███████████████████████████████████████▎                         | 26/43 [02:45<01:48,  6.36s/it, now=None]\u001b[A\u001b[A\n",
      "chunk:  60%|███████████████████████████████████████▎                         | 26/43 [04:18<02:48,  9.93s/it, now=None]\u001b[A"
     ]
    },
    {
     "name": "stdout",
     "output_type": "stream",
     "text": [
      "MoviePy - Done.\n"
     ]
    },
    {
     "name": "stderr",
     "output_type": "stream",
     "text": [
      "                                                                                                                       \n",
      "\n",
      "\u001b[A\u001b[A                                                                                                                 \n",
      "chunk:  60%|███████████████████████████████████████▎                         | 26/43 [04:30<02:56, 10.40s/it, now=None]\n",
      "\n",
      "chunk:  60%|███████████████████████████████████████▎                         | 26/43 [02:45<01:48,  6.38s/it, now=None]\u001b[A\u001b[A\n",
      "chunk:  60%|███████████████████████████████████████▎                         | 26/43 [04:18<02:49,  9.95s/it, now=None]\u001b[A"
     ]
    },
    {
     "name": "stdout",
     "output_type": "stream",
     "text": [
      "MoviePy - Writing audio in C:\\Users\\D priyanka\\Downloads\\pri_data\\audio\\5.mp4\n"
     ]
    },
    {
     "name": "stderr",
     "output_type": "stream",
     "text": [
      "\n",
      "\n",
      "\n",
      "chunk:   0%|                                                                          | 0/56 [00:00<?, ?it/s, now=None]\u001b[A\u001b[A\u001b[A\n",
      "\n",
      "\n",
      "chunk:  52%|█████████████████████████████████▏                              | 29/56 [00:00<00:00, 286.31it/s, now=None]\u001b[A\u001b[A\u001b[A\n",
      "\n",
      "\n",
      "                                                                                                                       \u001b[A\u001b[A\u001b[A\n",
      "\n",
      "\u001b[A\u001b[A                                                                                                                 \n",
      "chunk:  60%|███████████████████████████████████████▎                         | 26/43 [04:30<02:56, 10.41s/it, now=None]\n",
      "\n",
      "chunk:  60%|███████████████████████████████████████▎                         | 26/43 [02:46<01:48,  6.39s/it, now=None]\u001b[A\u001b[A\n",
      "chunk:  60%|███████████████████████████████████████▎                         | 26/43 [04:18<02:49,  9.96s/it, now=None]\u001b[A"
     ]
    },
    {
     "name": "stdout",
     "output_type": "stream",
     "text": [
      "MoviePy - Done.\n"
     ]
    },
    {
     "name": "stderr",
     "output_type": "stream",
     "text": [
      "                                                                                                                       \n",
      "\n",
      "\u001b[A\u001b[A                                                                                                                 \n",
      "chunk:  60%|███████████████████████████████████████▎                         | 26/43 [04:30<02:57, 10.42s/it, now=None]\n",
      "\n",
      "chunk:  60%|███████████████████████████████████████▎                         | 26/43 [02:46<01:48,  6.40s/it, now=None]\u001b[A\u001b[A\n",
      "chunk:  60%|███████████████████████████████████████▎                         | 26/43 [04:19<02:49,  9.97s/it, now=None]\u001b[A"
     ]
    },
    {
     "name": "stdout",
     "output_type": "stream",
     "text": [
      "MoviePy - Writing audio in C:\\Users\\D priyanka\\Downloads\\pri_data\\audio\\6.mp4\n"
     ]
    },
    {
     "name": "stderr",
     "output_type": "stream",
     "text": [
      "\n",
      "\n",
      "\n",
      "chunk:   0%|                                                                          | 0/59 [00:00<?, ?it/s, now=None]\u001b[A\u001b[A\u001b[A\n",
      "\n",
      "\n",
      "chunk:  76%|████████████████████████████████████████████████▊               | 45/59 [00:00<00:00, 446.61it/s, now=None]\u001b[A\u001b[A\u001b[A\n",
      "\n",
      "\n",
      "                                                                                                                       \u001b[A\u001b[A\u001b[A\n",
      "\n",
      "\u001b[A\u001b[A                                                                                                                 \n",
      "chunk:  60%|███████████████████████████████████████▎                         | 26/43 [04:31<02:57, 10.43s/it, now=None]\n",
      "\n",
      "chunk:  60%|███████████████████████████████████████▎                         | 26/43 [02:46<01:48,  6.41s/it, now=None]\u001b[A\u001b[A\n",
      "chunk:  60%|███████████████████████████████████████▎                         | 26/43 [04:19<02:49,  9.98s/it, now=None]\u001b[A"
     ]
    },
    {
     "name": "stdout",
     "output_type": "stream",
     "text": [
      "MoviePy - Done.\n"
     ]
    },
    {
     "name": "stderr",
     "output_type": "stream",
     "text": [
      "                                                                                                                       \n",
      "\n",
      "\u001b[A\u001b[A                                                                                                                 \n",
      "chunk:  60%|███████████████████████████████████████▎                         | 26/43 [04:31<02:57, 10.44s/it, now=None]\n",
      "\n",
      "chunk:  60%|███████████████████████████████████████▎                         | 26/43 [02:46<01:49,  6.42s/it, now=None]\u001b[A\u001b[A\n",
      "chunk:  60%|███████████████████████████████████████▎                         | 26/43 [04:19<02:49,  9.99s/it, now=None]\u001b[A"
     ]
    },
    {
     "name": "stdout",
     "output_type": "stream",
     "text": [
      "MoviePy - Writing audio in C:\\Users\\D priyanka\\Downloads\\pri_data\\audio\\7.mp4\n"
     ]
    },
    {
     "name": "stderr",
     "output_type": "stream",
     "text": [
      "\n",
      "\n",
      "\n",
      "chunk:   0%|                                                                          | 0/32 [00:00<?, ?it/s, now=None]\u001b[A\u001b[A\u001b[A\n",
      "\n",
      "\n",
      "                                                                                                                       \u001b[A\u001b[A\u001b[A\n",
      "\n",
      "\u001b[A\u001b[A                                                                                                                 \n",
      "chunk:  60%|███████████████████████████████████████▎                         | 26/43 [04:31<02:57, 10.45s/it, now=None]\n",
      "\n",
      "chunk:  60%|███████████████████████████████████████▎                         | 26/43 [02:47<01:49,  6.43s/it, now=None]\u001b[A\u001b[A\n",
      "chunk:  60%|███████████████████████████████████████▎                         | 26/43 [04:19<02:49, 10.00s/it, now=None]\u001b[A"
     ]
    },
    {
     "name": "stdout",
     "output_type": "stream",
     "text": [
      "MoviePy - Done.\n"
     ]
    },
    {
     "name": "stderr",
     "output_type": "stream",
     "text": [
      "                                                                                                                       \n",
      "\n",
      "\u001b[A\u001b[A                                                                                                                 \n",
      "chunk:  60%|███████████████████████████████████████▎                         | 26/43 [04:32<02:57, 10.46s/it, now=None]\n",
      "\n",
      "chunk:  60%|███████████████████████████████████████▎                         | 26/43 [02:47<01:49,  6.44s/it, now=None]\u001b[A\u001b[A\n",
      "chunk:  60%|███████████████████████████████████████▎                         | 26/43 [04:20<02:50, 10.01s/it, now=None]\u001b[A"
     ]
    },
    {
     "name": "stdout",
     "output_type": "stream",
     "text": [
      "MoviePy - Writing audio in C:\\Users\\D priyanka\\Downloads\\pri_data\\audio\\8.mp4\n"
     ]
    },
    {
     "name": "stderr",
     "output_type": "stream",
     "text": [
      "\n",
      "\n",
      "\n",
      "chunk:   0%|                                                                          | 0/46 [00:00<?, ?it/s, now=None]\u001b[A\u001b[A\u001b[A\n",
      "\n",
      "\n",
      "chunk:  83%|████████████████████████████████████████████████████▊           | 38/46 [00:00<00:00, 359.72it/s, now=None]\u001b[A\u001b[A\u001b[A\n",
      "\n",
      "\n",
      "                                                                                                                       \u001b[A\u001b[A\u001b[A\n",
      "\n",
      "\u001b[A\u001b[A                                                                                                                 \n",
      "chunk:  60%|███████████████████████████████████████▎                         | 26/43 [04:32<02:57, 10.47s/it, now=None]\n",
      "\n",
      "chunk:  60%|███████████████████████████████████████▎                         | 26/43 [02:47<01:49,  6.45s/it, now=None]\u001b[A\u001b[A\n",
      "chunk:  60%|███████████████████████████████████████▎                         | 26/43 [04:20<02:50, 10.02s/it, now=None]\u001b[A"
     ]
    },
    {
     "name": "stdout",
     "output_type": "stream",
     "text": [
      "MoviePy - Done.\n"
     ]
    },
    {
     "name": "stderr",
     "output_type": "stream",
     "text": [
      "                                                                                                                       \n",
      "\n",
      "\u001b[A\u001b[A                                                                                                                 \n",
      "chunk:  60%|███████████████████████████████████████▎                         | 26/43 [04:32<02:58, 10.48s/it, now=None]\n",
      "\n",
      "chunk:  60%|███████████████████████████████████████▎                         | 26/43 [02:48<01:49,  6.47s/it, now=None]\u001b[A\u001b[A\n",
      "chunk:  60%|███████████████████████████████████████▎                         | 26/43 [04:20<02:50, 10.04s/it, now=None]\u001b[A"
     ]
    },
    {
     "name": "stdout",
     "output_type": "stream",
     "text": [
      "MoviePy - Writing audio in C:\\Users\\D priyanka\\Downloads\\pri_data\\audio\\9.mp4\n"
     ]
    },
    {
     "name": "stderr",
     "output_type": "stream",
     "text": [
      "\n",
      "\n",
      "\n",
      "chunk:   0%|                                                                          | 0/35 [00:00<?, ?it/s, now=None]\u001b[A\u001b[A\u001b[A\n",
      "\n",
      "\n",
      "chunk:   9%|█████▋                                                            | 3/35 [00:00<00:01, 29.98it/s, now=None]\u001b[A\u001b[A\u001b[A\n",
      "\n",
      "\n",
      "                                                                                                                       \u001b[A\u001b[A\u001b[A\n",
      "\n",
      "\u001b[A\u001b[A                                                                                                                 \n",
      "chunk:  60%|███████████████████████████████████████▎                         | 26/43 [04:32<02:58, 10.49s/it, now=None]\n",
      "\n",
      "chunk:  60%|███████████████████████████████████████▎                         | 26/43 [02:48<01:50,  6.47s/it, now=None]\u001b[A\u001b[A\n",
      "chunk:  60%|███████████████████████████████████████▎                         | 26/43 [04:21<02:50, 10.04s/it, now=None]\u001b[A"
     ]
    },
    {
     "name": "stdout",
     "output_type": "stream",
     "text": [
      "MoviePy - Done.\n"
     ]
    }
   ],
   "source": [
    "import os\n",
    "from moviepy.editor import VideoFileClip\n",
    "\n",
    "def extract_audio_from_video(video_path, audio_output_path):\n",
    "    video_clip = VideoFileClip(video_path)\n",
    "    # Extract the audio\n",
    "    audio_clip = video_clip.audio\n",
    "    # Save the audio to a new file with the default codec for WAV files\n",
    "    audio_clip.write_audiofile(audio_output_path, codec='libmp3lame')\n",
    "    # Close the video clip\n",
    "    video_clip.close()\n",
    "\n",
    "# Example usage:\n",
    "video_folder = os.path.join(os.getcwd(),\"pri_data\",\"videos\")  # Replace with the path to your video folder\n",
    "\n",
    "for file in os.listdir(video_folder):\n",
    "    if file.endswith(\".mp4\"):\n",
    "        video_path = os.path.join(video_folder, file)\n",
    "        audio_output_folder = os.path.join(os.getcwd(),\"pri_data\",\"audio\") # Replace with the path to the output folder for audio\n",
    "        if not os.path.exists(audio_output_folder):\n",
    "            os.makedirs(audio_output_folder)\n",
    "        audio_output_path = os.path.join(audio_output_folder, file.replace(\".mpg\", \".wav\"))\n",
    "        extract_audio_from_video(video_path, audio_output_path)"
   ]
  },
  {
   "cell_type": "markdown",
   "id": "bb2c2403",
   "metadata": {},
   "source": [
    "# extracting text from each audio"
   ]
  },
  {
   "cell_type": "code",
   "execution_count": 38,
   "id": "ec25707a",
   "metadata": {
    "scrolled": true
   },
   "outputs": [
    {
     "name": "stdout",
     "output_type": "stream",
     "text": [
      "Transcript: hi everyone\n",
      "Transcript: let's get started with the item number 1\n",
      "Transcript: look at the sky\n",
      "Transcript: just recently somebody asked me\n",
      "Transcript: yesterday where are you going\n",
      "Google Speech Recognition could not understand the audio\n",
      "Transcript: let's start with the first one on the list\n",
      "Transcript: present perfect is used for actions that are completed\n",
      "Transcript: so I'll give you an example\n",
      "Transcript: I had learnt English\n",
      "Transcript: speaking something be it\n",
      "Transcript: let's move on to the next category of simple past tense\n",
      "Transcript: he had worked at the restaurant for 2 years before he quit\n",
      "Transcript: he had been working at the restaurant for 3 months before he got promoted\n",
      "Transcript: we do not think about these tenses\n",
      "Transcript: hi everyone I am Al\n",
      "Transcript: I am not a certified train\n",
      "Transcript: she used to speak\n",
      "Transcript: if you're using fancy words but your expression is lost\n",
      "Transcript: and who better than English authors to do that\n",
      "Transcript: it wasn't that I was flawless I was not\n",
      "Transcript: I don't like\n",
      "Transcript: choose what you want to learn\n",
      "Transcript: and these things come very natura\n",
      "Transcript: so what I do is I will not De\n",
      "Transcript: I want to say something and I'm gonna be very\n",
      "Transcript: difficult to find a person\n",
      "Transcript: we are a\n",
      "Transcript: so I feel\n"
     ]
    }
   ],
   "source": [
    "import os\n",
    "import speech_recognition as sr\n",
    "\n",
    "def speech_to_text(audio_folder):\n",
    "    recognizer = sr.Recognizer()\n",
    "    transcripts = {}\n",
    "    for filename in os.listdir(audio_folder):\n",
    "        if filename.lower().endswith(('.mp3', '.wav', '.flac', '.ogg', '.m4a')):\n",
    "            file_path = os.path.join(audio_folder, filename)\n",
    "            with sr.AudioFile(file_path) as source:\n",
    "                audio = recognizer.record(source)\n",
    "            try:\n",
    "                transcript = recognizer.recognize_google(audio)\n",
    "                audio_output_path = os.path.join(audio_folder, filename.replace(\".wav\", \".txt\"))\n",
    "                with open(audio_output_path,\"w\") as f:\n",
    "                    f.write(\"\\n\")\n",
    "                    f.write(transcript)\n",
    "                transcripts[filename] = transcript\n",
    "                print(f\"Transcript: {transcript}\")\n",
    "            except sr.UnknownValueError:\n",
    "                print(\"Google Speech Recognition could not understand the audio\")\n",
    "            except sr.RequestError as e:\n",
    "                print(f\"Could not request results from Google Speech Recognition service; {e}\")\n",
    "    return transcripts\n",
    "# Example usage:\n",
    "audio_folder = os.path.join(os.getcwd(),\"pri_data\", \"audio\")\n",
    "trans = speech_to_text(audio_folder)    "
   ]
  },
  {
   "cell_type": "code",
   "execution_count": 5,
   "id": "8f3d9f8e",
   "metadata": {},
   "outputs": [],
   "source": [
    "class SimpleTokenizer:\n",
    "    def __init__(self, vocab):\n",
    "        self.vocab = vocab\n",
    "        self.token_to_index = {token: index for index, token in enumerate(vocab)}\n",
    "        self.index_to_token = {index: token for token, index in self.token_to_index.items()}\n",
    "        \n",
    "    def text_to_numerical(self, text):\n",
    "        numerical_rep = [self.token_to_index.get(char, self.token_to_index['<unk>']) for char in text]\n",
    "        return numerical_rep\n",
    "\n",
    "    def numerical_to_text(self, numerical_rep):\n",
    "        text = [self.index_to_token.get(index, '<unk>') for index in numerical_rep]\n",
    "        return ''.join(text)\n",
    "\n",
    "# Define your vocabulary\n",
    "vocab = [x for x in \"abcdefghijklmnopqrstuvwxyz'?!123456789 \"]\n",
    "\n",
    "# Initialize the tokenizer\n",
    "tokenizer = SimpleTokenizer(vocab)\n"
   ]
  },
  {
   "cell_type": "markdown",
   "id": "51756006",
   "metadata": {},
   "source": [
    "# converting text to numeric form"
   ]
  },
  {
   "cell_type": "code",
   "execution_count": 39,
   "id": "65837d43",
   "metadata": {},
   "outputs": [],
   "source": [
    "def text_to_numerical(text):\n",
    "    numerical_rep = [ord(char) for char in text]\n",
    "    return numerical_rep\n",
    "def numerical_to_text(numerical_rep):\n",
    "    text = ''.join([chr(num) for num in numerical_rep])\n",
    "    return text"
   ]
  },
  {
   "cell_type": "markdown",
   "id": "604a369a",
   "metadata": {},
   "source": [
    "# extracting text features, audio features and image features from each video"
   ]
  },
  {
   "cell_type": "code",
   "execution_count": 47,
   "id": "fe1c04ab",
   "metadata": {},
   "outputs": [
    {
     "name": "stdout",
     "output_type": "stream",
     "text": [
      "1/1 [==============================] - 0s 141ms/step\n",
      "1/1 [==============================] - 0s 36ms/step\n"
     ]
    },
    {
     "name": "stderr",
     "output_type": "stream",
     "text": [
      "                                                                                                                       \n",
      "\n",
      "\u001b[A\u001b[A                                                                                                                 \n",
      "chunk:  60%|██████████████████████████████████▍                      | 26/43 [15:44:18<10:17:25, 2179.17s/it, now=None]\n",
      "\n",
      "chunk:  60%|██████████████████████████████████▍                      | 26/43 [15:42:34<10:16:17, 2175.15s/it, now=None]\u001b[A\u001b[A\n",
      "chunk:  60%|██████████████████████████████████▍                      | 26/43 [15:44:06<10:17:18, 2178.72s/it, now=None]\u001b[A"
     ]
    },
    {
     "name": "stdout",
     "output_type": "stream",
     "text": [
      "MoviePy - Writing audio in temp_audio.wav\n"
     ]
    },
    {
     "name": "stderr",
     "output_type": "stream",
     "text": [
      "\n",
      "\n",
      "\n",
      "chunk:   0%|                                                                          | 0/27 [00:00<?, ?it/s, now=None]\u001b[A\u001b[A\u001b[A\n",
      "\n",
      "\n",
      "                                                                                                                       \u001b[A\u001b[A\u001b[A\n",
      "\n",
      "\u001b[A\u001b[A                                                                                                                 \n",
      "chunk:  60%|██████████████████████████████████▍                      | 26/43 [15:44:18<10:17:26, 2179.18s/it, now=None]\n",
      "\n",
      "chunk:  60%|██████████████████████████████████▍                      | 26/43 [15:42:34<10:16:17, 2175.16s/it, now=None]\u001b[A\u001b[A\n",
      "chunk:  60%|██████████████████████████████████▍                      | 26/43 [15:44:06<10:17:18, 2178.73s/it, now=None]\u001b[A"
     ]
    },
    {
     "name": "stdout",
     "output_type": "stream",
     "text": [
      "MoviePy - Done.\n"
     ]
    },
    {
     "name": "stderr",
     "output_type": "stream",
     "text": [
      "                                                                                                                       \n",
      "\n",
      "\u001b[A\u001b[A                                                                                                                 \n",
      "chunk:  60%|██████████████████████████████████▍                      | 26/43 [15:44:18<10:17:26, 2179.19s/it, now=None]\n",
      "\n",
      "chunk:  60%|██████████████████████████████████▍                      | 26/43 [15:42:34<10:16:17, 2175.17s/it, now=None]\u001b[A\u001b[A\n",
      "chunk:  60%|██████████████████████████████████▍                      | 26/43 [15:44:07<10:17:18, 2178.74s/it, now=None]\u001b[A"
     ]
    },
    {
     "name": "stdout",
     "output_type": "stream",
     "text": [
      "MoviePy - Writing audio in temp.wav\n"
     ]
    },
    {
     "name": "stderr",
     "output_type": "stream",
     "text": [
      "\n",
      "\n",
      "\n",
      "chunk:   0%|                                                                          | 0/14 [00:00<?, ?it/s, now=None]\u001b[A\u001b[A\u001b[A\n",
      "\n",
      "\n",
      "                                                                                                                       \u001b[A\u001b[A\u001b[A\n",
      "\n",
      "\u001b[A\u001b[A                                                                                                                 \n",
      "chunk:  60%|██████████████████████████████████▍                      | 26/43 [15:44:19<10:17:26, 2179.20s/it, now=None]\n",
      "\n",
      "chunk:  60%|██████████████████████████████████▍                      | 26/43 [15:42:34<10:16:17, 2175.18s/it, now=None]\u001b[A\u001b[A\n",
      "chunk:  60%|██████████████████████████████████▍                      | 26/43 [15:44:07<10:17:18, 2178.75s/it, now=None]\u001b[A"
     ]
    },
    {
     "name": "stdout",
     "output_type": "stream",
     "text": [
      "MoviePy - Done.\n",
      "1/1 [==============================] - 0s 47ms/step\n",
      "1/1 [==============================] - 0s 38ms/step\n"
     ]
    },
    {
     "name": "stderr",
     "output_type": "stream",
     "text": [
      "                                                                                                                       \n",
      "\n",
      "\u001b[A\u001b[A                                                                                                                 \n",
      "chunk:  60%|██████████████████████████████████▍                      | 26/43 [15:44:20<10:17:27, 2179.25s/it, now=None]\n",
      "\n",
      "chunk:  60%|██████████████████████████████████▍                      | 26/43 [15:42:35<10:16:18, 2175.23s/it, now=None]\u001b[A\u001b[A\n",
      "chunk:  60%|██████████████████████████████████▍                      | 26/43 [15:44:08<10:17:19, 2178.80s/it, now=None]\u001b[A"
     ]
    },
    {
     "name": "stdout",
     "output_type": "stream",
     "text": [
      "MoviePy - Writing audio in temp_audio.wav\n"
     ]
    },
    {
     "name": "stderr",
     "output_type": "stream",
     "text": [
      "\n",
      "\n",
      "\n",
      "chunk:   0%|                                                                          | 0/43 [00:00<?, ?it/s, now=None]\u001b[A\u001b[A\u001b[A\n",
      "\n",
      "\n",
      "                                                                                                                       \u001b[A\u001b[A\u001b[A\n",
      "\n",
      "\u001b[A\u001b[A                                                                                                                 \n",
      "chunk:  60%|██████████████████████████████████▍                      | 26/43 [15:44:20<10:17:27, 2179.25s/it, now=None]\n",
      "\n",
      "chunk:  60%|██████████████████████████████████▍                      | 26/43 [15:42:36<10:16:18, 2175.23s/it, now=None]\u001b[A\u001b[A\n",
      "chunk:  60%|██████████████████████████████████▍                      | 26/43 [15:44:08<10:17:19, 2178.80s/it, now=None]\u001b[A"
     ]
    },
    {
     "name": "stdout",
     "output_type": "stream",
     "text": [
      "MoviePy - Done.\n"
     ]
    },
    {
     "name": "stderr",
     "output_type": "stream",
     "text": [
      "                                                                                                                       \n",
      "\n",
      "\u001b[A\u001b[A                                                                                                                 \n",
      "chunk:  60%|██████████████████████████████████▍                      | 26/43 [15:44:20<10:17:27, 2179.27s/it, now=None]\n",
      "\n",
      "chunk:  60%|██████████████████████████████████▍                      | 26/43 [15:42:36<10:16:19, 2175.25s/it, now=None]\u001b[A\u001b[A\n",
      "chunk:  60%|██████████████████████████████████▍                      | 26/43 [15:44:09<10:17:19, 2178.82s/it, now=None]\u001b[A"
     ]
    },
    {
     "name": "stdout",
     "output_type": "stream",
     "text": [
      "MoviePy - Writing audio in temp.wav\n"
     ]
    },
    {
     "name": "stderr",
     "output_type": "stream",
     "text": [
      "\n",
      "\n",
      "\n",
      "chunk:   0%|                                                                          | 0/22 [00:00<?, ?it/s, now=None]\u001b[A\u001b[A\u001b[A\n",
      "\n",
      "\n",
      "                                                                                                                       \u001b[A\u001b[A\u001b[A\n",
      "\n",
      "\u001b[A\u001b[A                                                                                                                 \n",
      "chunk:  60%|██████████████████████████████████▍                      | 26/43 [15:44:21<10:17:27, 2179.27s/it, now=None]\n",
      "\n",
      "chunk:  60%|██████████████████████████████████▍                      | 26/43 [15:42:36<10:16:19, 2175.25s/it, now=None]\u001b[A\u001b[A\n",
      "chunk:  60%|██████████████████████████████████▍                      | 26/43 [15:44:09<10:17:19, 2178.82s/it, now=None]\u001b[A"
     ]
    },
    {
     "name": "stdout",
     "output_type": "stream",
     "text": [
      "MoviePy - Done.\n",
      "1/1 [==============================] - 0s 31ms/step\n",
      "1/1 [==============================] - 0s 31ms/step\n"
     ]
    },
    {
     "name": "stderr",
     "output_type": "stream",
     "text": [
      "                                                                                                                       \n",
      "\n",
      "\u001b[A\u001b[A                                                                                                                 \n",
      "chunk:  60%|██████████████████████████████████▍                      | 26/43 [15:44:22<10:17:28, 2179.34s/it, now=None]\n",
      "\n",
      "chunk:  60%|██████████████████████████████████▍                      | 26/43 [15:42:38<10:16:20, 2175.32s/it, now=None]\u001b[A\u001b[A\n",
      "chunk:  60%|██████████████████████████████████▍                      | 26/43 [15:44:11<10:17:21, 2178.89s/it, now=None]\u001b[A"
     ]
    },
    {
     "name": "stdout",
     "output_type": "stream",
     "text": [
      "MoviePy - Writing audio in temp_audio.wav\n"
     ]
    },
    {
     "name": "stderr",
     "output_type": "stream",
     "text": [
      "\n",
      "\n",
      "\n",
      "chunk:   0%|                                                                          | 0/50 [00:00<?, ?it/s, now=None]\u001b[A\u001b[A\u001b[A\n",
      "\n",
      "\n",
      "                                                                                                                       \u001b[A\u001b[A\u001b[A\n",
      "\n",
      "\u001b[A\u001b[A                                                                                                                 \n",
      "chunk:  60%|██████████████████████████████████▍                      | 26/43 [15:44:23<10:17:28, 2179.35s/it, now=None]\n",
      "\n",
      "chunk:  60%|██████████████████████████████████▍                      | 26/43 [15:42:38<10:16:20, 2175.33s/it, now=None]\u001b[A\u001b[A\n",
      "chunk:  60%|██████████████████████████████████▍                      | 26/43 [15:44:11<10:17:21, 2178.90s/it, now=None]\u001b[A"
     ]
    },
    {
     "name": "stdout",
     "output_type": "stream",
     "text": [
      "MoviePy - Done.\n"
     ]
    },
    {
     "name": "stderr",
     "output_type": "stream",
     "text": [
      "                                                                                                                       \n",
      "\n",
      "\u001b[A\u001b[A                                                                                                                 \n",
      "chunk:  60%|██████████████████████████████████▍                      | 26/43 [15:44:23<10:17:29, 2179.36s/it, now=None]\n",
      "\n",
      "chunk:  60%|██████████████████████████████████▍                      | 26/43 [15:42:38<10:16:20, 2175.34s/it, now=None]\u001b[A\u001b[A\n",
      "chunk:  60%|██████████████████████████████████▍                      | 26/43 [15:44:11<10:17:21, 2178.91s/it, now=None]\u001b[A"
     ]
    },
    {
     "name": "stdout",
     "output_type": "stream",
     "text": [
      "MoviePy - Writing audio in temp.wav\n"
     ]
    },
    {
     "name": "stderr",
     "output_type": "stream",
     "text": [
      "\n",
      "\n",
      "\n",
      "chunk:   0%|                                                                          | 0/25 [00:00<?, ?it/s, now=None]\u001b[A\u001b[A\u001b[A\n",
      "\n",
      "\n",
      "                                                                                                                       \u001b[A\u001b[A\u001b[A\n",
      "\n",
      "\u001b[A\u001b[A                                                                                                                 \n",
      "chunk:  60%|██████████████████████████████████▍                      | 26/43 [15:44:23<10:17:29, 2179.37s/it, now=None]\n",
      "\n",
      "chunk:  60%|██████████████████████████████████▍                      | 26/43 [15:42:39<10:16:20, 2175.35s/it, now=None]\u001b[A\u001b[A\n",
      "chunk:  60%|██████████████████████████████████▍                      | 26/43 [15:44:11<10:17:21, 2178.92s/it, now=None]\u001b[A"
     ]
    },
    {
     "name": "stdout",
     "output_type": "stream",
     "text": [
      "MoviePy - Done.\n",
      "1/1 [==============================] - 0s 31ms/step\n",
      "1/1 [==============================] - 0s 34ms/step\n"
     ]
    },
    {
     "name": "stderr",
     "output_type": "stream",
     "text": [
      "                                                                                                                       \n",
      "\n",
      "\u001b[A\u001b[A                                                                                                                 \n",
      "chunk:  60%|██████████████████████████████████▍                      | 26/43 [15:44:25<10:17:30, 2179.44s/it, now=None]\n",
      "\n",
      "chunk:  60%|██████████████████████████████████▍                      | 26/43 [15:42:40<10:16:22, 2175.42s/it, now=None]\u001b[A\u001b[A\n",
      "chunk:  60%|██████████████████████████████████▍                      | 26/43 [15:44:13<10:17:22, 2178.99s/it, now=None]\u001b[A"
     ]
    },
    {
     "name": "stdout",
     "output_type": "stream",
     "text": [
      "MoviePy - Writing audio in temp_audio.wav\n"
     ]
    },
    {
     "name": "stderr",
     "output_type": "stream",
     "text": [
      "\n",
      "\n",
      "\n",
      "chunk:   0%|                                                                          | 0/60 [00:00<?, ?it/s, now=None]\u001b[A\u001b[A\u001b[A\n",
      "\n",
      "\n",
      "                                                                                                                       \u001b[A\u001b[A\u001b[A\n",
      "\n",
      "\u001b[A\u001b[A                                                                                                                 \n",
      "chunk:  60%|██████████████████████████████████▍                      | 26/43 [15:44:25<10:17:30, 2179.44s/it, now=None]\n",
      "\n",
      "chunk:  60%|██████████████████████████████████▍                      | 26/43 [15:42:41<10:16:22, 2175.43s/it, now=None]\u001b[A\u001b[A\n",
      "chunk:  60%|██████████████████████████████████▍                      | 26/43 [15:44:13<10:17:22, 2178.99s/it, now=None]\u001b[A"
     ]
    },
    {
     "name": "stdout",
     "output_type": "stream",
     "text": [
      "MoviePy - Done.\n"
     ]
    },
    {
     "name": "stderr",
     "output_type": "stream",
     "text": [
      "                                                                                                                       \n",
      "\n",
      "\u001b[A\u001b[A                                                                                                                 \n",
      "chunk:  60%|██████████████████████████████████▍                      | 26/43 [15:44:26<10:17:30, 2179.46s/it, now=None]\n",
      "\n",
      "chunk:  60%|██████████████████████████████████▍                      | 26/43 [15:42:41<10:16:22, 2175.44s/it, now=None]\u001b[A\u001b[A\n",
      "chunk:  60%|██████████████████████████████████▍                      | 26/43 [15:44:14<10:17:23, 2179.01s/it, now=None]\u001b[A"
     ]
    },
    {
     "name": "stdout",
     "output_type": "stream",
     "text": [
      "MoviePy - Writing audio in temp.wav\n"
     ]
    },
    {
     "name": "stderr",
     "output_type": "stream",
     "text": [
      "\n",
      "\n",
      "\n",
      "chunk:   0%|                                                                          | 0/30 [00:00<?, ?it/s, now=None]\u001b[A\u001b[A\u001b[A\n",
      "\n",
      "\n",
      "chunk:  20%|█████████████▏                                                    | 6/30 [00:00<00:00, 59.64it/s, now=None]\u001b[A\u001b[A\u001b[A\n",
      "\n",
      "\n",
      "                                                                                                                       \u001b[A\u001b[A\u001b[A\n",
      "\n",
      "\u001b[A\u001b[A                                                                                                                 \n",
      "chunk:  60%|██████████████████████████████████▍                      | 26/43 [15:44:26<10:17:30, 2179.47s/it, now=None]\n",
      "\n",
      "chunk:  60%|██████████████████████████████████▍                      | 26/43 [15:42:41<10:16:22, 2175.45s/it, now=None]\u001b[A\u001b[A\n",
      "chunk:  60%|██████████████████████████████████▍                      | 26/43 [15:44:14<10:17:23, 2179.02s/it, now=None]\u001b[A"
     ]
    },
    {
     "name": "stdout",
     "output_type": "stream",
     "text": [
      "MoviePy - Done.\n",
      "1/1 [==============================] - 0s 44ms/step\n",
      "1/1 [==============================] - 0s 26ms/step\n"
     ]
    },
    {
     "name": "stderr",
     "output_type": "stream",
     "text": [
      "                                                                                                                       \n",
      "\n",
      "\u001b[A\u001b[A                                                                                                                 \n",
      "chunk:  60%|██████████████████████████████████▍                      | 26/43 [15:44:27<10:17:32, 2179.54s/it, now=None]\n",
      "\n",
      "chunk:  60%|██████████████████████████████████▍                      | 26/43 [15:42:43<10:16:23, 2175.52s/it, now=None]\u001b[A\u001b[A\n",
      "chunk:  60%|██████████████████████████████████▍                      | 26/43 [15:44:16<10:17:24, 2179.09s/it, now=None]\u001b[A"
     ]
    },
    {
     "name": "stdout",
     "output_type": "stream",
     "text": [
      "MoviePy - Writing audio in temp_audio.wav\n"
     ]
    },
    {
     "name": "stderr",
     "output_type": "stream",
     "text": [
      "\n",
      "\n",
      "\n",
      "chunk:   0%|                                                                          | 0/55 [00:00<?, ?it/s, now=None]\u001b[A\u001b[A\u001b[A\n",
      "\n",
      "\n",
      "                                                                                                                       \u001b[A\u001b[A\u001b[A\n",
      "\n",
      "\u001b[A\u001b[A                                                                                                                 \n",
      "chunk:  60%|██████████████████████████████████▍                      | 26/43 [15:44:28<10:17:32, 2179.54s/it, now=None]\n",
      "\n",
      "chunk:  60%|██████████████████████████████████▍                      | 26/43 [15:42:43<10:16:23, 2175.52s/it, now=None]\u001b[A\u001b[A\n",
      "chunk:  60%|██████████████████████████████████▍                      | 26/43 [15:44:16<10:17:24, 2179.09s/it, now=None]\u001b[A"
     ]
    },
    {
     "name": "stdout",
     "output_type": "stream",
     "text": [
      "MoviePy - Done.\n"
     ]
    },
    {
     "name": "stderr",
     "output_type": "stream",
     "text": [
      "                                                                                                                       \n",
      "\n",
      "\u001b[A\u001b[A                                                                                                                 \n",
      "chunk:  60%|██████████████████████████████████▍                      | 26/43 [15:44:28<10:17:32, 2179.55s/it, now=None]\n",
      "\n",
      "chunk:  60%|██████████████████████████████████▍                      | 26/43 [15:42:43<10:16:24, 2175.54s/it, now=None]\u001b[A\u001b[A\n",
      "chunk:  60%|██████████████████████████████████▍                      | 26/43 [15:44:16<10:17:24, 2179.10s/it, now=None]\u001b[A"
     ]
    },
    {
     "name": "stdout",
     "output_type": "stream",
     "text": [
      "MoviePy - Writing audio in temp.wav\n"
     ]
    },
    {
     "name": "stderr",
     "output_type": "stream",
     "text": [
      "\n",
      "\n",
      "\n",
      "chunk:   0%|                                                                          | 0/28 [00:00<?, ?it/s, now=None]\u001b[A\u001b[A\u001b[A\n",
      "\n",
      "\n",
      "                                                                                                                       \u001b[A\u001b[A\u001b[A\n",
      "\n",
      "\u001b[A\u001b[A                                                                                                                 \n",
      "chunk:  60%|██████████████████████████████████▍                      | 26/43 [15:44:28<10:17:32, 2179.56s/it, now=None]\n",
      "\n",
      "chunk:  60%|██████████████████████████████████▍                      | 26/43 [15:42:44<10:16:24, 2175.54s/it, now=None]\u001b[A\u001b[A\n",
      "chunk:  60%|██████████████████████████████████▍                      | 26/43 [15:44:16<10:17:24, 2179.11s/it, now=None]\u001b[A"
     ]
    },
    {
     "name": "stdout",
     "output_type": "stream",
     "text": [
      "MoviePy - Done.\n",
      "Google Speech Recognition could not understand the audio\n",
      "1/1 [==============================] - 0s 47ms/step\n",
      "1/1 [==============================] - 0s 40ms/step\n"
     ]
    },
    {
     "name": "stderr",
     "output_type": "stream",
     "text": [
      "                                                                                                                       \n",
      "\n",
      "\u001b[A\u001b[A                                                                                                                 \n",
      "chunk:  60%|██████████████████████████████████▍                      | 26/43 [15:44:30<10:17:33, 2179.64s/it, now=None]\n",
      "\n",
      "chunk:  60%|██████████████████████████████████▍                      | 26/43 [15:42:46<10:16:25, 2175.62s/it, now=None]\u001b[A\u001b[A\n",
      "chunk:  60%|██████████████████████████████████▍                      | 26/43 [15:44:18<10:17:26, 2179.19s/it, now=None]\u001b[A"
     ]
    },
    {
     "name": "stdout",
     "output_type": "stream",
     "text": [
      "MoviePy - Writing audio in temp_audio.wav\n"
     ]
    },
    {
     "name": "stderr",
     "output_type": "stream",
     "text": [
      "\n",
      "\n",
      "\n",
      "chunk:   0%|                                                                          | 0/57 [00:00<?, ?it/s, now=None]\u001b[A\u001b[A\u001b[A\n",
      "\n",
      "\n",
      "                                                                                                                       \u001b[A\u001b[A\u001b[A\n",
      "\n",
      "\u001b[A\u001b[A                                                                                                                 \n",
      "chunk:  60%|██████████████████████████████████▍                      | 26/43 [15:44:30<10:17:33, 2179.64s/it, now=None]\n",
      "\n",
      "chunk:  60%|██████████████████████████████████▍                      | 26/43 [15:42:46<10:16:25, 2175.62s/it, now=None]\u001b[A\u001b[A\n",
      "chunk:  60%|██████████████████████████████████▍                      | 26/43 [15:44:18<10:17:26, 2179.19s/it, now=None]\u001b[A"
     ]
    },
    {
     "name": "stdout",
     "output_type": "stream",
     "text": [
      "MoviePy - Done.\n"
     ]
    },
    {
     "name": "stderr",
     "output_type": "stream",
     "text": [
      "                                                                                                                       \n",
      "\n",
      "\u001b[A\u001b[A                                                                                                                 \n",
      "chunk:  60%|██████████████████████████████████▍                      | 26/43 [15:44:31<10:17:34, 2179.66s/it, now=None]\n",
      "\n",
      "chunk:  60%|██████████████████████████████████▍                      | 26/43 [15:42:46<10:16:25, 2175.64s/it, now=None]\u001b[A\u001b[A\n",
      "chunk:  60%|██████████████████████████████████▍                      | 26/43 [15:44:19<10:17:26, 2179.21s/it, now=None]\u001b[A"
     ]
    },
    {
     "name": "stdout",
     "output_type": "stream",
     "text": [
      "MoviePy - Writing audio in temp.wav\n"
     ]
    },
    {
     "name": "stderr",
     "output_type": "stream",
     "text": [
      "\n",
      "\n",
      "\n",
      "chunk:   0%|                                                                          | 0/29 [00:00<?, ?it/s, now=None]\u001b[A\u001b[A\u001b[A\n",
      "\n",
      "\n",
      "                                                                                                                       \u001b[A\u001b[A\u001b[A\n",
      "\n",
      "\u001b[A\u001b[A                                                                                                                 \n",
      "chunk:  60%|██████████████████████████████████▍                      | 26/43 [15:44:31<10:17:34, 2179.66s/it, now=None]\n",
      "\n",
      "chunk:  60%|██████████████████████████████████▍                      | 26/43 [15:42:46<10:16:25, 2175.64s/it, now=None]\u001b[A\u001b[A\n",
      "chunk:  60%|██████████████████████████████████▍                      | 26/43 [15:44:19<10:17:26, 2179.21s/it, now=None]\u001b[A"
     ]
    },
    {
     "name": "stdout",
     "output_type": "stream",
     "text": [
      "MoviePy - Done.\n",
      "1/1 [==============================] - 0s 40ms/step\n",
      "1/1 [==============================] - 0s 32ms/step\n"
     ]
    },
    {
     "name": "stderr",
     "output_type": "stream",
     "text": [
      "                                                                                                                       \n",
      "\n",
      "\u001b[A\u001b[A                                                                                                                 \n",
      "chunk:  60%|██████████████████████████████████▍                      | 26/43 [15:44:33<10:17:35, 2179.74s/it, now=None]\n",
      "\n",
      "chunk:  60%|██████████████████████████████████▍                      | 26/43 [15:42:48<10:16:27, 2175.72s/it, now=None]\u001b[A\u001b[A\n",
      "chunk:  60%|██████████████████████████████████▍                      | 26/43 [15:44:21<10:17:27, 2179.29s/it, now=None]\u001b[A"
     ]
    },
    {
     "name": "stdout",
     "output_type": "stream",
     "text": [
      "MoviePy - Writing audio in temp_audio.wav\n"
     ]
    },
    {
     "name": "stderr",
     "output_type": "stream",
     "text": [
      "\n",
      "\n",
      "\n",
      "chunk:   0%|                                                                         | 0/111 [00:00<?, ?it/s, now=None]\u001b[A\u001b[A\u001b[A\n",
      "\n",
      "\n",
      "                                                                                                                       \u001b[A\u001b[A\u001b[A\n",
      "\n",
      "\u001b[A\u001b[A                                                                                                                 \n",
      "chunk:  60%|██████████████████████████████████▍                      | 26/43 [15:44:33<10:17:35, 2179.75s/it, now=None]\n",
      "\n",
      "chunk:  60%|██████████████████████████████████▍                      | 26/43 [15:42:48<10:16:27, 2175.73s/it, now=None]\u001b[A\u001b[A\n",
      "chunk:  60%|██████████████████████████████████▍                      | 26/43 [15:44:21<10:17:28, 2179.30s/it, now=None]\u001b[A"
     ]
    },
    {
     "name": "stdout",
     "output_type": "stream",
     "text": [
      "MoviePy - Done.\n"
     ]
    },
    {
     "name": "stderr",
     "output_type": "stream",
     "text": [
      "                                                                                                                       \n",
      "\n",
      "\u001b[A\u001b[A                                                                                                                 \n",
      "chunk:  60%|██████████████████████████████████▍                      | 26/43 [15:44:33<10:17:35, 2179.76s/it, now=None]\n",
      "\n",
      "chunk:  60%|██████████████████████████████████▍                      | 26/43 [15:42:49<10:16:27, 2175.74s/it, now=None]\u001b[A\u001b[A\n",
      "chunk:  60%|██████████████████████████████████▍                      | 26/43 [15:44:22<10:17:28, 2179.31s/it, now=None]\u001b[A"
     ]
    },
    {
     "name": "stdout",
     "output_type": "stream",
     "text": [
      "MoviePy - Writing audio in temp.wav\n"
     ]
    },
    {
     "name": "stderr",
     "output_type": "stream",
     "text": [
      "\n",
      "\n",
      "\n",
      "chunk:   0%|                                                                          | 0/56 [00:00<?, ?it/s, now=None]\u001b[A\u001b[A\u001b[A\n",
      "\n",
      "\n",
      "                                                                                                                       \u001b[A\u001b[A\u001b[A\n",
      "\n",
      "\u001b[A\u001b[A                                                                                                                 \n",
      "chunk:  60%|██████████████████████████████████▍                      | 26/43 [15:44:33<10:17:36, 2179.77s/it, now=None]\n",
      "\n",
      "chunk:  60%|██████████████████████████████████▍                      | 26/43 [15:42:49<10:16:27, 2175.75s/it, now=None]\u001b[A\u001b[A\n",
      "chunk:  60%|██████████████████████████████████▍                      | 26/43 [15:44:22<10:17:28, 2179.32s/it, now=None]\u001b[A"
     ]
    },
    {
     "name": "stdout",
     "output_type": "stream",
     "text": [
      "MoviePy - Done.\n",
      "1/1 [==============================] - 0s 38ms/step\n",
      "1/1 [==============================] - 0s 32ms/step\n"
     ]
    },
    {
     "name": "stderr",
     "output_type": "stream",
     "text": [
      "                                                                                                                       \n",
      "\n",
      "\u001b[A\u001b[A                                                                                                                 \n",
      "chunk:  60%|██████████████████████████████████▍                      | 26/43 [15:44:36<10:17:37, 2179.87s/it, now=None]\n",
      "\n",
      "chunk:  60%|██████████████████████████████████▍                      | 26/43 [15:42:52<10:16:29, 2175.85s/it, now=None]\u001b[A\u001b[A\n",
      "chunk:  60%|██████████████████████████████████▍                      | 26/43 [15:44:24<10:17:30, 2179.42s/it, now=None]\u001b[A"
     ]
    },
    {
     "name": "stdout",
     "output_type": "stream",
     "text": [
      "MoviePy - Writing audio in temp_audio.wav\n"
     ]
    },
    {
     "name": "stderr",
     "output_type": "stream",
     "text": [
      "\n",
      "\n",
      "\n",
      "chunk:   0%|                                                                          | 0/42 [00:00<?, ?it/s, now=None]\u001b[A\u001b[A\u001b[A\n",
      "\n",
      "\n",
      "                                                                                                                       \u001b[A\u001b[A\u001b[A\n",
      "\n",
      "\u001b[A\u001b[A                                                                                                                 \n",
      "chunk:  60%|██████████████████████████████████▍                      | 26/43 [15:44:36<10:17:37, 2179.87s/it, now=None]\n",
      "\n",
      "chunk:  60%|██████████████████████████████████▍                      | 26/43 [15:42:52<10:16:29, 2175.85s/it, now=None]\u001b[A\u001b[A\n",
      "chunk:  60%|██████████████████████████████████▍                      | 26/43 [15:44:25<10:17:30, 2179.42s/it, now=None]\u001b[A"
     ]
    },
    {
     "name": "stdout",
     "output_type": "stream",
     "text": [
      "MoviePy - Done.\n"
     ]
    },
    {
     "name": "stderr",
     "output_type": "stream",
     "text": [
      "                                                                                                                       \n",
      "\n",
      "\u001b[A\u001b[A                                                                                                                 \n",
      "chunk:  60%|██████████████████████████████████▍                      | 26/43 [15:44:37<10:17:38, 2179.89s/it, now=None]\n",
      "\n",
      "chunk:  60%|██████████████████████████████████▍                      | 26/43 [15:42:52<10:16:29, 2175.87s/it, now=None]\u001b[A\u001b[A\n",
      "chunk:  60%|██████████████████████████████████▍                      | 26/43 [15:44:25<10:17:30, 2179.44s/it, now=None]\u001b[A"
     ]
    },
    {
     "name": "stdout",
     "output_type": "stream",
     "text": [
      "MoviePy - Writing audio in temp.wav\n"
     ]
    },
    {
     "name": "stderr",
     "output_type": "stream",
     "text": [
      "\n",
      "\n",
      "\n",
      "chunk:   0%|                                                                          | 0/21 [00:00<?, ?it/s, now=None]\u001b[A\u001b[A\u001b[A\n",
      "\n",
      "\n",
      "                                                                                                                       \u001b[A\u001b[A\u001b[A\n",
      "\n",
      "\u001b[A\u001b[A                                                                                                                 \n",
      "chunk:  60%|██████████████████████████████████▍                      | 26/43 [15:44:37<10:17:38, 2179.89s/it, now=None]\n",
      "\n",
      "chunk:  60%|██████████████████████████████████▍                      | 26/43 [15:42:52<10:16:29, 2175.87s/it, now=None]\u001b[A\u001b[A\n",
      "chunk:  60%|██████████████████████████████████▍                      | 26/43 [15:44:25<10:17:30, 2179.44s/it, now=None]\u001b[A"
     ]
    },
    {
     "name": "stdout",
     "output_type": "stream",
     "text": [
      "MoviePy - Done.\n",
      "1/1 [==============================] - 0s 47ms/step\n",
      "1/1 [==============================] - 0s 42ms/step\n"
     ]
    },
    {
     "name": "stderr",
     "output_type": "stream",
     "text": [
      "                                                                                                                       \n",
      "\n",
      "\u001b[A\u001b[A                                                                                                                 \n",
      "chunk:  60%|██████████████████████████████████▍                      | 26/43 [15:44:38<10:17:39, 2179.96s/it, now=None]\n",
      "\n",
      "chunk:  60%|██████████████████████████████████▍                      | 26/43 [15:42:54<10:16:30, 2175.94s/it, now=None]\u001b[A\u001b[A\n",
      "chunk:  60%|██████████████████████████████████▍                      | 26/43 [15:44:27<10:17:31, 2179.51s/it, now=None]\u001b[A"
     ]
    },
    {
     "name": "stdout",
     "output_type": "stream",
     "text": [
      "MoviePy - Writing audio in temp_audio.wav\n"
     ]
    },
    {
     "name": "stderr",
     "output_type": "stream",
     "text": [
      "\n",
      "\n",
      "\n",
      "chunk:   0%|                                                                          | 0/77 [00:00<?, ?it/s, now=None]\u001b[A\u001b[A\u001b[A\n",
      "\n",
      "\n",
      "                                                                                                                       \u001b[A\u001b[A\u001b[A\n",
      "\n",
      "\u001b[A\u001b[A                                                                                                                 \n",
      "chunk:  60%|██████████████████████████████████▍                      | 26/43 [15:44:38<10:17:39, 2179.96s/it, now=None]\n",
      "\n",
      "chunk:  60%|██████████████████████████████████▍                      | 26/43 [15:42:54<10:16:30, 2175.94s/it, now=None]\u001b[A\u001b[A\n",
      "chunk:  60%|██████████████████████████████████▍                      | 26/43 [15:44:27<10:17:31, 2179.51s/it, now=None]\u001b[A"
     ]
    },
    {
     "name": "stdout",
     "output_type": "stream",
     "text": [
      "MoviePy - Done.\n"
     ]
    },
    {
     "name": "stderr",
     "output_type": "stream",
     "text": [
      "                                                                                                                       \n",
      "\n",
      "\u001b[A\u001b[A                                                                                                                 \n",
      "chunk:  60%|██████████████████████████████████▍                      | 26/43 [15:44:39<10:17:39, 2179.97s/it, now=None]\n",
      "\n",
      "chunk:  60%|██████████████████████████████████▍                      | 26/43 [15:42:54<10:16:31, 2175.96s/it, now=None]\u001b[A\u001b[A\n",
      "chunk:  60%|██████████████████████████████████▍                      | 26/43 [15:44:27<10:17:31, 2179.53s/it, now=None]\u001b[A"
     ]
    },
    {
     "name": "stdout",
     "output_type": "stream",
     "text": [
      "MoviePy - Writing audio in temp.wav\n"
     ]
    },
    {
     "name": "stderr",
     "output_type": "stream",
     "text": [
      "\n",
      "\n",
      "\n",
      "chunk:   0%|                                                                          | 0/39 [00:00<?, ?it/s, now=None]\u001b[A\u001b[A\u001b[A\n",
      "\n",
      "\n",
      "                                                                                                                       \u001b[A\u001b[A\u001b[A\n",
      "\n",
      "\u001b[A\u001b[A                                                                                                                 \n",
      "chunk:  60%|██████████████████████████████████▍                      | 26/43 [15:44:39<10:17:39, 2179.98s/it, now=None]\n",
      "\n",
      "chunk:  60%|██████████████████████████████████▍                      | 26/43 [15:42:54<10:16:31, 2175.96s/it, now=None]\u001b[A\u001b[A\n",
      "chunk:  60%|██████████████████████████████████▍                      | 26/43 [15:44:27<10:17:31, 2179.53s/it, now=None]\u001b[A"
     ]
    },
    {
     "name": "stdout",
     "output_type": "stream",
     "text": [
      "MoviePy - Done.\n",
      "1/1 [==============================] - 0s 33ms/step\n",
      "1/1 [==============================] - 0s 48ms/step\n"
     ]
    },
    {
     "name": "stderr",
     "output_type": "stream",
     "text": [
      "                                                                                                                       \n",
      "\n",
      "\u001b[A\u001b[A                                                                                                                 \n",
      "chunk:  60%|██████████████████████████████████▍                      | 26/43 [15:44:41<10:17:40, 2180.05s/it, now=None]\n",
      "\n",
      "chunk:  60%|██████████████████████████████████▍                      | 26/43 [15:42:56<10:16:32, 2176.03s/it, now=None]\u001b[A\u001b[A\n",
      "chunk:  60%|██████████████████████████████████▍                      | 26/43 [15:44:29<10:17:33, 2179.60s/it, now=None]\u001b[A"
     ]
    },
    {
     "name": "stdout",
     "output_type": "stream",
     "text": [
      "MoviePy - Writing audio in temp_audio.wav\n"
     ]
    },
    {
     "name": "stderr",
     "output_type": "stream",
     "text": [
      "\n",
      "\n",
      "\n",
      "chunk:   0%|                                                                          | 0/34 [00:00<?, ?it/s, now=None]\u001b[A\u001b[A\u001b[A\n",
      "\n",
      "\n",
      "                                                                                                                       \u001b[A\u001b[A\u001b[A\n",
      "\n",
      "\u001b[A\u001b[A                                                                                                                 \n",
      "chunk:  60%|██████████████████████████████████▍                      | 26/43 [15:44:41<10:17:40, 2180.06s/it, now=None]\n",
      "\n",
      "chunk:  60%|██████████████████████████████████▍                      | 26/43 [15:42:57<10:16:32, 2176.04s/it, now=None]\u001b[A\u001b[A\n",
      "chunk:  60%|██████████████████████████████████▍                      | 26/43 [15:44:29<10:17:33, 2179.61s/it, now=None]\u001b[A"
     ]
    },
    {
     "name": "stdout",
     "output_type": "stream",
     "text": [
      "MoviePy - Done.\n"
     ]
    },
    {
     "name": "stderr",
     "output_type": "stream",
     "text": [
      "                                                                                                                       \n",
      "\n",
      "\u001b[A\u001b[A                                                                                                                 \n",
      "chunk:  60%|██████████████████████████████████▍                      | 26/43 [15:44:41<10:17:41, 2180.07s/it, now=None]\n",
      "\n",
      "chunk:  60%|██████████████████████████████████▍                      | 26/43 [15:42:57<10:16:32, 2176.05s/it, now=None]\u001b[A\u001b[A\n",
      "chunk:  60%|██████████████████████████████████▍                      | 26/43 [15:44:30<10:17:33, 2179.62s/it, now=None]\u001b[A"
     ]
    },
    {
     "name": "stdout",
     "output_type": "stream",
     "text": [
      "MoviePy - Writing audio in temp.wav\n"
     ]
    },
    {
     "name": "stderr",
     "output_type": "stream",
     "text": [
      "\n",
      "\n",
      "\n",
      "chunk:   0%|                                                                          | 0/17 [00:00<?, ?it/s, now=None]\u001b[A\u001b[A\u001b[A\n",
      "\n",
      "\n",
      "                                                                                                                       \u001b[A\u001b[A\u001b[A\n",
      "\n",
      "\u001b[A\u001b[A                                                                                                                 \n",
      "chunk:  60%|██████████████████████████████████▍                      | 26/43 [15:44:41<10:17:41, 2180.08s/it, now=None]\n",
      "\n",
      "chunk:  60%|██████████████████████████████████▍                      | 26/43 [15:42:57<10:16:32, 2176.06s/it, now=None]\u001b[A\u001b[A\n",
      "chunk:  60%|██████████████████████████████████▍                      | 26/43 [15:44:30<10:17:33, 2179.63s/it, now=None]\u001b[A"
     ]
    },
    {
     "name": "stdout",
     "output_type": "stream",
     "text": [
      "MoviePy - Done.\n",
      "1/1 [==============================] - 0s 47ms/step\n",
      "1/1 [==============================] - 0s 24ms/step\n"
     ]
    },
    {
     "name": "stderr",
     "output_type": "stream",
     "text": [
      "                                                                                                                       \n",
      "\n",
      "\u001b[A\u001b[A                                                                                                                 \n",
      "chunk:  60%|██████████████████████████████████▍                      | 26/43 [15:44:43<10:17:42, 2180.13s/it, now=None]\n",
      "\n",
      "chunk:  60%|██████████████████████████████████▍                      | 26/43 [15:42:58<10:16:33, 2176.11s/it, now=None]\u001b[A\u001b[A\n",
      "chunk:  60%|██████████████████████████████████▍                      | 26/43 [15:44:31<10:17:34, 2179.68s/it, now=None]\u001b[A"
     ]
    },
    {
     "name": "stdout",
     "output_type": "stream",
     "text": [
      "MoviePy - Writing audio in temp_audio.wav\n"
     ]
    },
    {
     "name": "stderr",
     "output_type": "stream",
     "text": [
      "\n",
      "\n",
      "\n",
      "chunk:   0%|                                                                          | 0/77 [00:00<?, ?it/s, now=None]\u001b[A\u001b[A\u001b[A\n",
      "\n",
      "\n",
      "                                                                                                                       \u001b[A\u001b[A\u001b[A\n",
      "\n",
      "\u001b[A\u001b[A                                                                                                                 \n",
      "chunk:  60%|██████████████████████████████████▍                      | 26/43 [15:44:43<10:17:42, 2180.14s/it, now=None]\n",
      "\n",
      "chunk:  60%|██████████████████████████████████▍                      | 26/43 [15:42:59<10:16:33, 2176.12s/it, now=None]\u001b[A\u001b[A\n",
      "chunk:  60%|██████████████████████████████████▍                      | 26/43 [15:44:31<10:17:34, 2179.69s/it, now=None]\u001b[A"
     ]
    },
    {
     "name": "stdout",
     "output_type": "stream",
     "text": [
      "MoviePy - Done.\n"
     ]
    },
    {
     "name": "stderr",
     "output_type": "stream",
     "text": [
      "                                                                                                                       \n",
      "\n",
      "\u001b[A\u001b[A                                                                                                                 \n",
      "chunk:  60%|██████████████████████████████████▍                      | 26/43 [15:44:43<10:17:42, 2180.15s/it, now=None]\n",
      "\n",
      "chunk:  60%|██████████████████████████████████▍                      | 26/43 [15:42:59<10:16:34, 2176.13s/it, now=None]\u001b[A\u001b[A\n",
      "chunk:  60%|██████████████████████████████████▍                      | 26/43 [15:44:32<10:17:34, 2179.70s/it, now=None]\u001b[A"
     ]
    },
    {
     "name": "stdout",
     "output_type": "stream",
     "text": [
      "MoviePy - Writing audio in temp.wav\n"
     ]
    },
    {
     "name": "stderr",
     "output_type": "stream",
     "text": [
      "\n",
      "\n",
      "\n",
      "chunk:   0%|                                                                          | 0/39 [00:00<?, ?it/s, now=None]\u001b[A\u001b[A\u001b[A\n",
      "\n",
      "\n",
      "                                                                                                                       \u001b[A\u001b[A\u001b[A\n",
      "\n",
      "\u001b[A\u001b[A                                                                                                                 \n",
      "chunk:  60%|██████████████████████████████████▍                      | 26/43 [15:44:44<10:17:42, 2180.15s/it, now=None]\n",
      "\n",
      "chunk:  60%|██████████████████████████████████▍                      | 26/43 [15:42:59<10:16:34, 2176.14s/it, now=None]\u001b[A\u001b[A\n",
      "chunk:  60%|██████████████████████████████████▍                      | 26/43 [15:44:32<10:17:34, 2179.71s/it, now=None]\u001b[A"
     ]
    },
    {
     "name": "stdout",
     "output_type": "stream",
     "text": [
      "MoviePy - Done.\n",
      "1/1 [==============================] - 0s 47ms/step\n",
      "1/1 [==============================] - 0s 36ms/step\n"
     ]
    },
    {
     "name": "stderr",
     "output_type": "stream",
     "text": [
      "                                                                                                                       \n",
      "\n",
      "\u001b[A\u001b[A                                                                                                                 \n",
      "chunk:  60%|██████████████████████████████████▍                      | 26/43 [15:44:47<10:17:44, 2180.29s/it, now=None]\n",
      "\n",
      "chunk:  60%|██████████████████████████████████▍                      | 26/43 [15:43:02<10:16:36, 2176.27s/it, now=None]\u001b[A\u001b[A\n",
      "chunk:  60%|██████████████████████████████████▍                      | 26/43 [15:44:35<10:17:37, 2179.84s/it, now=None]\u001b[A"
     ]
    },
    {
     "name": "stdout",
     "output_type": "stream",
     "text": [
      "MoviePy - Writing audio in temp_audio.wav\n"
     ]
    },
    {
     "name": "stderr",
     "output_type": "stream",
     "text": [
      "\n",
      "\n",
      "\n",
      "chunk:   0%|                                                                         | 0/121 [00:00<?, ?it/s, now=None]\u001b[A\u001b[A\u001b[A\n",
      "\n",
      "\n",
      "                                                                                                                       \u001b[A\u001b[A\u001b[A\n",
      "\n",
      "\u001b[A\u001b[A                                                                                                                 \n",
      "chunk:  60%|██████████████████████████████████▍                      | 26/43 [15:44:47<10:17:44, 2180.29s/it, now=None]\n",
      "\n",
      "chunk:  60%|██████████████████████████████████▍                      | 26/43 [15:43:03<10:16:36, 2176.27s/it, now=None]\u001b[A\u001b[A\n",
      "chunk:  60%|██████████████████████████████████▍                      | 26/43 [15:44:35<10:17:37, 2179.84s/it, now=None]\u001b[A"
     ]
    },
    {
     "name": "stdout",
     "output_type": "stream",
     "text": [
      "MoviePy - Done.\n"
     ]
    },
    {
     "name": "stderr",
     "output_type": "stream",
     "text": [
      "                                                                                                                       \n",
      "\n",
      "\u001b[A\u001b[A                                                                                                                 \n",
      "chunk:  60%|██████████████████████████████████▍                      | 26/43 [15:44:47<10:17:45, 2180.31s/it, now=None]\n",
      "\n",
      "chunk:  60%|██████████████████████████████████▍                      | 26/43 [15:43:03<10:16:36, 2176.29s/it, now=None]\u001b[A\u001b[A\n",
      "chunk:  60%|██████████████████████████████████▍                      | 26/43 [15:44:36<10:17:37, 2179.86s/it, now=None]\u001b[A"
     ]
    },
    {
     "name": "stdout",
     "output_type": "stream",
     "text": [
      "MoviePy - Writing audio in temp.wav\n"
     ]
    },
    {
     "name": "stderr",
     "output_type": "stream",
     "text": [
      "\n",
      "\n",
      "\n",
      "chunk:   0%|                                                                          | 0/61 [00:00<?, ?it/s, now=None]\u001b[A\u001b[A\u001b[A\n",
      "\n",
      "\n",
      "                                                                                                                       \u001b[A\u001b[A\u001b[A\n",
      "\n",
      "\u001b[A\u001b[A                                                                                                                 \n",
      "chunk:  60%|██████████████████████████████████▍                      | 26/43 [15:44:48<10:17:45, 2180.31s/it, now=None]\n",
      "\n",
      "chunk:  60%|██████████████████████████████████▍                      | 26/43 [15:43:03<10:16:36, 2176.29s/it, now=None]\u001b[A\u001b[A\n",
      "chunk:  60%|██████████████████████████████████▍                      | 26/43 [15:44:36<10:17:37, 2179.86s/it, now=None]\u001b[A"
     ]
    },
    {
     "name": "stdout",
     "output_type": "stream",
     "text": [
      "MoviePy - Done.\n",
      "1/1 [==============================] - 0s 47ms/step\n",
      "1/1 [==============================] - 0s 32ms/step\n"
     ]
    },
    {
     "name": "stderr",
     "output_type": "stream",
     "text": [
      "                                                                                                                       \n",
      "\n",
      "\u001b[A\u001b[A                                                                                                                 \n",
      "chunk:  60%|██████████████████████████████████▍                      | 26/43 [15:44:51<10:17:47, 2180.44s/it, now=None]\n",
      "\n",
      "chunk:  60%|██████████████████████████████████▍                      | 26/43 [15:43:06<10:16:39, 2176.42s/it, now=None]\u001b[A\u001b[A\n",
      "chunk:  60%|██████████████████████████████████▍                      | 26/43 [15:44:39<10:17:39, 2179.99s/it, now=None]\u001b[A"
     ]
    },
    {
     "name": "stdout",
     "output_type": "stream",
     "text": [
      "MoviePy - Writing audio in temp_audio.wav\n"
     ]
    },
    {
     "name": "stderr",
     "output_type": "stream",
     "text": [
      "\n",
      "\n",
      "\n",
      "chunk:   0%|                                                                         | 0/150 [00:00<?, ?it/s, now=None]\u001b[A\u001b[A\u001b[A\n",
      "\n",
      "\n",
      "chunk:  68%|██████████████████████████████████████████▏                   | 102/150 [00:00<00:00, 900.68it/s, now=None]\u001b[A\u001b[A\u001b[A\n",
      "\n",
      "\n",
      "                                                                                                                       \u001b[A\u001b[A\u001b[A\n",
      "\n",
      "\u001b[A\u001b[A                                                                                                                 \n",
      "chunk:  60%|██████████████████████████████████▍                      | 26/43 [15:44:51<10:17:47, 2180.44s/it, now=None]\n",
      "\n",
      "chunk:  60%|██████████████████████████████████▍                      | 26/43 [15:43:07<10:16:39, 2176.42s/it, now=None]\u001b[A\u001b[A\n",
      "chunk:  60%|██████████████████████████████████▍                      | 26/43 [15:44:39<10:17:39, 2179.99s/it, now=None]\u001b[A"
     ]
    },
    {
     "name": "stdout",
     "output_type": "stream",
     "text": [
      "MoviePy - Done.\n"
     ]
    },
    {
     "name": "stderr",
     "output_type": "stream",
     "text": [
      "                                                                                                                       \n",
      "\n",
      "\u001b[A\u001b[A                                                                                                                 \n",
      "chunk:  60%|██████████████████████████████████▍                      | 26/43 [15:44:51<10:17:47, 2180.46s/it, now=None]\n",
      "\n",
      "chunk:  60%|██████████████████████████████████▍                      | 26/43 [15:43:07<10:16:39, 2176.44s/it, now=None]\u001b[A\u001b[A\n",
      "chunk:  60%|██████████████████████████████████▍                      | 26/43 [15:44:40<10:17:40, 2180.01s/it, now=None]\u001b[A"
     ]
    },
    {
     "name": "stdout",
     "output_type": "stream",
     "text": [
      "MoviePy - Writing audio in temp.wav\n"
     ]
    },
    {
     "name": "stderr",
     "output_type": "stream",
     "text": [
      "\n",
      "\n",
      "\n",
      "chunk:   0%|                                                                          | 0/75 [00:00<?, ?it/s, now=None]\u001b[A\u001b[A\u001b[A\n",
      "\n",
      "\n",
      "                                                                                                                       \u001b[A\u001b[A\u001b[A\n",
      "\n",
      "\u001b[A\u001b[A                                                                                                                 \n",
      "chunk:  60%|██████████████████████████████████▍                      | 26/43 [15:44:52<10:17:47, 2180.46s/it, now=None]\n",
      "\n",
      "chunk:  60%|██████████████████████████████████▍                      | 26/43 [15:43:07<10:16:39, 2176.44s/it, now=None]\u001b[A\u001b[A\n",
      "chunk:  60%|██████████████████████████████████▍                      | 26/43 [15:44:40<10:17:40, 2180.01s/it, now=None]\u001b[A"
     ]
    },
    {
     "name": "stdout",
     "output_type": "stream",
     "text": [
      "MoviePy - Done.\n",
      "1/1 [==============================] - 0s 48ms/step\n",
      "1/1 [==============================] - 0s 35ms/step\n"
     ]
    },
    {
     "name": "stderr",
     "output_type": "stream",
     "text": [
      "                                                                                                                       \n",
      "\n",
      "\u001b[A\u001b[A                                                                                                                 \n",
      "chunk:  60%|██████████████████████████████████▍                      | 26/43 [15:44:55<10:17:49, 2180.58s/it, now=None]\n",
      "\n",
      "chunk:  60%|██████████████████████████████████▍                      | 26/43 [15:43:10<10:16:41, 2176.56s/it, now=None]\u001b[A\u001b[A\n",
      "chunk:  60%|██████████████████████████████████▍                      | 26/43 [15:44:43<10:17:42, 2180.13s/it, now=None]\u001b[A"
     ]
    },
    {
     "name": "stdout",
     "output_type": "stream",
     "text": [
      "MoviePy - Writing audio in temp_audio.wav\n"
     ]
    },
    {
     "name": "stderr",
     "output_type": "stream",
     "text": [
      "\n",
      "\n",
      "\n",
      "chunk:   0%|                                                                          | 0/53 [00:00<?, ?it/s, now=None]\u001b[A\u001b[A\u001b[A\n",
      "\n",
      "\n",
      "                                                                                                                       \u001b[A\u001b[A\u001b[A\n",
      "\n",
      "\u001b[A\u001b[A                                                                                                                 \n",
      "chunk:  60%|██████████████████████████████████▍                      | 26/43 [15:44:55<10:17:49, 2180.59s/it, now=None]\n",
      "\n",
      "chunk:  60%|██████████████████████████████████▍                      | 26/43 [15:43:10<10:16:41, 2176.57s/it, now=None]\u001b[A\u001b[A\n",
      "chunk:  60%|██████████████████████████████████▍                      | 26/43 [15:44:43<10:17:42, 2180.14s/it, now=None]\u001b[A"
     ]
    },
    {
     "name": "stdout",
     "output_type": "stream",
     "text": [
      "MoviePy - Done.\n"
     ]
    },
    {
     "name": "stderr",
     "output_type": "stream",
     "text": [
      "                                                                                                                       \n",
      "\n",
      "\u001b[A\u001b[A                                                                                                                 \n",
      "chunk:  60%|██████████████████████████████████▍                      | 26/43 [15:44:55<10:17:50, 2180.60s/it, now=None]\n",
      "\n",
      "chunk:  60%|██████████████████████████████████▍                      | 26/43 [15:43:11<10:16:41, 2176.58s/it, now=None]\u001b[A\u001b[A\n",
      "chunk:  60%|██████████████████████████████████▍                      | 26/43 [15:44:43<10:17:42, 2180.15s/it, now=None]\u001b[A"
     ]
    },
    {
     "name": "stdout",
     "output_type": "stream",
     "text": [
      "MoviePy - Writing audio in temp.wav\n"
     ]
    },
    {
     "name": "stderr",
     "output_type": "stream",
     "text": [
      "\n",
      "\n",
      "\n",
      "chunk:   0%|                                                                          | 0/27 [00:00<?, ?it/s, now=None]\u001b[A\u001b[A\u001b[A\n",
      "\n",
      "\n",
      "                                                                                                                       \u001b[A\u001b[A\u001b[A\n",
      "\n",
      "\u001b[A\u001b[A                                                                                                                 \n",
      "chunk:  60%|██████████████████████████████████▍                      | 26/43 [15:44:55<10:17:50, 2180.61s/it, now=None]\n",
      "\n",
      "chunk:  60%|██████████████████████████████████▍                      | 26/43 [15:43:11<10:16:41, 2176.59s/it, now=None]\u001b[A\u001b[A\n",
      "chunk:  60%|██████████████████████████████████▍                      | 26/43 [15:44:44<10:17:42, 2180.16s/it, now=None]\u001b[A"
     ]
    },
    {
     "name": "stdout",
     "output_type": "stream",
     "text": [
      "MoviePy - Done.\n",
      "1/1 [==============================] - 0s 56ms/step\n",
      "1/1 [==============================] - 0s 55ms/step\n"
     ]
    },
    {
     "name": "stderr",
     "output_type": "stream",
     "text": [
      "                                                                                                                       \n",
      "\n",
      "\u001b[A\u001b[A                                                                                                                 \n",
      "chunk:  60%|██████████████████████████████████▍                      | 26/43 [15:44:58<10:17:51, 2180.70s/it, now=None]\n",
      "\n",
      "chunk:  60%|██████████████████████████████████▍                      | 26/43 [15:43:13<10:16:43, 2176.68s/it, now=None]\u001b[A\u001b[A\n",
      "chunk:  60%|██████████████████████████████████▍                      | 26/43 [15:44:46<10:17:44, 2180.25s/it, now=None]\u001b[A"
     ]
    },
    {
     "name": "stdout",
     "output_type": "stream",
     "text": [
      "MoviePy - Writing audio in temp_audio.wav\n"
     ]
    },
    {
     "name": "stderr",
     "output_type": "stream",
     "text": [
      "\n",
      "\n",
      "\n",
      "chunk:   0%|                                                                          | 0/40 [00:00<?, ?it/s, now=None]\u001b[A\u001b[A\u001b[A\n",
      "\n",
      "\n",
      "                                                                                                                       \u001b[A\u001b[A\u001b[A\n",
      "\n",
      "\u001b[A\u001b[A                                                                                                                 \n",
      "chunk:  60%|██████████████████████████████████▍                      | 26/43 [15:44:58<10:17:51, 2180.70s/it, now=None]\n",
      "\n",
      "chunk:  60%|██████████████████████████████████▍                      | 26/43 [15:43:13<10:16:43, 2176.68s/it, now=None]\u001b[A\u001b[A\n",
      "chunk:  60%|██████████████████████████████████▍                      | 26/43 [15:44:46<10:17:44, 2180.25s/it, now=None]\u001b[A"
     ]
    },
    {
     "name": "stdout",
     "output_type": "stream",
     "text": [
      "MoviePy - Done.\n"
     ]
    },
    {
     "name": "stderr",
     "output_type": "stream",
     "text": [
      "                                                                                                                       \n",
      "\n",
      "\u001b[A\u001b[A                                                                                                                 \n",
      "chunk:  60%|██████████████████████████████████▍                      | 26/43 [15:44:58<10:17:52, 2180.72s/it, now=None]\n",
      "\n",
      "chunk:  60%|██████████████████████████████████▍                      | 26/43 [15:43:14<10:16:43, 2176.70s/it, now=None]\u001b[A\u001b[A\n",
      "chunk:  60%|██████████████████████████████████▍                      | 26/43 [15:44:47<10:17:44, 2180.27s/it, now=None]\u001b[A"
     ]
    },
    {
     "name": "stdout",
     "output_type": "stream",
     "text": [
      "MoviePy - Writing audio in temp.wav\n"
     ]
    },
    {
     "name": "stderr",
     "output_type": "stream",
     "text": [
      "\n",
      "\n",
      "\n",
      "chunk:   0%|                                                                          | 0/21 [00:00<?, ?it/s, now=None]\u001b[A\u001b[A\u001b[A\n",
      "\n",
      "\n",
      "                                                                                                                       \u001b[A\u001b[A\u001b[A\n",
      "\n",
      "\u001b[A\u001b[A                                                                                                                 \n",
      "chunk:  60%|██████████████████████████████████▍                      | 26/43 [15:44:58<10:17:52, 2180.73s/it, now=None]\n",
      "\n",
      "chunk:  60%|██████████████████████████████████▍                      | 26/43 [15:43:14<10:16:44, 2176.71s/it, now=None]\u001b[A\u001b[A\n",
      "chunk:  60%|██████████████████████████████████▍                      | 26/43 [15:44:47<10:17:44, 2180.28s/it, now=None]\u001b[A"
     ]
    },
    {
     "name": "stdout",
     "output_type": "stream",
     "text": [
      "MoviePy - Done.\n",
      "1/1 [==============================] - 0s 49ms/step\n",
      "1/1 [==============================] - 0s 52ms/step\n"
     ]
    },
    {
     "name": "stderr",
     "output_type": "stream",
     "text": [
      "                                                                                                                       \n",
      "\n",
      "\u001b[A\u001b[A                                                                                                                 \n",
      "chunk:  60%|██████████████████████████████████▍                      | 26/43 [15:45:00<10:17:53, 2180.80s/it, now=None]\n",
      "\n",
      "chunk:  60%|██████████████████████████████████▍                      | 26/43 [15:43:16<10:16:45, 2176.78s/it, now=None]\u001b[A\u001b[A\n",
      "chunk:  60%|██████████████████████████████████▍                      | 26/43 [15:44:49<10:17:46, 2180.35s/it, now=None]\u001b[A"
     ]
    },
    {
     "name": "stdout",
     "output_type": "stream",
     "text": [
      "MoviePy - Writing audio in temp_audio.wav\n"
     ]
    },
    {
     "name": "stderr",
     "output_type": "stream",
     "text": [
      "\n",
      "\n",
      "\n",
      "chunk:   0%|                                                                          | 0/33 [00:00<?, ?it/s, now=None]\u001b[A\u001b[A\u001b[A\n",
      "\n",
      "\n",
      "                                                                                                                       \u001b[A\u001b[A\u001b[A\n",
      "\n",
      "\u001b[A\u001b[A                                                                                                                 \n",
      "chunk:  60%|██████████████████████████████████▍                      | 26/43 [15:45:01<10:17:53, 2180.81s/it, now=None]\n",
      "\n",
      "chunk:  60%|██████████████████████████████████▍                      | 26/43 [15:43:16<10:16:45, 2176.79s/it, now=None]\u001b[A\u001b[A\n",
      "chunk:  60%|██████████████████████████████████▍                      | 26/43 [15:44:49<10:17:46, 2180.36s/it, now=None]\u001b[A"
     ]
    },
    {
     "name": "stdout",
     "output_type": "stream",
     "text": [
      "MoviePy - Done.\n"
     ]
    },
    {
     "name": "stderr",
     "output_type": "stream",
     "text": [
      "                                                                                                                       \n",
      "\n",
      "\u001b[A\u001b[A                                                                                                                 \n",
      "chunk:  60%|██████████████████████████████████▍                      | 26/43 [15:45:01<10:17:54, 2180.83s/it, now=None]\n",
      "\n",
      "chunk:  60%|██████████████████████████████████▍                      | 26/43 [15:43:17<10:16:45, 2176.81s/it, now=None]\u001b[A\u001b[A\n",
      "chunk:  60%|██████████████████████████████████▍                      | 26/43 [15:44:49<10:17:46, 2180.38s/it, now=None]\u001b[A"
     ]
    },
    {
     "name": "stdout",
     "output_type": "stream",
     "text": [
      "MoviePy - Writing audio in temp.wav\n"
     ]
    },
    {
     "name": "stderr",
     "output_type": "stream",
     "text": [
      "\n",
      "\n",
      "\n",
      "chunk:   0%|                                                                          | 0/17 [00:00<?, ?it/s, now=None]\u001b[A\u001b[A\u001b[A\n",
      "\n",
      "\n",
      "chunk:  18%|███████████▋                                                      | 3/17 [00:00<00:00, 26.00it/s, now=None]\u001b[A\u001b[A\u001b[A\n",
      "\n",
      "\n",
      "                                                                                                                       \u001b[A\u001b[A\u001b[A\n",
      "\n",
      "\u001b[A\u001b[A                                                                                                                 \n",
      "chunk:  60%|██████████████████████████████████▍                      | 26/43 [15:45:01<10:17:54, 2180.83s/it, now=None]\n",
      "\n"
     ]
    },
    {
     "name": "stdout",
     "output_type": "stream",
     "text": [
      "MoviePy - Done.\n"
     ]
    },
    {
     "name": "stderr",
     "output_type": "stream",
     "text": [
      "chunk:  60%|██████████████████████████████████▍                      | 26/43 [15:43:17<10:16:45, 2176.81s/it, now=None]\u001b[A\u001b[A\n",
      "chunk:  60%|██████████████████████████████████▍                      | 26/43 [15:44:50<10:17:46, 2180.38s/it, now=None]\u001b[A"
     ]
    },
    {
     "name": "stdout",
     "output_type": "stream",
     "text": [
      "1/1 [==============================] - 0s 82ms/step\n",
      "1/1 [==============================] - 0s 48ms/step\n"
     ]
    },
    {
     "name": "stderr",
     "output_type": "stream",
     "text": [
      "                                                                                                                       \n",
      "\n",
      "\u001b[A\u001b[A                                                                                                                 \n",
      "chunk:  60%|██████████████████████████████████▍                      | 26/43 [15:45:03<10:17:55, 2180.92s/it, now=None]\n",
      "\n",
      "chunk:  60%|██████████████████████████████████▍                      | 26/43 [15:43:19<10:16:47, 2176.90s/it, now=None]\u001b[A\u001b[A\n",
      "chunk:  60%|██████████████████████████████████▍                      | 26/43 [15:44:52<10:17:48, 2180.47s/it, now=None]\u001b[A"
     ]
    },
    {
     "name": "stdout",
     "output_type": "stream",
     "text": [
      "MoviePy - Writing audio in temp_audio.wav\n"
     ]
    },
    {
     "name": "stderr",
     "output_type": "stream",
     "text": [
      "\n",
      "\n",
      "\n",
      "chunk:   0%|                                                                          | 0/40 [00:00<?, ?it/s, now=None]\u001b[A\u001b[A\u001b[A\n",
      "\n",
      "\n",
      "chunk:  82%|████████████████████████████████████████████████████▊           | 33/40 [00:00<00:00, 328.25it/s, now=None]\u001b[A\u001b[A\u001b[A\n",
      "\n",
      "\n",
      "                                                                                                                       \u001b[A\u001b[A\u001b[A\n",
      "\n",
      "\u001b[A\u001b[A                                                                                                                 \n",
      "chunk:  60%|██████████████████████████████████▍                      | 26/43 [15:45:04<10:17:55, 2180.93s/it, now=None]\n",
      "\n",
      "chunk:  60%|██████████████████████████████████▍                      | 26/43 [15:43:19<10:16:47, 2176.91s/it, now=None]\u001b[A\u001b[A\n",
      "chunk:  60%|██████████████████████████████████▍                      | 26/43 [15:44:52<10:17:48, 2180.48s/it, now=None]\u001b[A"
     ]
    },
    {
     "name": "stdout",
     "output_type": "stream",
     "text": [
      "MoviePy - Done.\n"
     ]
    },
    {
     "name": "stderr",
     "output_type": "stream",
     "text": [
      "                                                                                                                       \n",
      "\n",
      "\u001b[A\u001b[A                                                                                                                 \n",
      "chunk:  60%|██████████████████████████████████▍                      | 26/43 [15:45:04<10:17:56, 2180.95s/it, now=None]\n",
      "\n",
      "chunk:  60%|██████████████████████████████████▍                      | 26/43 [15:43:20<10:16:47, 2176.93s/it, now=None]\u001b[A\u001b[A\n",
      "chunk:  60%|██████████████████████████████████▍                      | 26/43 [15:44:52<10:17:48, 2180.50s/it, now=None]\u001b[A"
     ]
    },
    {
     "name": "stdout",
     "output_type": "stream",
     "text": [
      "MoviePy - Writing audio in temp.wav\n"
     ]
    },
    {
     "name": "stderr",
     "output_type": "stream",
     "text": [
      "\n",
      "\n",
      "\n",
      "chunk:   0%|                                                                          | 0/20 [00:00<?, ?it/s, now=None]\u001b[A\u001b[A\u001b[A\n",
      "\n",
      "\n",
      "                                                                                                                       \u001b[A\u001b[A\u001b[A\n",
      "\n",
      "\u001b[A\u001b[A                                                                                                                 \n",
      "chunk:  60%|██████████████████████████████████▍                      | 26/43 [15:45:04<10:17:56, 2180.95s/it, now=None]\n",
      "\n",
      "chunk:  60%|██████████████████████████████████▍                      | 26/43 [15:43:20<10:16:47, 2176.93s/it, now=None]\u001b[A\u001b[A\n",
      "chunk:  60%|██████████████████████████████████▍                      | 26/43 [15:44:53<10:17:48, 2180.50s/it, now=None]\u001b[A"
     ]
    },
    {
     "name": "stdout",
     "output_type": "stream",
     "text": [
      "MoviePy - Done.\n",
      "1/1 [==============================] - 0s 46ms/step\n",
      "1/1 [==============================] - 0s 40ms/step\n"
     ]
    },
    {
     "name": "stderr",
     "output_type": "stream",
     "text": [
      "                                                                                                                       \n",
      "\n",
      "\u001b[A\u001b[A                                                                                                                 \n",
      "chunk:  60%|██████████████████████████████████▍                      | 26/43 [15:45:06<10:17:57, 2181.02s/it, now=None]\n",
      "\n",
      "chunk:  60%|██████████████████████████████████▍                      | 26/43 [15:43:21<10:16:48, 2177.00s/it, now=None]\u001b[A\u001b[A\n",
      "chunk:  60%|██████████████████████████████████▍                      | 26/43 [15:44:54<10:17:49, 2180.57s/it, now=None]\u001b[A"
     ]
    },
    {
     "name": "stdout",
     "output_type": "stream",
     "text": [
      "MoviePy - Writing audio in temp_audio.wav\n"
     ]
    },
    {
     "name": "stderr",
     "output_type": "stream",
     "text": [
      "\n",
      "\n",
      "\n",
      "chunk:   0%|                                                                          | 0/85 [00:00<?, ?it/s, now=None]\u001b[A\u001b[A\u001b[A\n",
      "\n",
      "\n",
      "chunk:  92%|██████████████████████████████████████████████████████████▋     | 78/85 [00:00<00:00, 779.53it/s, now=None]\u001b[A\u001b[A\u001b[A\n",
      "\n",
      "\n",
      "                                                                                                                       \u001b[A\u001b[A\u001b[A\n",
      "\n",
      "\u001b[A\u001b[A                                                                                                                 \n",
      "chunk:  60%|██████████████████████████████████▍                      | 26/43 [15:45:06<10:17:57, 2181.02s/it, now=None]\n",
      "\n",
      "chunk:  60%|██████████████████████████████████▍                      | 26/43 [15:43:22<10:16:49, 2177.00s/it, now=None]\u001b[A\u001b[A\n",
      "chunk:  60%|██████████████████████████████████▍                      | 26/43 [15:44:54<10:17:49, 2180.57s/it, now=None]\u001b[A"
     ]
    },
    {
     "name": "stdout",
     "output_type": "stream",
     "text": [
      "MoviePy - Done.\n"
     ]
    },
    {
     "name": "stderr",
     "output_type": "stream",
     "text": [
      "                                                                                                                       \n",
      "\n",
      "\u001b[A\u001b[A                                                                                                                 \n",
      "chunk:  60%|██████████████████████████████████▍                      | 26/43 [15:45:07<10:17:57, 2181.04s/it, now=None]\n",
      "\n",
      "chunk:  60%|██████████████████████████████████▍                      | 26/43 [15:43:22<10:16:49, 2177.02s/it, now=None]\u001b[A\u001b[A\n",
      "chunk:  60%|██████████████████████████████████▍                      | 26/43 [15:44:55<10:17:50, 2180.59s/it, now=None]\u001b[A"
     ]
    },
    {
     "name": "stdout",
     "output_type": "stream",
     "text": [
      "MoviePy - Writing audio in temp.wav\n"
     ]
    },
    {
     "name": "stderr",
     "output_type": "stream",
     "text": [
      "\n",
      "\n",
      "\n",
      "chunk:   0%|                                                                          | 0/43 [00:00<?, ?it/s, now=None]\u001b[A\u001b[A\u001b[A\n",
      "\n",
      "\n",
      "                                                                                                                       \u001b[A\u001b[A\u001b[A\n",
      "\n",
      "\u001b[A\u001b[A                                                                                                                 \n",
      "chunk:  60%|██████████████████████████████████▍                      | 26/43 [15:45:07<10:17:57, 2181.05s/it, now=None]\n",
      "\n",
      "chunk:  60%|██████████████████████████████████▍                      | 26/43 [15:43:22<10:16:49, 2177.03s/it, now=None]\u001b[A\u001b[A\n",
      "chunk:  60%|██████████████████████████████████▍                      | 26/43 [15:44:55<10:17:50, 2180.60s/it, now=None]\u001b[A"
     ]
    },
    {
     "name": "stdout",
     "output_type": "stream",
     "text": [
      "MoviePy - Done.\n",
      "1/1 [==============================] - 0s 50ms/step\n",
      "1/1 [==============================] - 0s 46ms/step\n"
     ]
    },
    {
     "name": "stderr",
     "output_type": "stream",
     "text": [
      "                                                                                                                       \n",
      "\n",
      "\u001b[A\u001b[A                                                                                                                 \n",
      "chunk:  60%|██████████████████████████████████▍                      | 26/43 [15:45:09<10:17:59, 2181.15s/it, now=None]\n",
      "\n",
      "chunk:  60%|██████████████████████████████████▍                      | 26/43 [15:43:25<10:16:51, 2177.13s/it, now=None]\u001b[A\u001b[A\n",
      "chunk:  60%|██████████████████████████████████▍                      | 26/43 [15:44:58<10:17:51, 2180.70s/it, now=None]\u001b[A"
     ]
    },
    {
     "name": "stdout",
     "output_type": "stream",
     "text": [
      "MoviePy - Writing audio in temp_audio.wav\n"
     ]
    },
    {
     "name": "stderr",
     "output_type": "stream",
     "text": [
      "\n",
      "\n",
      "\n",
      "chunk:   0%|                                                                          | 0/60 [00:00<?, ?it/s, now=None]\u001b[A\u001b[A\u001b[A\n",
      "\n",
      "\n",
      "                                                                                                                       \u001b[A\u001b[A\u001b[A\n",
      "\n",
      "\u001b[A\u001b[A                                                                                                                 \n",
      "chunk:  60%|██████████████████████████████████▍                      | 26/43 [15:45:10<10:17:59, 2181.16s/it, now=None]\n",
      "\n",
      "chunk:  60%|██████████████████████████████████▍                      | 26/43 [15:43:25<10:16:51, 2177.14s/it, now=None]\u001b[A\u001b[A\n",
      "chunk:  60%|██████████████████████████████████▍                      | 26/43 [15:44:58<10:17:52, 2180.71s/it, now=None]\u001b[A"
     ]
    },
    {
     "name": "stdout",
     "output_type": "stream",
     "text": [
      "MoviePy - Done.\n"
     ]
    },
    {
     "name": "stderr",
     "output_type": "stream",
     "text": [
      "                                                                                                                       \n",
      "\n",
      "\u001b[A\u001b[A                                                                                                                 \n",
      "chunk:  60%|██████████████████████████████████▍                      | 26/43 [15:45:10<10:17:59, 2181.17s/it, now=None]\n",
      "\n",
      "chunk:  60%|██████████████████████████████████▍                      | 26/43 [15:43:26<10:16:51, 2177.15s/it, now=None]\u001b[A\u001b[A\n",
      "chunk:  60%|██████████████████████████████████▍                      | 26/43 [15:44:58<10:17:52, 2180.72s/it, now=None]\u001b[A"
     ]
    },
    {
     "name": "stdout",
     "output_type": "stream",
     "text": [
      "MoviePy - Writing audio in temp.wav\n"
     ]
    },
    {
     "name": "stderr",
     "output_type": "stream",
     "text": [
      "\n",
      "\n",
      "\n",
      "chunk:   0%|                                                                          | 0/30 [00:00<?, ?it/s, now=None]\u001b[A\u001b[A\u001b[A\n",
      "\n",
      "\n",
      "                                                                                                                       \u001b[A\u001b[A\u001b[A\n",
      "\n",
      "\u001b[A\u001b[A                                                                                                                 \n",
      "chunk:  60%|██████████████████████████████████▍                      | 26/43 [15:45:10<10:18:00, 2181.18s/it, now=None]\n",
      "\n",
      "chunk:  60%|██████████████████████████████████▍                      | 26/43 [15:43:26<10:16:51, 2177.16s/it, now=None]\u001b[A\u001b[A\n",
      "chunk:  60%|██████████████████████████████████▍                      | 26/43 [15:44:58<10:17:52, 2180.73s/it, now=None]\u001b[A"
     ]
    },
    {
     "name": "stdout",
     "output_type": "stream",
     "text": [
      "MoviePy - Done.\n",
      "1/1 [==============================] - 0s 47ms/step\n",
      "1/1 [==============================] - 0s 53ms/step\n"
     ]
    },
    {
     "name": "stderr",
     "output_type": "stream",
     "text": [
      "                                                                                                                       \n",
      "\n",
      "\u001b[A\u001b[A                                                                                                                 \n",
      "chunk:  60%|██████████████████████████████████▍                      | 26/43 [15:45:12<10:18:01, 2181.26s/it, now=None]\n",
      "\n",
      "chunk:  60%|██████████████████████████████████▍                      | 26/43 [15:43:28<10:16:53, 2177.24s/it, now=None]\u001b[A\u001b[A\n",
      "chunk:  60%|██████████████████████████████████▍                      | 26/43 [15:45:00<10:17:53, 2180.81s/it, now=None]\u001b[A"
     ]
    },
    {
     "name": "stdout",
     "output_type": "stream",
     "text": [
      "MoviePy - Writing audio in temp_audio.wav\n"
     ]
    },
    {
     "name": "stderr",
     "output_type": "stream",
     "text": [
      "\n",
      "\n",
      "\n",
      "chunk:   0%|                                                                          | 0/59 [00:00<?, ?it/s, now=None]\u001b[A\u001b[A\u001b[A\n",
      "\n",
      "\n",
      "                                                                                                                       \u001b[A\u001b[A\u001b[A\n",
      "\n",
      "\u001b[A\u001b[A                                                                                                                 \n",
      "chunk:  60%|██████████████████████████████████▍                      | 26/43 [15:45:12<10:18:01, 2181.26s/it, now=None]\n",
      "\n",
      "chunk:  60%|██████████████████████████████████▍                      | 26/43 [15:43:28<10:16:53, 2177.24s/it, now=None]\u001b[A\u001b[A\n",
      "chunk:  60%|██████████████████████████████████▍                      | 26/43 [15:45:01<10:17:53, 2180.81s/it, now=None]\u001b[A"
     ]
    },
    {
     "name": "stdout",
     "output_type": "stream",
     "text": [
      "MoviePy - Done.\n"
     ]
    },
    {
     "name": "stderr",
     "output_type": "stream",
     "text": [
      "                                                                                                                       \n",
      "\n",
      "\u001b[A\u001b[A                                                                                                                 \n",
      "chunk:  60%|██████████████████████████████████▍                      | 26/43 [15:45:13<10:18:01, 2181.28s/it, now=None]\n",
      "\n",
      "chunk:  60%|██████████████████████████████████▍                      | 26/43 [15:43:28<10:16:53, 2177.26s/it, now=None]\u001b[A\u001b[A\n",
      "chunk:  60%|██████████████████████████████████▍                      | 26/43 [15:45:01<10:17:54, 2180.83s/it, now=None]\u001b[A"
     ]
    },
    {
     "name": "stdout",
     "output_type": "stream",
     "text": [
      "MoviePy - Writing audio in temp.wav\n"
     ]
    },
    {
     "name": "stderr",
     "output_type": "stream",
     "text": [
      "\n",
      "\n",
      "\n",
      "chunk:   0%|                                                                          | 0/30 [00:00<?, ?it/s, now=None]\u001b[A\u001b[A\u001b[A\n",
      "\n",
      "\n",
      "                                                                                                                       \u001b[A\u001b[A\u001b[A\n",
      "\n",
      "\u001b[A\u001b[A                                                                                                                 \n",
      "chunk:  60%|██████████████████████████████████▍                      | 26/43 [15:45:13<10:18:01, 2181.28s/it, now=None]\n",
      "\n",
      "chunk:  60%|██████████████████████████████████▍                      | 26/43 [15:43:28<10:16:53, 2177.26s/it, now=None]\u001b[A\u001b[A\n",
      "chunk:  60%|██████████████████████████████████▍                      | 26/43 [15:45:01<10:17:54, 2180.83s/it, now=None]\u001b[A"
     ]
    },
    {
     "name": "stdout",
     "output_type": "stream",
     "text": [
      "MoviePy - Done.\n",
      "1/1 [==============================] - 0s 45ms/step\n",
      "1/1 [==============================] - 0s 51ms/step\n"
     ]
    },
    {
     "name": "stderr",
     "output_type": "stream",
     "text": [
      "                                                                                                                       \n",
      "\n",
      "\u001b[A\u001b[A                                                                                                                 \n",
      "chunk:  60%|██████████████████████████████████▍                      | 26/43 [15:45:16<10:18:03, 2181.39s/it, now=None]\n",
      "\n",
      "chunk:  60%|██████████████████████████████████▍                      | 26/43 [15:43:31<10:16:55, 2177.37s/it, now=None]\u001b[A\u001b[A\n",
      "chunk:  60%|██████████████████████████████████▍                      | 26/43 [15:45:04<10:17:56, 2180.94s/it, now=None]\u001b[A"
     ]
    },
    {
     "name": "stdout",
     "output_type": "stream",
     "text": [
      "MoviePy - Writing audio in temp_audio.wav\n"
     ]
    },
    {
     "name": "stderr",
     "output_type": "stream",
     "text": [
      "\n",
      "\n",
      "\n",
      "chunk:   0%|                                                                          | 0/20 [00:00<?, ?it/s, now=None]\u001b[A\u001b[A\u001b[A\n",
      "\n",
      "\n",
      "                                                                                                                       \u001b[A\u001b[A\u001b[A\n",
      "\n",
      "\u001b[A\u001b[A                                                                                                                 \n",
      "chunk:  60%|██████████████████████████████████▍                      | 26/43 [15:45:16<10:18:03, 2181.40s/it, now=None]\n",
      "\n",
      "chunk:  60%|██████████████████████████████████▍                      | 26/43 [15:43:31<10:16:55, 2177.38s/it, now=None]\u001b[A\u001b[A\n",
      "chunk:  60%|██████████████████████████████████▍                      | 26/43 [15:45:04<10:17:56, 2180.95s/it, now=None]\u001b[A"
     ]
    },
    {
     "name": "stdout",
     "output_type": "stream",
     "text": [
      "MoviePy - Done.\n"
     ]
    },
    {
     "name": "stderr",
     "output_type": "stream",
     "text": [
      "                                                                                                                       \n",
      "\n",
      "\u001b[A\u001b[A                                                                                                                 \n",
      "chunk:  60%|██████████████████████████████████▍                      | 26/43 [15:45:16<10:18:04, 2181.41s/it, now=None]\n",
      "\n",
      "chunk:  60%|██████████████████████████████████▍                      | 26/43 [15:43:32<10:16:55, 2177.40s/it, now=None]\u001b[A\u001b[A\n",
      "chunk:  60%|██████████████████████████████████▍                      | 26/43 [15:45:05<10:17:56, 2180.97s/it, now=None]\u001b[A"
     ]
    },
    {
     "name": "stdout",
     "output_type": "stream",
     "text": [
      "MoviePy - Writing audio in temp.wav\n"
     ]
    },
    {
     "name": "stderr",
     "output_type": "stream",
     "text": [
      "\n",
      "\n",
      "\n",
      "chunk:   0%|                                                                          | 0/10 [00:00<?, ?it/s, now=None]\u001b[A\u001b[A\u001b[A\n",
      "\n",
      "\n",
      "                                                                                                                       \u001b[A\u001b[A\u001b[A\n",
      "\n",
      "\u001b[A\u001b[A                                                                                                                 \n",
      "chunk:  60%|██████████████████████████████████▍                      | 26/43 [15:45:16<10:18:04, 2181.42s/it, now=None]\n",
      "\n",
      "chunk:  60%|██████████████████████████████████▍                      | 26/43 [15:43:32<10:16:55, 2177.40s/it, now=None]\u001b[A\u001b[A\n",
      "chunk:  60%|██████████████████████████████████▍                      | 26/43 [15:45:05<10:17:56, 2180.97s/it, now=None]\u001b[A"
     ]
    },
    {
     "name": "stdout",
     "output_type": "stream",
     "text": [
      "MoviePy - Done.\n",
      "1/1 [==============================] - 0s 44ms/step\n",
      "1/1 [==============================] - 0s 59ms/step\n"
     ]
    },
    {
     "name": "stderr",
     "output_type": "stream",
     "text": [
      "                                                                                                                       \n",
      "\n",
      "\u001b[A\u001b[A                                                                                                                 \n",
      "chunk:  60%|██████████████████████████████████▍                      | 26/43 [15:45:18<10:18:05, 2181.47s/it, now=None]\n",
      "\n",
      "chunk:  60%|██████████████████████████████████▍                      | 26/43 [15:43:33<10:16:56, 2177.46s/it, now=None]\u001b[A\u001b[A\n",
      "chunk:  60%|██████████████████████████████████▍                      | 26/43 [15:45:06<10:17:57, 2181.03s/it, now=None]\u001b[A"
     ]
    },
    {
     "name": "stdout",
     "output_type": "stream",
     "text": [
      "MoviePy - Writing audio in temp_audio.wav\n"
     ]
    },
    {
     "name": "stderr",
     "output_type": "stream",
     "text": [
      "\n",
      "\n",
      "\n",
      "chunk:   0%|                                                                          | 0/32 [00:00<?, ?it/s, now=None]\u001b[A\u001b[A\u001b[A\n",
      "\n",
      "\n",
      "                                                                                                                       \u001b[A\u001b[A\u001b[A\n",
      "\n",
      "\u001b[A\u001b[A                                                                                                                 \n",
      "chunk:  60%|██████████████████████████████████▍                      | 26/43 [15:45:18<10:18:05, 2181.48s/it, now=None]\n",
      "\n",
      "chunk:  60%|██████████████████████████████████▍                      | 26/43 [15:43:33<10:16:56, 2177.46s/it, now=None]\u001b[A\u001b[A\n",
      "chunk:  60%|██████████████████████████████████▍                      | 26/43 [15:45:06<10:17:57, 2181.03s/it, now=None]\u001b[A"
     ]
    },
    {
     "name": "stdout",
     "output_type": "stream",
     "text": [
      "MoviePy - Done.\n"
     ]
    },
    {
     "name": "stderr",
     "output_type": "stream",
     "text": [
      "                                                                                                                       \n",
      "\n",
      "\u001b[A\u001b[A                                                                                                                 \n",
      "chunk:  60%|██████████████████████████████████▍                      | 26/43 [15:45:18<10:18:05, 2181.50s/it, now=None]\n",
      "\n",
      "chunk:  60%|██████████████████████████████████▍                      | 26/43 [15:43:34<10:16:57, 2177.48s/it, now=None]\u001b[A\u001b[A\n",
      "chunk:  60%|██████████████████████████████████▍                      | 26/43 [15:45:07<10:17:57, 2181.05s/it, now=None]\u001b[A"
     ]
    },
    {
     "name": "stdout",
     "output_type": "stream",
     "text": [
      "MoviePy - Writing audio in temp.wav\n"
     ]
    },
    {
     "name": "stderr",
     "output_type": "stream",
     "text": [
      "\n",
      "\n",
      "\n",
      "chunk:   0%|                                                                          | 0/17 [00:00<?, ?it/s, now=None]\u001b[A\u001b[A\u001b[A\n",
      "\n",
      "\n",
      "                                                                                                                       \u001b[A\u001b[A\u001b[A\n",
      "\n",
      "\u001b[A\u001b[A                                                                                                                 \n",
      "chunk:  60%|██████████████████████████████████▍                      | 26/43 [15:45:19<10:18:05, 2181.50s/it, now=None]\n",
      "\n",
      "chunk:  60%|██████████████████████████████████▍                      | 26/43 [15:43:34<10:16:57, 2177.48s/it, now=None]\u001b[A\u001b[A\n",
      "chunk:  60%|██████████████████████████████████▍                      | 26/43 [15:45:07<10:17:57, 2181.05s/it, now=None]\u001b[A"
     ]
    },
    {
     "name": "stdout",
     "output_type": "stream",
     "text": [
      "MoviePy - Done.\n",
      "1/1 [==============================] - 0s 48ms/step\n",
      "1/1 [==============================] - 0s 48ms/step\n"
     ]
    },
    {
     "name": "stderr",
     "output_type": "stream",
     "text": [
      "                                                                                                                       \n",
      "\n",
      "\u001b[A\u001b[A                                                                                                                 \n",
      "chunk:  60%|██████████████████████████████████▍                      | 26/43 [15:45:20<10:18:06, 2181.56s/it, now=None]\n",
      "\n",
      "chunk:  60%|██████████████████████████████████▍                      | 26/43 [15:43:36<10:16:58, 2177.54s/it, now=None]\u001b[A\u001b[A\n",
      "chunk:  60%|██████████████████████████████████▍                      | 26/43 [15:45:08<10:17:58, 2181.11s/it, now=None]\u001b[A"
     ]
    },
    {
     "name": "stdout",
     "output_type": "stream",
     "text": [
      "MoviePy - Writing audio in temp_audio.wav\n"
     ]
    },
    {
     "name": "stderr",
     "output_type": "stream",
     "text": [
      "\n",
      "\n",
      "\n",
      "chunk:   0%|                                                                          | 0/51 [00:00<?, ?it/s, now=None]\u001b[A\u001b[A\u001b[A\n",
      "\n",
      "\n",
      "                                                                                                                       \u001b[A\u001b[A\u001b[A\n",
      "\n",
      "\u001b[A\u001b[A                                                                                                                 \n",
      "chunk:  60%|██████████████████████████████████▍                      | 26/43 [15:45:20<10:18:06, 2181.57s/it, now=None]\n",
      "\n",
      "chunk:  60%|██████████████████████████████████▍                      | 26/43 [15:43:36<10:16:58, 2177.55s/it, now=None]\u001b[A\u001b[A\n",
      "chunk:  60%|██████████████████████████████████▍                      | 26/43 [15:45:09<10:17:59, 2181.12s/it, now=None]\u001b[A"
     ]
    },
    {
     "name": "stdout",
     "output_type": "stream",
     "text": [
      "MoviePy - Done.\n"
     ]
    },
    {
     "name": "stderr",
     "output_type": "stream",
     "text": [
      "                                                                                                                       \n",
      "\n",
      "\u001b[A\u001b[A                                                                                                                 \n",
      "chunk:  60%|██████████████████████████████████▍                      | 26/43 [15:45:21<10:18:06, 2181.59s/it, now=None]\n",
      "\n",
      "chunk:  60%|██████████████████████████████████▍                      | 26/43 [15:43:36<10:16:58, 2177.57s/it, now=None]\u001b[A\u001b[A\n",
      "chunk:  60%|██████████████████████████████████▍                      | 26/43 [15:45:09<10:17:59, 2181.14s/it, now=None]\u001b[A"
     ]
    },
    {
     "name": "stdout",
     "output_type": "stream",
     "text": [
      "MoviePy - Writing audio in temp.wav\n"
     ]
    },
    {
     "name": "stderr",
     "output_type": "stream",
     "text": [
      "\n",
      "\n",
      "\n",
      "chunk:   0%|                                                                          | 0/26 [00:00<?, ?it/s, now=None]\u001b[A\u001b[A\u001b[A\n",
      "\n",
      "\n",
      "                                                                                                                       \u001b[A\u001b[A\u001b[A\n",
      "\n",
      "\u001b[A\u001b[A                                                                                                                 \n",
      "chunk:  60%|██████████████████████████████████▍                      | 26/43 [15:45:21<10:18:07, 2181.59s/it, now=None]\n",
      "\n",
      "chunk:  60%|██████████████████████████████████▍                      | 26/43 [15:43:36<10:16:58, 2177.57s/it, now=None]\u001b[A\u001b[A\n",
      "chunk:  60%|██████████████████████████████████▍                      | 26/43 [15:45:09<10:17:59, 2181.14s/it, now=None]\u001b[A"
     ]
    },
    {
     "name": "stdout",
     "output_type": "stream",
     "text": [
      "MoviePy - Done.\n",
      "1/1 [==============================] - 0s 54ms/step\n",
      "1/1 [==============================] - 0s 48ms/step\n"
     ]
    },
    {
     "name": "stderr",
     "output_type": "stream",
     "text": [
      "                                                                                                                       \n",
      "\n",
      "\u001b[A\u001b[A                                                                                                                 \n",
      "chunk:  60%|██████████████████████████████████▍                      | 26/43 [15:45:23<10:18:08, 2181.68s/it, now=None]\n",
      "\n",
      "chunk:  60%|██████████████████████████████████▍                      | 26/43 [15:43:39<10:17:00, 2177.66s/it, now=None]\u001b[A\u001b[A\n",
      "chunk:  60%|██████████████████████████████████▍                      | 26/43 [15:45:11<10:18:00, 2181.23s/it, now=None]\u001b[A"
     ]
    },
    {
     "name": "stdout",
     "output_type": "stream",
     "text": [
      "MoviePy - Writing audio in temp_audio.wav\n"
     ]
    },
    {
     "name": "stderr",
     "output_type": "stream",
     "text": [
      "\n",
      "\n",
      "\n",
      "chunk:   0%|                                                                          | 0/56 [00:00<?, ?it/s, now=None]\u001b[A\u001b[A\u001b[A\n",
      "\n",
      "\n",
      "                                                                                                                       \u001b[A\u001b[A\u001b[A\n",
      "\n",
      "\u001b[A\u001b[A                                                                                                                 \n",
      "chunk:  60%|██████████████████████████████████▍                      | 26/43 [15:45:23<10:18:08, 2181.68s/it, now=None]\n",
      "\n",
      "chunk:  60%|██████████████████████████████████▍                      | 26/43 [15:43:39<10:17:00, 2177.66s/it, now=None]\u001b[A\u001b[A\n",
      "chunk:  60%|██████████████████████████████████▍                      | 26/43 [15:45:12<10:18:00, 2181.23s/it, now=None]\u001b[A"
     ]
    },
    {
     "name": "stdout",
     "output_type": "stream",
     "text": [
      "MoviePy - Done.\n"
     ]
    },
    {
     "name": "stderr",
     "output_type": "stream",
     "text": [
      "                                                                                                                       \n",
      "\n",
      "\u001b[A\u001b[A                                                                                                                 \n",
      "chunk:  60%|██████████████████████████████████▍                      | 26/43 [15:45:24<10:18:08, 2181.70s/it, now=None]\n",
      "\n",
      "chunk:  60%|██████████████████████████████████▍                      | 26/43 [15:43:39<10:17:00, 2177.68s/it, now=None]\u001b[A\u001b[A\n",
      "chunk:  60%|██████████████████████████████████▍                      | 26/43 [15:45:12<10:18:01, 2181.25s/it, now=None]\u001b[A"
     ]
    },
    {
     "name": "stdout",
     "output_type": "stream",
     "text": [
      "MoviePy - Writing audio in temp.wav\n"
     ]
    },
    {
     "name": "stderr",
     "output_type": "stream",
     "text": [
      "\n",
      "\n",
      "\n",
      "chunk:   0%|                                                                          | 0/28 [00:00<?, ?it/s, now=None]\u001b[A\u001b[A\u001b[A\n",
      "\n",
      "\n",
      "                                                                                                                       \u001b[A\u001b[A\u001b[A\n",
      "\n",
      "\u001b[A\u001b[A                                                                                                                 \n",
      "chunk:  60%|██████████████████████████████████▍                      | 26/43 [15:45:24<10:18:08, 2181.70s/it, now=None]\n",
      "\n",
      "chunk:  60%|██████████████████████████████████▍                      | 26/43 [15:43:39<10:17:00, 2177.68s/it, now=None]\u001b[A\u001b[A\n",
      "chunk:  60%|██████████████████████████████████▍                      | 26/43 [15:45:12<10:18:01, 2181.25s/it, now=None]\u001b[A"
     ]
    },
    {
     "name": "stdout",
     "output_type": "stream",
     "text": [
      "MoviePy - Done.\n",
      "1/1 [==============================] - 0s 43ms/step\n",
      "1/1 [==============================] - 0s 49ms/step\n"
     ]
    },
    {
     "name": "stderr",
     "output_type": "stream",
     "text": [
      "                                                                                                                       \n",
      "\n",
      "\u001b[A\u001b[A                                                                                                                 \n",
      "chunk:  60%|██████████████████████████████████▍                      | 26/43 [15:45:26<10:18:10, 2181.79s/it, now=None]\n",
      "\n",
      "chunk:  60%|██████████████████████████████████▍                      | 26/43 [15:43:42<10:17:02, 2177.78s/it, now=None]\u001b[A\u001b[A\n",
      "chunk:  60%|██████████████████████████████████▍                      | 26/43 [15:45:14<10:18:02, 2181.35s/it, now=None]\u001b[A"
     ]
    },
    {
     "name": "stdout",
     "output_type": "stream",
     "text": [
      "MoviePy - Writing audio in temp_audio.wav\n"
     ]
    },
    {
     "name": "stderr",
     "output_type": "stream",
     "text": [
      "\n",
      "\n",
      "\n",
      "chunk:   0%|                                                                          | 0/59 [00:00<?, ?it/s, now=None]\u001b[A\u001b[A\u001b[A\n",
      "\n",
      "\n",
      "chunk:   5%|███▎                                                              | 3/59 [00:00<00:02, 26.15it/s, now=None]\u001b[A\u001b[A\u001b[A\n",
      "\n",
      "\n",
      "                                                                                                                       \u001b[A\u001b[A\u001b[A\n",
      "\n",
      "\u001b[A\u001b[A                                                                                                                 \n",
      "chunk:  60%|██████████████████████████████████▍                      | 26/43 [15:45:26<10:18:10, 2181.80s/it, now=None]\n",
      "\n",
      "chunk:  60%|██████████████████████████████████▍                      | 26/43 [15:43:42<10:17:02, 2177.78s/it, now=None]\u001b[A\u001b[A\n",
      "chunk:  60%|██████████████████████████████████▍                      | 26/43 [15:45:15<10:18:03, 2181.35s/it, now=None]\u001b[A"
     ]
    },
    {
     "name": "stdout",
     "output_type": "stream",
     "text": [
      "MoviePy - Done.\n"
     ]
    },
    {
     "name": "stderr",
     "output_type": "stream",
     "text": [
      "                                                                                                                       \n",
      "\n",
      "\u001b[A\u001b[A                                                                                                                 \n",
      "chunk:  60%|██████████████████████████████████▍                      | 26/43 [15:45:27<10:18:11, 2181.83s/it, now=None]\n",
      "\n",
      "chunk:  60%|██████████████████████████████████▍                      | 26/43 [15:43:43<10:17:02, 2177.81s/it, now=None]\u001b[A\u001b[A\n",
      "chunk:  60%|██████████████████████████████████▍                      | 26/43 [15:45:15<10:18:03, 2181.38s/it, now=None]\u001b[A"
     ]
    },
    {
     "name": "stdout",
     "output_type": "stream",
     "text": [
      "MoviePy - Writing audio in temp.wav\n"
     ]
    },
    {
     "name": "stderr",
     "output_type": "stream",
     "text": [
      "\n",
      "\n",
      "\n",
      "chunk:   0%|                                                                          | 0/30 [00:00<?, ?it/s, now=None]\u001b[A\u001b[A\u001b[A\n",
      "\n",
      "\n",
      "chunk:  10%|██████▌                                                           | 3/30 [00:00<00:01, 15.27it/s, now=None]\u001b[A\u001b[A\u001b[A\n",
      "\n",
      "\n",
      "                                                                                                                       \u001b[A\u001b[A\u001b[A\n",
      "\n",
      "\u001b[A\u001b[A                                                                                                                 \n",
      "chunk:  60%|██████████████████████████████████▍                      | 26/43 [15:45:27<10:18:11, 2181.84s/it, now=None]\n",
      "\n",
      "chunk:  60%|██████████████████████████████████▍                      | 26/43 [15:43:43<10:17:02, 2177.82s/it, now=None]\u001b[A\u001b[A\n",
      "chunk:  60%|██████████████████████████████████▍                      | 26/43 [15:45:16<10:18:03, 2181.39s/it, now=None]\u001b[A"
     ]
    },
    {
     "name": "stdout",
     "output_type": "stream",
     "text": [
      "MoviePy - Done.\n",
      "1/1 [==============================] - 0s 51ms/step\n",
      "1/1 [==============================] - 0s 48ms/step\n"
     ]
    },
    {
     "name": "stderr",
     "output_type": "stream",
     "text": [
      "                                                                                                                       \n",
      "\n",
      "\u001b[A\u001b[A                                                                                                                 \n",
      "chunk:  60%|██████████████████████████████████▍                      | 26/43 [15:45:30<10:18:13, 2181.95s/it, now=None]\n",
      "\n",
      "chunk:  60%|██████████████████████████████████▍                      | 26/43 [15:43:46<10:17:04, 2177.93s/it, now=None]\u001b[A\u001b[A\n",
      "chunk:  60%|██████████████████████████████████▍                      | 26/43 [15:45:19<10:18:05, 2181.50s/it, now=None]\u001b[A"
     ]
    },
    {
     "name": "stdout",
     "output_type": "stream",
     "text": [
      "MoviePy - Writing audio in temp_audio.wav\n"
     ]
    },
    {
     "name": "stderr",
     "output_type": "stream",
     "text": [
      "\n",
      "\n",
      "\n",
      "chunk:   0%|                                                                          | 0/32 [00:00<?, ?it/s, now=None]\u001b[A\u001b[A\u001b[A\n",
      "\n",
      "\n",
      "                                                                                                                       \u001b[A\u001b[A\u001b[A\n",
      "\n",
      "\u001b[A\u001b[A                                                                                                                 \n",
      "chunk:  60%|██████████████████████████████████▍                      | 26/43 [15:45:30<10:18:13, 2181.96s/it, now=None]\n",
      "\n",
      "chunk:  60%|██████████████████████████████████▍                      | 26/43 [15:43:46<10:17:04, 2177.94s/it, now=None]\u001b[A\u001b[A\n",
      "chunk:  60%|██████████████████████████████████▍                      | 26/43 [15:45:19<10:18:05, 2181.51s/it, now=None]\u001b[A"
     ]
    },
    {
     "name": "stdout",
     "output_type": "stream",
     "text": [
      "MoviePy - Done.\n"
     ]
    },
    {
     "name": "stderr",
     "output_type": "stream",
     "text": [
      "                                                                                                                       \n",
      "\n",
      "\u001b[A\u001b[A                                                                                                                 \n",
      "chunk:  60%|██████████████████████████████████▍                      | 26/43 [15:45:31<10:18:13, 2181.99s/it, now=None]\n",
      "\n",
      "chunk:  60%|██████████████████████████████████▍                      | 26/43 [15:43:47<10:17:05, 2177.97s/it, now=None]\u001b[A\u001b[A\n",
      "chunk:  60%|██████████████████████████████████▍                      | 26/43 [15:45:20<10:18:06, 2181.54s/it, now=None]\u001b[A"
     ]
    },
    {
     "name": "stdout",
     "output_type": "stream",
     "text": [
      "MoviePy - Writing audio in temp.wav\n"
     ]
    },
    {
     "name": "stderr",
     "output_type": "stream",
     "text": [
      "\n",
      "\n",
      "\n",
      "chunk:   0%|                                                                          | 0/16 [00:00<?, ?it/s, now=None]\u001b[A\u001b[A\u001b[A\n",
      "\n",
      "\n",
      "chunk:  19%|████████████▍                                                     | 3/16 [00:00<00:00, 15.43it/s, now=None]\u001b[A\u001b[A\u001b[A\n",
      "\n",
      "\n",
      "                                                                                                                       \u001b[A\u001b[A\u001b[A\n",
      "\n",
      "\u001b[A\u001b[A                                                                                                                 \n",
      "chunk:  60%|██████████████████████████████████▍                      | 26/43 [15:45:32<10:18:14, 2182.00s/it, now=None]\n",
      "\n",
      "chunk:  60%|██████████████████████████████████▍                      | 26/43 [15:43:47<10:17:05, 2177.98s/it, now=None]\u001b[A\u001b[A\n",
      "chunk:  60%|██████████████████████████████████▍                      | 26/43 [15:45:20<10:18:06, 2181.55s/it, now=None]\u001b[A"
     ]
    },
    {
     "name": "stdout",
     "output_type": "stream",
     "text": [
      "MoviePy - Done.\n",
      "1/1 [==============================] - 0s 106ms/step\n",
      "1/1 [==============================] - 0s 109ms/step\n"
     ]
    },
    {
     "name": "stderr",
     "output_type": "stream",
     "text": [
      "                                                                                                                       \n",
      "\n",
      "\u001b[A\u001b[A                                                                                                                 \n",
      "chunk:  60%|██████████████████████████████████▍                      | 26/43 [15:45:34<10:18:15, 2182.09s/it, now=None]\n",
      "\n",
      "chunk:  60%|██████████████████████████████████▍                      | 26/43 [15:43:49<10:17:07, 2178.07s/it, now=None]\u001b[A\u001b[A\n",
      "chunk:  60%|██████████████████████████████████▍                      | 26/43 [15:45:22<10:18:07, 2181.64s/it, now=None]\u001b[A"
     ]
    },
    {
     "name": "stdout",
     "output_type": "stream",
     "text": [
      "MoviePy - Writing audio in temp_audio.wav\n"
     ]
    },
    {
     "name": "stderr",
     "output_type": "stream",
     "text": [
      "\n",
      "\n",
      "\n",
      "chunk:   0%|                                                                          | 0/46 [00:00<?, ?it/s, now=None]\u001b[A\u001b[A\u001b[A\n",
      "\n",
      "\n",
      "chunk:   7%|████▎                                                             | 3/46 [00:00<00:01, 29.46it/s, now=None]\u001b[A\u001b[A\u001b[A\n",
      "\n",
      "\n",
      "                                                                                                                       \u001b[A\u001b[A\u001b[A\n",
      "\n",
      "\u001b[A\u001b[A                                                                                                                 \n",
      "chunk:  60%|██████████████████████████████████▍                      | 26/43 [15:45:34<10:18:15, 2182.10s/it, now=None]\n",
      "\n",
      "chunk:  60%|██████████████████████████████████▍                      | 26/43 [15:43:50<10:17:07, 2178.08s/it, now=None]\u001b[A\u001b[A\n",
      "chunk:  60%|██████████████████████████████████▍                      | 26/43 [15:45:22<10:18:08, 2181.65s/it, now=None]\u001b[A"
     ]
    },
    {
     "name": "stdout",
     "output_type": "stream",
     "text": [
      "MoviePy - Done.\n"
     ]
    },
    {
     "name": "stderr",
     "output_type": "stream",
     "text": [
      "                                                                                                                       \n",
      "\n",
      "\u001b[A\u001b[A                                                                                                                 \n",
      "chunk:  60%|██████████████████████████████████▍                      | 26/43 [15:45:35<10:18:16, 2182.12s/it, now=None]\n",
      "\n",
      "chunk:  60%|██████████████████████████████████▍                      | 26/43 [15:43:50<10:17:07, 2178.10s/it, now=None]\u001b[A\u001b[A\n",
      "chunk:  60%|██████████████████████████████████▍                      | 26/43 [15:45:23<10:18:08, 2181.67s/it, now=None]\u001b[A"
     ]
    },
    {
     "name": "stdout",
     "output_type": "stream",
     "text": [
      "MoviePy - Writing audio in temp.wav\n"
     ]
    },
    {
     "name": "stderr",
     "output_type": "stream",
     "text": [
      "\n",
      "\n",
      "\n",
      "chunk:   0%|                                                                          | 0/23 [00:00<?, ?it/s, now=None]\u001b[A\u001b[A\u001b[A\n",
      "\n",
      "\n",
      "chunk:  91%|██████████████████████████████████████████████████████████▍     | 21/23 [00:00<00:00, 207.85it/s, now=None]\u001b[A\u001b[A\u001b[A\n",
      "\n",
      "\n",
      "                                                                                                                       \u001b[A\u001b[A\u001b[A\n",
      "\n",
      "\u001b[A\u001b[A                                                                                                                 \n",
      "chunk:  60%|██████████████████████████████████▍                      | 26/43 [15:45:35<10:18:16, 2182.13s/it, now=None]\n",
      "\n",
      "chunk:  60%|██████████████████████████████████▍                      | 26/43 [15:43:50<10:17:07, 2178.11s/it, now=None]\u001b[A\u001b[A\n",
      "chunk:  60%|██████████████████████████████████▍                      | 26/43 [15:45:23<10:18:08, 2181.68s/it, now=None]\u001b[A"
     ]
    },
    {
     "name": "stdout",
     "output_type": "stream",
     "text": [
      "MoviePy - Done.\n",
      "1/1 [==============================] - 0s 53ms/step\n",
      "1/1 [==============================] - 0s 55ms/step\n"
     ]
    },
    {
     "name": "stderr",
     "output_type": "stream",
     "text": [
      "                                                                                                                       \n",
      "\n",
      "\u001b[A\u001b[A                                                                                                                 \n",
      "chunk:  60%|██████████████████████████████████▍                      | 26/43 [15:45:37<10:18:17, 2182.21s/it, now=None]\n",
      "\n",
      "chunk:  60%|██████████████████████████████████▍                      | 26/43 [15:43:53<10:17:09, 2178.19s/it, now=None]\u001b[A\u001b[A\n",
      "chunk:  60%|██████████████████████████████████▍                      | 26/43 [15:45:25<10:18:09, 2181.76s/it, now=None]\u001b[A"
     ]
    },
    {
     "name": "stdout",
     "output_type": "stream",
     "text": [
      "MoviePy - Writing audio in temp_audio.wav\n"
     ]
    },
    {
     "name": "stderr",
     "output_type": "stream",
     "text": [
      "\n",
      "\n",
      "\n",
      "chunk:   0%|                                                                          | 0/35 [00:00<?, ?it/s, now=None]\u001b[A\u001b[A\u001b[A\n",
      "\n",
      "\n",
      "chunk:   9%|█████▋                                                            | 3/35 [00:00<00:01, 19.82it/s, now=None]\u001b[A\u001b[A\u001b[A\n",
      "\n",
      "\n",
      "                                                                                                                       \u001b[A\u001b[A\u001b[A\n",
      "\n",
      "\u001b[A\u001b[A                                                                                                                 \n",
      "chunk:  60%|██████████████████████████████████▍                      | 26/43 [15:45:37<10:18:17, 2182.22s/it, now=None]\n",
      "\n",
      "chunk:  60%|██████████████████████████████████▍                      | 26/43 [15:43:53<10:17:09, 2178.20s/it, now=None]\u001b[A\u001b[A\n",
      "chunk:  60%|██████████████████████████████████▍                      | 26/43 [15:45:26<10:18:10, 2181.77s/it, now=None]\u001b[A"
     ]
    },
    {
     "name": "stdout",
     "output_type": "stream",
     "text": [
      "MoviePy - Done.\n"
     ]
    },
    {
     "name": "stderr",
     "output_type": "stream",
     "text": [
      "                                                                                                                       \n",
      "\n",
      "\u001b[A\u001b[A                                                                                                                 \n",
      "chunk:  60%|██████████████████████████████████▍                      | 26/43 [15:45:38<10:18:18, 2182.25s/it, now=None]\n",
      "\n",
      "chunk:  60%|██████████████████████████████████▍                      | 26/43 [15:43:53<10:17:09, 2178.23s/it, now=None]\u001b[A\u001b[A\n",
      "chunk:  60%|██████████████████████████████████▍                      | 26/43 [15:45:26<10:18:10, 2181.80s/it, now=None]\u001b[A"
     ]
    },
    {
     "name": "stdout",
     "output_type": "stream",
     "text": [
      "MoviePy - Writing audio in temp.wav\n"
     ]
    },
    {
     "name": "stderr",
     "output_type": "stream",
     "text": [
      "\n",
      "\n",
      "\n",
      "chunk:   0%|                                                                          | 0/18 [00:00<?, ?it/s, now=None]\u001b[A\u001b[A\u001b[A\n",
      "\n",
      "\n",
      "chunk:  17%|███████████                                                       | 3/18 [00:00<00:01, 13.43it/s, now=None]\u001b[A\u001b[A\u001b[A\n",
      "\n",
      "\n",
      "                                                                                                                       \u001b[A\u001b[A\u001b[A\n",
      "\n",
      "\u001b[A\u001b[A                                                                                                                 \n",
      "chunk:  60%|██████████████████████████████████▍                      | 26/43 [15:45:38<10:18:18, 2182.26s/it, now=None]\n",
      "\n",
      "chunk:  60%|██████████████████████████████████▍                      | 26/43 [15:43:54<10:17:10, 2178.24s/it, now=None]\u001b[A\u001b[A\n",
      "chunk:  60%|██████████████████████████████████▍                      | 26/43 [15:45:27<10:18:10, 2181.81s/it, now=None]\u001b[A"
     ]
    },
    {
     "name": "stdout",
     "output_type": "stream",
     "text": [
      "MoviePy - Done.\n"
     ]
    },
    {
     "ename": "AttributeError",
     "evalue": "EagerTensor object has no attribute 'tolist'. \n        If you are looking for numpy-related methods, please run the following:\n        from tensorflow.python.ops.numpy_ops import np_config\n        np_config.enable_numpy_behavior()\n      ",
     "output_type": "error",
     "traceback": [
      "\u001b[1;31m---------------------------------------------------------------------------\u001b[0m",
      "\u001b[1;31mAttributeError\u001b[0m                            Traceback (most recent call last)",
      "Cell \u001b[1;32mIn[47], line 139\u001b[0m\n\u001b[0;32m    137\u001b[0m \u001b[38;5;66;03m# Save the dictionary as JSON\u001b[39;00m\n\u001b[0;32m    138\u001b[0m \u001b[38;5;28;01mwith\u001b[39;00m \u001b[38;5;28mopen\u001b[39m(\u001b[38;5;124m\"\u001b[39m\u001b[38;5;124mvideo_features.json\u001b[39m\u001b[38;5;124m\"\u001b[39m, \u001b[38;5;124m\"\u001b[39m\u001b[38;5;124mw\u001b[39m\u001b[38;5;124m\"\u001b[39m) \u001b[38;5;28;01mas\u001b[39;00m JSON_file:\n\u001b[1;32m--> 139\u001b[0m     json\u001b[38;5;241m.\u001b[39mdump(video_features, JSON_file,default\u001b[38;5;241m=\u001b[39m\u001b[38;5;28;01mlambda\u001b[39;00m x: x\u001b[38;5;241m.\u001b[39mtolist())\n",
      "File \u001b[1;32m~\\miniconda3\\Lib\\json\\__init__.py:179\u001b[0m, in \u001b[0;36mdump\u001b[1;34m(obj, fp, skipkeys, ensure_ascii, check_circular, allow_nan, cls, indent, separators, default, sort_keys, **kw)\u001b[0m\n\u001b[0;32m    173\u001b[0m     iterable \u001b[38;5;241m=\u001b[39m \u001b[38;5;28mcls\u001b[39m(skipkeys\u001b[38;5;241m=\u001b[39mskipkeys, ensure_ascii\u001b[38;5;241m=\u001b[39mensure_ascii,\n\u001b[0;32m    174\u001b[0m         check_circular\u001b[38;5;241m=\u001b[39mcheck_circular, allow_nan\u001b[38;5;241m=\u001b[39mallow_nan, indent\u001b[38;5;241m=\u001b[39mindent,\n\u001b[0;32m    175\u001b[0m         separators\u001b[38;5;241m=\u001b[39mseparators,\n\u001b[0;32m    176\u001b[0m         default\u001b[38;5;241m=\u001b[39mdefault, sort_keys\u001b[38;5;241m=\u001b[39msort_keys, \u001b[38;5;241m*\u001b[39m\u001b[38;5;241m*\u001b[39mkw)\u001b[38;5;241m.\u001b[39miterencode(obj)\n\u001b[0;32m    177\u001b[0m \u001b[38;5;66;03m# could accelerate with writelines in some versions of Python, at\u001b[39;00m\n\u001b[0;32m    178\u001b[0m \u001b[38;5;66;03m# a debuggability cost\u001b[39;00m\n\u001b[1;32m--> 179\u001b[0m \u001b[38;5;28;01mfor\u001b[39;00m chunk \u001b[38;5;129;01min\u001b[39;00m iterable:\n\u001b[0;32m    180\u001b[0m     fp\u001b[38;5;241m.\u001b[39mwrite(chunk)\n",
      "File \u001b[1;32m~\\miniconda3\\Lib\\json\\encoder.py:432\u001b[0m, in \u001b[0;36m_make_iterencode.<locals>._iterencode\u001b[1;34m(o, _current_indent_level)\u001b[0m\n\u001b[0;32m    430\u001b[0m     \u001b[38;5;28;01myield from\u001b[39;00m _iterencode_list(o, _current_indent_level)\n\u001b[0;32m    431\u001b[0m \u001b[38;5;28;01melif\u001b[39;00m \u001b[38;5;28misinstance\u001b[39m(o, \u001b[38;5;28mdict\u001b[39m):\n\u001b[1;32m--> 432\u001b[0m     \u001b[38;5;28;01myield from\u001b[39;00m _iterencode_dict(o, _current_indent_level)\n\u001b[0;32m    433\u001b[0m \u001b[38;5;28;01melse\u001b[39;00m:\n\u001b[0;32m    434\u001b[0m     \u001b[38;5;28;01mif\u001b[39;00m markers \u001b[38;5;129;01mis\u001b[39;00m \u001b[38;5;129;01mnot\u001b[39;00m \u001b[38;5;28;01mNone\u001b[39;00m:\n",
      "File \u001b[1;32m~\\miniconda3\\Lib\\json\\encoder.py:406\u001b[0m, in \u001b[0;36m_make_iterencode.<locals>._iterencode_dict\u001b[1;34m(dct, _current_indent_level)\u001b[0m\n\u001b[0;32m    404\u001b[0m         \u001b[38;5;28;01melse\u001b[39;00m:\n\u001b[0;32m    405\u001b[0m             chunks \u001b[38;5;241m=\u001b[39m _iterencode(value, _current_indent_level)\n\u001b[1;32m--> 406\u001b[0m         \u001b[38;5;28;01myield from\u001b[39;00m chunks\n\u001b[0;32m    407\u001b[0m \u001b[38;5;28;01mif\u001b[39;00m newline_indent \u001b[38;5;129;01mis\u001b[39;00m \u001b[38;5;129;01mnot\u001b[39;00m \u001b[38;5;28;01mNone\u001b[39;00m:\n\u001b[0;32m    408\u001b[0m     _current_indent_level \u001b[38;5;241m-\u001b[39m\u001b[38;5;241m=\u001b[39m \u001b[38;5;241m1\u001b[39m\n",
      "File \u001b[1;32m~\\miniconda3\\Lib\\json\\encoder.py:406\u001b[0m, in \u001b[0;36m_make_iterencode.<locals>._iterencode_dict\u001b[1;34m(dct, _current_indent_level)\u001b[0m\n\u001b[0;32m    404\u001b[0m         \u001b[38;5;28;01melse\u001b[39;00m:\n\u001b[0;32m    405\u001b[0m             chunks \u001b[38;5;241m=\u001b[39m _iterencode(value, _current_indent_level)\n\u001b[1;32m--> 406\u001b[0m         \u001b[38;5;28;01myield from\u001b[39;00m chunks\n\u001b[0;32m    407\u001b[0m \u001b[38;5;28;01mif\u001b[39;00m newline_indent \u001b[38;5;129;01mis\u001b[39;00m \u001b[38;5;129;01mnot\u001b[39;00m \u001b[38;5;28;01mNone\u001b[39;00m:\n\u001b[0;32m    408\u001b[0m     _current_indent_level \u001b[38;5;241m-\u001b[39m\u001b[38;5;241m=\u001b[39m \u001b[38;5;241m1\u001b[39m\n",
      "File \u001b[1;32m~\\miniconda3\\Lib\\json\\encoder.py:439\u001b[0m, in \u001b[0;36m_make_iterencode.<locals>._iterencode\u001b[1;34m(o, _current_indent_level)\u001b[0m\n\u001b[0;32m    437\u001b[0m         \u001b[38;5;28;01mraise\u001b[39;00m \u001b[38;5;167;01mValueError\u001b[39;00m(\u001b[38;5;124m\"\u001b[39m\u001b[38;5;124mCircular reference detected\u001b[39m\u001b[38;5;124m\"\u001b[39m)\n\u001b[0;32m    438\u001b[0m     markers[markerid] \u001b[38;5;241m=\u001b[39m o\n\u001b[1;32m--> 439\u001b[0m o \u001b[38;5;241m=\u001b[39m _default(o)\n\u001b[0;32m    440\u001b[0m \u001b[38;5;28;01myield from\u001b[39;00m _iterencode(o, _current_indent_level)\n\u001b[0;32m    441\u001b[0m \u001b[38;5;28;01mif\u001b[39;00m markers \u001b[38;5;129;01mis\u001b[39;00m \u001b[38;5;129;01mnot\u001b[39;00m \u001b[38;5;28;01mNone\u001b[39;00m:\n",
      "Cell \u001b[1;32mIn[47], line 139\u001b[0m, in \u001b[0;36m<lambda>\u001b[1;34m(x)\u001b[0m\n\u001b[0;32m    137\u001b[0m \u001b[38;5;66;03m# Save the dictionary as JSON\u001b[39;00m\n\u001b[0;32m    138\u001b[0m \u001b[38;5;28;01mwith\u001b[39;00m \u001b[38;5;28mopen\u001b[39m(\u001b[38;5;124m\"\u001b[39m\u001b[38;5;124mvideo_features.json\u001b[39m\u001b[38;5;124m\"\u001b[39m, \u001b[38;5;124m\"\u001b[39m\u001b[38;5;124mw\u001b[39m\u001b[38;5;124m\"\u001b[39m) \u001b[38;5;28;01mas\u001b[39;00m JSON_file:\n\u001b[1;32m--> 139\u001b[0m     json\u001b[38;5;241m.\u001b[39mdump(video_features, JSON_file,default\u001b[38;5;241m=\u001b[39m\u001b[38;5;28;01mlambda\u001b[39;00m x: x\u001b[38;5;241m.\u001b[39mtolist())\n",
      "File \u001b[1;32m~\\miniconda3\\Lib\\site-packages\\tensorflow\\python\\framework\\ops.py:424\u001b[0m, in \u001b[0;36mTensor.__getattr__\u001b[1;34m(self, name)\u001b[0m\n\u001b[0;32m    420\u001b[0m \u001b[38;5;28;01mdef\u001b[39;00m \u001b[38;5;21m__getattr__\u001b[39m(\u001b[38;5;28mself\u001b[39m, name):\n\u001b[0;32m    421\u001b[0m   \u001b[38;5;28;01mif\u001b[39;00m name \u001b[38;5;129;01min\u001b[39;00m {\u001b[38;5;124m\"\u001b[39m\u001b[38;5;124mT\u001b[39m\u001b[38;5;124m\"\u001b[39m, \u001b[38;5;124m\"\u001b[39m\u001b[38;5;124mastype\u001b[39m\u001b[38;5;124m\"\u001b[39m, \u001b[38;5;124m\"\u001b[39m\u001b[38;5;124mravel\u001b[39m\u001b[38;5;124m\"\u001b[39m, \u001b[38;5;124m\"\u001b[39m\u001b[38;5;124mtranspose\u001b[39m\u001b[38;5;124m\"\u001b[39m, \u001b[38;5;124m\"\u001b[39m\u001b[38;5;124mreshape\u001b[39m\u001b[38;5;124m\"\u001b[39m, \u001b[38;5;124m\"\u001b[39m\u001b[38;5;124mclip\u001b[39m\u001b[38;5;124m\"\u001b[39m, \u001b[38;5;124m\"\u001b[39m\u001b[38;5;124msize\u001b[39m\u001b[38;5;124m\"\u001b[39m,\n\u001b[0;32m    422\u001b[0m               \u001b[38;5;124m\"\u001b[39m\u001b[38;5;124mtolist\u001b[39m\u001b[38;5;124m\"\u001b[39m, \u001b[38;5;124m\"\u001b[39m\u001b[38;5;124mdata\u001b[39m\u001b[38;5;124m\"\u001b[39m}:\n\u001b[0;32m    423\u001b[0m     \u001b[38;5;66;03m# TODO(wangpeng): Export the enable_numpy_behavior knob\u001b[39;00m\n\u001b[1;32m--> 424\u001b[0m     \u001b[38;5;28;01mraise\u001b[39;00m \u001b[38;5;167;01mAttributeError\u001b[39;00m(\n\u001b[0;32m    425\u001b[0m         \u001b[38;5;124mf\u001b[39m\u001b[38;5;124m\"\u001b[39m\u001b[38;5;132;01m{\u001b[39;00m\u001b[38;5;28mtype\u001b[39m(\u001b[38;5;28mself\u001b[39m)\u001b[38;5;241m.\u001b[39m\u001b[38;5;18m__name__\u001b[39m\u001b[38;5;132;01m}\u001b[39;00m\u001b[38;5;124m object has no attribute \u001b[39m\u001b[38;5;124m'\u001b[39m\u001b[38;5;132;01m{\u001b[39;00mname\u001b[38;5;132;01m}\u001b[39;00m\u001b[38;5;124m'\u001b[39m\u001b[38;5;124m. \u001b[39m\u001b[38;5;124m\"\u001b[39m \u001b[38;5;241m+\u001b[39m \u001b[38;5;124m\"\"\"\u001b[39m\n\u001b[0;32m    426\u001b[0m \u001b[38;5;124m      If you are looking for numpy-related methods, please run the following:\u001b[39m\n\u001b[0;32m    427\u001b[0m \u001b[38;5;124m      from tensorflow.python.ops.numpy_ops import np_config\u001b[39m\n\u001b[0;32m    428\u001b[0m \u001b[38;5;124m      np_config.enable_numpy_behavior()\u001b[39m\n\u001b[0;32m    429\u001b[0m \u001b[38;5;124m    \u001b[39m\u001b[38;5;124m\"\"\"\u001b[39m)\n\u001b[0;32m    430\u001b[0m   \u001b[38;5;28mself\u001b[39m\u001b[38;5;241m.\u001b[39m\u001b[38;5;21m__getattribute__\u001b[39m(name)\n",
      "\u001b[1;31mAttributeError\u001b[0m: EagerTensor object has no attribute 'tolist'. \n        If you are looking for numpy-related methods, please run the following:\n        from tensorflow.python.ops.numpy_ops import np_config\n        np_config.enable_numpy_behavior()\n      "
     ]
    }
   ],
   "source": [
    "import os\n",
    "import cv2\n",
    "import librosa\n",
    "import numpy as np\n",
    "import pandas as pd\n",
    "import moviepy.editor as mp\n",
    "import json\n",
    "import tensorflow as tf\n",
    "import speech_recognition as sr  # Add this import\n",
    "from keras.applications.vgg16 import VGG16, preprocess_input\n",
    "from keras.preprocessing import image\n",
    "from sklearn.feature_extraction.text import TfidfVectorizer\n",
    "from sklearn.preprocessing import StandardScaler\n",
    "from moviepy.editor import VideoFileClip, AudioFileClip  # Add this import\n",
    "\n",
    "# Load pre-trained VGG16 model (without top layers)\n",
    "vgg16_model = VGG16(weights='imagenet', include_top=False, pooling='avg')\n",
    "ds_factor = 0.5\n",
    "mouth_cascade = cv2.CascadeClassifier('haarcascade_mcs_mouth.xml')\n",
    "if mouth_cascade.empty():\n",
    "    raise IOError('Unable to load the mouth cascade classifier xml file')\n",
    "\n",
    "\n",
    "def extract_image_features(video_path):\n",
    "    cap = cv2.VideoCapture(video_path)\n",
    "    features_list =[]\n",
    "    ret, frame = cap.read()\n",
    "    frame = cv2.resize(frame,(64,64), interpolation=cv2.INTER_AREA)\n",
    "    gray = cv2.cvtColor(frame, cv2.COLOR_BGR2GRAY)\n",
    "    mouth_rects = mouth_cascade.detectMultiScale(gray, 1.7, 11)\n",
    "    masked_frame = np.zeros_like(frame)\n",
    "    for (x,y,w,h) in mouth_rects:\n",
    "        y = int(y - 0.15*h)\n",
    "        mask = np.zeros_like(frame)\n",
    "        mask[y:y+h, x:x+w, :] = 255\n",
    "        masked_frame = cv2.bitwise_and(frame, mask)\n",
    "        remaining_face = frame.copy()\n",
    "        remaining_face[y:y+h, x:x+w] = [0, 0, 0]\n",
    "    img_array = cv2.cvtColor(masked_frame, cv2.COLOR_BGR2RGB)\n",
    "    img_array = np.expand_dims(img_array, axis=0)\n",
    "    img_array = preprocess_input(img_array)\n",
    "    img_array.astype(float) / 255.0\n",
    "    features = vgg16_model.predict(img_array)\n",
    "    features_list.append(features.flatten())\n",
    "    return features_list\n",
    "\n",
    "def extract_output_image_features(video_path):\n",
    "    cap = cv2.VideoCapture(video_path)\n",
    "    output_features_list =[]\n",
    "    ret, frame = cap.read()\n",
    "    img_array = cv2.resize(frame,(64,64), interpolation=cv2.INTER_AREA)\n",
    "    #img_array = cv2.cvtColor(img_array, cv2.COLOR_BGR2GRAY)\n",
    "    img_array = np.expand_dims(img_array, axis=0)\n",
    "    img_array = preprocess_input(img_array) \n",
    "    img_array.astype(float) / 255.0\n",
    "    output_features = vgg16_model.predict(img_array)\n",
    "    output_features_list.append(output_features.flatten())\n",
    "    cap.release()\n",
    "    return output_features_list\n",
    "\n",
    "def extract_audio_features(video_path):\n",
    "    video_clip = VideoFileClip(video_path)\n",
    "    audio_clip = video_clip.audio\n",
    "    audio_path = \"temp_audio.wav\" # Temporary audio file path\n",
    "    audio_clip.write_audiofile(audio_path, codec='pcm_s16le', fps=44100)  # Save audio as WAV\n",
    "    video_clip.close()\n",
    "    y, sr = librosa.load(audio_path)\n",
    "    mfccs = librosa.feature.mfcc(y=y, sr=sr, n_mfcc=13)\n",
    "    zero_crossing_rate = librosa.feature.zero_crossing_rate(y)\n",
    "    audio_features = np.concatenate((mfccs, zero_crossing_rate), axis=0)\n",
    "    os.remove(audio_path)\n",
    "    scaler = StandardScaler()\n",
    "    scaled_audio_features = scaler.fit_transform(audio_features)\n",
    "\n",
    "def extract_text_features(video_path):\n",
    "    video = mp.VideoFileClip(video_path)\n",
    "    audio = video.audio\n",
    "    audio_path = \"temp.wav\"\n",
    "    audio.write_audiofile(audio_path, codec='pcm_s16le', fps=22100)\n",
    "    recognizer = sr.Recognizer()\n",
    "    transcript = \"\"\n",
    "    try:\n",
    "        with sr.AudioFile(audio_path) as source:\n",
    "            audio_data = recognizer.record(source)\n",
    "            transcript = recognizer.recognize_google(audio_data)\n",
    "            text_features = text_to_numerical(transcript)\n",
    "            text_features = np.array(text_features)\n",
    "            text_features = text_features.reshape(-1, 1)\n",
    "            scaler = StandardScaler()\n",
    "            scaled_text_features = scaler.fit_transform(text_features)\n",
    "        os.remove(audio_path)\n",
    "        return scaled_text_features\n",
    "    except sr.UnknownValueError:\n",
    "        print(\"Google Speech Recognition could not understand the audio\")\n",
    "    except sr.RequestError as e:\n",
    "        print(f\"Could not request results from Google Speech Recognition service; {e}\")\n",
    "\n",
    "video_folder = os.path.join(os.getcwd(), \"pri_data\", \"videos\")\n",
    "\n",
    "# Initialize a dictionary to store features for each video\n",
    "video_features = {}\n",
    "\n",
    "# Iterate through video files in the folder\n",
    "for file in os.listdir(video_folder):\n",
    "    if file.endswith(\".mp4\"):\n",
    "        video_path = os.path.join(video_folder, file)\n",
    "        frame_features = extract_image_features(video_path)\n",
    "        output_image = extract_output_image_features(video_path)\n",
    "        audio_features = extract_audio_features(video_path)\n",
    "        text_features = extract_text_features(video_path)\n",
    "        \n",
    "        audio_features = audio_features\n",
    "        frame_features = [f.tolist() for f in frame_features]\n",
    "        output_image = [o.tolist() for o in output_image]\n",
    "        max_sequence_length = 9\n",
    "        if text_features is not None:\n",
    "            # Calculate the length of 'text_features' for this video\n",
    "            text_feature_length = len(text_features)\n",
    "            padding_length = max_sequence_length - text_feature_length\n",
    "            if padding_length > 0:\n",
    "                # Pad the tensor if necessary\n",
    "                padded_text = tf.pad(text_features, [[0, 0], [0, padding_length]])\n",
    "            else:\n",
    "                # If text_features is already longer than max_sequence_length, truncate it\n",
    "                padded_text = text_features[:max_sequence_length]\n",
    "        else:\n",
    "            text_feature_dimension = 0\n",
    "            padded_text = tf.zeros((max_sequence_length, text_feature_dimension))  # Set a default tensor\n",
    "        # Store features in the dictionary\n",
    "        video_features[file] = {\n",
    "            \"audio\": audio_features,\n",
    "            \"text\": padded_text,\n",
    "            \"image\": frame_features,\n",
    "            \"output_image\": output_image \n",
    "        }\n",
    "\n",
    "# Save the dictionary as JSON\n",
    "with open(\"video_features.json\", \"w\") as JSON_file:\n",
    "    json.dump(video_features, JSON_file,default=lambda x: x.tolist())\n"
   ]
  },
  {
   "cell_type": "code",
   "execution_count": null,
   "id": "67ec379e",
   "metadata": {},
   "outputs": [],
   "source": [
    "import os\n",
    "import cv2\n",
    "import librosa\n",
    "import numpy as np\n",
    "import json\n",
    "import tensorflow as tf\n",
    "import speech_recognition as sr\n",
    "from keras.applications.vgg16 import VGG16, preprocess_input\n",
    "from keras.preprocessing import image\n",
    "from sklearn.preprocessing import StandardScaler\n",
    "from moviepy.editor import VideoFileClip, AudioFileClip\n",
    "\n",
    "class VideoFeatureExtractor:\n",
    "    def __init__(self, video_folder):\n",
    "        self.video_folder = video_folder\n",
    "        self.vgg16_model = VGG16(weights='imagenet', include_top=False, pooling='avg')\n",
    "        self.ds_factor = 0.5\n",
    "        self.mouth_cascade = cv2.CascadeClassifier('haarcascade_mcs_mouth.xml')\n",
    "        \n",
    "    def extract_image_features(self, video_path):\n",
    "        cap = cv2.VideoCapture(video_path)\n",
    "        features_list = []\n",
    "        ret, frame = cap.read()\n",
    "        frame = cv2.resize(frame, (64, 64), interpolation=cv2.INTER_AREA)\n",
    "        gray = cv2.cvtColor(frame, cv2.COLOR_BGR2GRAY)\n",
    "        mouth_rects = self.mouth_cascade.detectMultiScale(gray, 1.7, 11)\n",
    "        masked_frame = np.zeros_like(frame)\n",
    "        for (x, y, w, h) in mouth_rects:\n",
    "            y = int(y - 0.15 * h)\n",
    "            mask = np.zeros_like(frame)\n",
    "            mask[y:y + h, x:x + w, :] = 255\n",
    "            masked_frame = cv2.bitwise_and(frame, mask)\n",
    "            remaining_face = frame.copy()\n",
    "            remaining_face[y:y + h, x:x + w] = [0, 0, 0]\n",
    "        img_array = cv2.cvtColor(masked_frame, cv2.COLOR_BGR2RGB)\n",
    "        img_array = np.expand_dims(img_array, axis=0)\n",
    "        img_array = preprocess_input(img_array)\n",
    "        img_array = img_array.astype(float) / 255.0\n",
    "        features = self.vgg16_model.predict(img_array)\n",
    "        features_list.append(features.flatten())\n",
    "        return features_list\n",
    "\n",
    "    def extract_output_image_features(self, video_path):\n",
    "        cap = cv2.VideoCapture(video_path)\n",
    "        output_features_list = []\n",
    "        ret, frame = cap.read()\n",
    "        img_array = cv2.resize(frame, (64, 64), interpolation=cv2.INTER_AREA)\n",
    "        img_array = np.expand_dims(img_array, axis=0)\n",
    "        img_array = preprocess_input(img_array)\n",
    "        img_array = img_array.astype(float) / 255.0\n",
    "        output_features = self.vgg16_model.predict(img_array)\n",
    "        output_features_list.append(output_features.flatten())\n",
    "        cap.release()\n",
    "        return output_features_list\n",
    "\n",
    "    def extract_audio_features(self, video_path):\n",
    "        video_clip = VideoFileClip(video_path)\n",
    "        audio_clip = video_clip.audio\n",
    "        audio_path = \"temp_audio.wav\"\n",
    "        audio_clip.write_audiofile(audio_path, codec='pcm_s16le', fps=44100)\n",
    "        video_clip.close()\n",
    "        y, sr = librosa.load(audio_path)\n",
    "        mfccs = librosa.feature.mfcc(y=y, sr=sr, n_mfcc=13)\n",
    "        zero_crossing_rate = librosa.feature.zero_crossing_rate(y)\n",
    "        audio_features = np.concatenate((mfccs, zero_crossing_rate), axis=0)\n",
    "        os.remove(audio_path)\n",
    "        scaler = StandardScaler()\n",
    "        scaled_audio_features = scaler.fit_transform(audio_features)\n",
    "        return scaled_audio_features\n",
    "\n",
    "    def extract_text_features(self, video_path):\n",
    "        video = VideoFileClip(video_path)\n",
    "        audio = video.audio\n",
    "        audio_path = \"temp.wav\"\n",
    "        audio.write_audiofile(audio_path, codec='pcm_s16le', fps=22100)\n",
    "        recognizer = sr.Recognizer()\n",
    "        transcript = \"\"\n",
    "        try:\n",
    "            with sr.AudioFile(audio_path) as source:\n",
    "                audio_data = recognizer.record(source)\n",
    "                transcript = recognizer.recognize_google(audio_data)\n",
    "                text_features = self.text_to_numerical(transcript)\n",
    "                text_features = np.array(text_features)\n",
    "                text_features = text_features.reshape(-1, 1)\n",
    "                scaler = StandardScaler()\n",
    "                scaled_text_features = scaler.fit_transform(text_features)\n",
    "            os.remove(audio_path)\n",
    "            return scaled_text_features\n",
    "        except sr.UnknownValueError:\n",
    "            print(\"Google Speech Recognition could not understand the audio\")\n",
    "        except sr.RequestError as e:\n",
    "            print(f\"Could not request results from Google Speech Recognition service; {e}\")\n",
    "        return None\n",
    "\n",
    "    def text_to_numerical(self, text):\n",
    "        # Your text-to-numeric conversion logic here\n",
    "        # Replace this placeholder with actual code\n",
    "        return [ord(char) for char in text]\n",
    "\n",
    "    def process_videos(self):\n",
    "        video_features = {}\n",
    "        for file in os.listdir(self.video_folder):\n",
    "            if file.endswith(\".mp4\"):\n",
    "                video_path = os.path.join(self.video_folder, file)\n",
    "                frame_features = self.extract_image_features(video_path)\n",
    "                output_image = self.extract_output_image_features(video_path)\n",
    "                audio_features = self.extract_audio_features(video_path)\n",
    "                text_features = self.extract_text_features(video_path)\n",
    "\n",
    "                if text_features is not None:\n",
    "                    max_sequence_length = 9\n"
   ]
  },
  {
   "cell_type": "code",
   "execution_count": 17,
   "id": "b07b03ae",
   "metadata": {},
   "outputs": [
    {
     "data": {
      "text/plain": [
       "1"
      ]
     },
     "execution_count": 17,
     "metadata": {},
     "output_type": "execute_result"
    }
   ],
   "source": [
    "max_length = max(len(features) for features in text_features)\n",
    "max_length"
   ]
  },
  {
   "cell_type": "code",
   "execution_count": 30,
   "id": "999fe35c",
   "metadata": {},
   "outputs": [
    {
     "name": "stdout",
     "output_type": "stream",
     "text": [
      "Maximum Text Feature Length: 9\n"
     ]
    }
   ],
   "source": [
    "video_folder = os.path.join(os.getcwd(), \"pri_data\", \"videos\")\n",
    "for file in os.listdir(video_folder):\n",
    "    if file.endswith(\".mp4\"):\n",
    "        if file in video_features:\n",
    "            max_text_feature_length =0\n",
    "            # Access and print the 'text_features' of the video\n",
    "            text_features_of_video = video_features[file][\"text\"]\n",
    "            if text_features_of_video is not None:\n",
    "                # Calculate the length of 'text_features' for this video\n",
    "                text_feature_length = len(text_features_of_video)  # Using the len() function\n",
    "                \n",
    "                # Update the maximum text feature length if needed\n",
    "                if text_feature_length > max_text_feature_length:\n",
    "                    max_text_feature_length = text_feature_length\n",
    "        else:\n",
    "            print(f\"Video file '{file}' not found in 'video_features' dictionary.\")\n",
    "\n",
    "# Print the maximum text feature length\n",
    "print(\"Maximum Text Feature Length:\", max_text_feature_length)"
   ]
  },
  {
   "cell_type": "code",
   "execution_count": 14,
   "id": "69beba31",
   "metadata": {},
   "outputs": [],
   "source": [
    "# Assuming you have a dictionary named video_features\n",
    "output_frames = [video_features[key]['output_image'] for key in video_features.keys()]"
   ]
  },
  {
   "cell_type": "markdown",
   "id": "15610da7",
   "metadata": {},
   "source": [
    "# split dataset to train and test dataset"
   ]
  },
  {
   "cell_type": "code",
   "execution_count": 13,
   "id": "814c6c50",
   "metadata": {
    "scrolled": true
   },
   "outputs": [],
   "source": [
    "import json\n",
    "import random\n",
    "\n",
    "# Load the JSON file\n",
    "with open(\"video_features.json\", \"r\") as json_file:\n",
    "    try:\n",
    "        data = json.load(json_file)\n",
    "        # If the data is loaded successfully, it's valid JSON\n",
    "    except json.JSONDecodeError as e:\n",
    "        print(f\"JSON decoding error: {e}\")\n",
    "    except Exception as e:\n",
    "        print(f\"An error occurred: {e}\")\n",
    "# Randomly shuffle the keys (videos)\n",
    "random.seed(42)  # for reproducibility\n",
    "video_list = list(data.keys())\n",
    "random.shuffle(video_list)\n",
    "# Define the split ratio (e.g., 80% for training, 20% for testing)\n",
    "split_ratio = 0.8\n",
    "# Calculate the number of samples for each split\n",
    "total_samples = len(video_list)\n",
    "num_train_samples = int(total_samples * split_ratio)\n",
    "num_test_samples = total_samples - num_train_samples\n",
    "\n",
    "# Create empty dictionaries for training and testing data\n",
    "train_data = {}\n",
    "test_data = {}\n",
    "# Iterate through the shuffled keys and split the data\n",
    "for i, video_name in enumerate(video_list):\n",
    "    video_data = data[video_name]\n",
    "    if i < num_train_samples:\n",
    "        train_data[video_name] = video_data\n",
    "    else:\n",
    "        test_data[video_name] = video_data\n",
    "\n",
    "# Save the training and test data as separate JSON files\n",
    "with open(\"train_data.json\", \"w\") as train_file:\n",
    "    json.dump(train_data, train_file)\n",
    "with open(\"test_data.json\", \"w\") as test_file:\n",
    "    json.dump(test_data, test_file)"
   ]
  },
  {
   "cell_type": "code",
   "execution_count": 15,
   "id": "539e60a1",
   "metadata": {},
   "outputs": [],
   "source": [
    "from sklearn.model_selection import train_test_split\n",
    "\n",
    "# Assuming you have a dictionary named video_features with your data\n",
    "# Extract the video filenames and their corresponding feature dictionaries\n",
    "video_filenames = list(video_features.keys())\n",
    "feature_dicts = list(video_features.values())\n",
    "# Split the data into training and testing sets\n",
    "train_ratio = 0.8  # You can adjust this ratio\n",
    "train_filenames, test_filenames = train_test_split(video_filenames, test_size=1-train_ratio, random_state=42)\n",
    "# Create training and testing datasets based on the selected filenames\n",
    "train_data = {filename: feature_dicts[video_filenames.index(filename)] for filename in train_filenames}\n",
    "test_data = {filename: feature_dicts[video_filenames.index(filename)] for filename in test_filenames}\n",
    "\n",
    "# Assuming you have a list or dictionary named output_frames containing your output frames\n",
    "# Split the output frames data into training and testing sets\n",
    "train_output_frames = [output_frames[video_filenames.index(filename)] for filename in train_filenames]\n",
    "test_output_frames = [output_frames[video_filenames.index(filename)] for filename in test_filenames]\n"
   ]
  },
  {
   "cell_type": "code",
   "execution_count": 21,
   "id": "d9c0ed59",
   "metadata": {},
   "outputs": [
    {
     "data": {
      "text/plain": [
       "1"
      ]
     },
     "execution_count": 21,
     "metadata": {},
     "output_type": "execute_result"
    }
   ],
   "source": [
    "len(frame_features)"
   ]
  },
  {
   "cell_type": "markdown",
   "id": "cba885e2",
   "metadata": {},
   "source": [
    "# model architecture"
   ]
  },
  {
   "cell_type": "code",
   "execution_count": 22,
   "id": "8eb20231",
   "metadata": {},
   "outputs": [
    {
     "ename": "TypeError",
     "evalue": "Cannot iterate over a Tensor with unknown first dimension.",
     "output_type": "error",
     "traceback": [
      "\u001b[1;31m---------------------------------------------------------------------------\u001b[0m",
      "\u001b[1;31mTypeError\u001b[0m                                 Traceback (most recent call last)",
      "Cell \u001b[1;32mIn[22], line 15\u001b[0m\n\u001b[0;32m     10\u001b[0m lip_frame_input \u001b[38;5;241m=\u001b[39m Input(shape\u001b[38;5;241m=\u001b[39m(lip_frame_feature_length,))\n\u001b[0;32m     12\u001b[0m \u001b[38;5;66;03m# Define your feature extraction functions (e.g., text_to_numerical, audio processing, lip frame processing)\u001b[39;00m\n\u001b[0;32m     13\u001b[0m \n\u001b[0;32m     14\u001b[0m \u001b[38;5;66;03m# Process each input\u001b[39;00m\n\u001b[1;32m---> 15\u001b[0m text_features \u001b[38;5;241m=\u001b[39m text_to_numerical(text_input)\n\u001b[0;32m     16\u001b[0m audio_features \u001b[38;5;241m=\u001b[39m process_audio(audio_input)\n\u001b[0;32m     17\u001b[0m lip_frame_features \u001b[38;5;241m=\u001b[39m process_lip_frames(lip_frame_input)\n",
      "Cell \u001b[1;32mIn[2], line 2\u001b[0m, in \u001b[0;36mtext_to_numerical\u001b[1;34m(text)\u001b[0m\n\u001b[0;32m      1\u001b[0m \u001b[38;5;28;01mdef\u001b[39;00m \u001b[38;5;21mtext_to_numerical\u001b[39m(text):\n\u001b[1;32m----> 2\u001b[0m     numerical_rep \u001b[38;5;241m=\u001b[39m [\u001b[38;5;28mord\u001b[39m(char) \u001b[38;5;28;01mfor\u001b[39;00m char \u001b[38;5;129;01min\u001b[39;00m text]\n\u001b[0;32m      3\u001b[0m     \u001b[38;5;28;01mreturn\u001b[39;00m numerical_rep\n",
      "File \u001b[1;32m~\\miniconda3\\Lib\\site-packages\\keras\\src\\engine\\keras_tensor.py:410\u001b[0m, in \u001b[0;36mKerasTensor.__iter__\u001b[1;34m(self)\u001b[0m\n\u001b[0;32m    408\u001b[0m     \u001b[38;5;28;01mraise\u001b[39;00m \u001b[38;5;167;01mTypeError\u001b[39;00m(\u001b[38;5;124m\"\u001b[39m\u001b[38;5;124mCannot iterate over a scalar.\u001b[39m\u001b[38;5;124m\"\u001b[39m)\n\u001b[0;32m    409\u001b[0m \u001b[38;5;28;01mif\u001b[39;00m shape[\u001b[38;5;241m0\u001b[39m] \u001b[38;5;129;01mis\u001b[39;00m \u001b[38;5;28;01mNone\u001b[39;00m:\n\u001b[1;32m--> 410\u001b[0m     \u001b[38;5;28;01mraise\u001b[39;00m \u001b[38;5;167;01mTypeError\u001b[39;00m(\n\u001b[0;32m    411\u001b[0m         \u001b[38;5;124m\"\u001b[39m\u001b[38;5;124mCannot iterate over a Tensor with unknown first dimension.\u001b[39m\u001b[38;5;124m\"\u001b[39m\n\u001b[0;32m    412\u001b[0m     )\n\u001b[0;32m    413\u001b[0m \u001b[38;5;28;01mreturn\u001b[39;00m _KerasTensorIterator(\u001b[38;5;28mself\u001b[39m, shape[\u001b[38;5;241m0\u001b[39m])\n",
      "\u001b[1;31mTypeError\u001b[0m: Cannot iterate over a Tensor with unknown first dimension."
     ]
    }
   ],
   "source": [
    "import tensorflow as tf\n",
    "from tensorflow.keras.models import Model\n",
    "from tensorflow.keras.layers import Input, Concatenate, Dense\n",
    "\n",
    "# Assuming you have your functions to extract features and preprocess data\n",
    "text_feature_length, audio_feature_length, lip_frame_feature_length = 9, 14, 1 \n",
    "# Define inputs\n",
    "text_input = Input(shape=(text_feature_length,))\n",
    "audio_input = Input(shape=(audio_feature_length,))\n",
    "lip_frame_input = Input(shape=(lip_frame_feature_length,))\n",
    "\n",
    "# Define your feature extraction functions (e.g., text_to_numerical, audio processing, lip frame processing)\n",
    "\n",
    "# Process each input\n",
    "text_features = text_to_numerical(text_input)\n",
    "audio_features = process_audio(audio_input)\n",
    "lip_frame_features = process_lip_frames(lip_frame_input)\n",
    "\n",
    "# Concatenate the features\n",
    "concatenated_features = Concatenate()([text_features, audio_features, lip_frame_features])\n",
    "\n",
    "# Add additional layers as needed for your specific model architecture\n",
    "# ...\n",
    "\n",
    "# Define your output layer(s)\n",
    "output = Dense(output_dim)(concatenated_features)\n",
    "\n",
    "# Create the model\n",
    "model = Model(inputs=[text_input, audio_input, lip_frame_input], outputs=output)\n",
    "\n",
    "# Compile the model\n",
    "model.compile(optimizer='adam', loss='mean_squared_error', metrics=['accuracy'])\n",
    "\n",
    "# Train the model with your data\n",
    "model.fit([text_data, audio_data, lip_frame_data], output_data, epochs=num_epochs, batch_size=batch_size)"
   ]
  },
  {
   "cell_type": "code",
   "execution_count": 4,
   "id": "6ba7dc4d",
   "metadata": {},
   "outputs": [
    {
     "ename": "NameError",
     "evalue": "name 'trans' is not defined",
     "output_type": "error",
     "traceback": [
      "\u001b[1;31m---------------------------------------------------------------------------\u001b[0m",
      "\u001b[1;31mNameError\u001b[0m                                 Traceback (most recent call last)",
      "Cell \u001b[1;32mIn[4], line 45\u001b[0m\n\u001b[0;32m     43\u001b[0m \u001b[38;5;66;03m# Set paths and parameters\u001b[39;00m\n\u001b[0;32m     44\u001b[0m video_folder \u001b[38;5;241m=\u001b[39m os\u001b[38;5;241m.\u001b[39mpath\u001b[38;5;241m.\u001b[39mjoin(os\u001b[38;5;241m.\u001b[39mgetcwd(), \u001b[38;5;124m\"\u001b[39m\u001b[38;5;124mpri_data\u001b[39m\u001b[38;5;124m\"\u001b[39m, \u001b[38;5;124m\"\u001b[39m\u001b[38;5;124mvideos\u001b[39m\u001b[38;5;124m\"\u001b[39m)\n\u001b[1;32m---> 45\u001b[0m text_sequences \u001b[38;5;241m=\u001b[39m trans\n\u001b[0;32m     46\u001b[0m numerical_text_sequences \u001b[38;5;241m=\u001b[39m {filename: text_to_numerical(text) \u001b[38;5;28;01mfor\u001b[39;00m filename, text \u001b[38;5;129;01min\u001b[39;00m text_sequences\u001b[38;5;241m.\u001b[39mitems()}\n\u001b[0;32m     48\u001b[0m tokenizer \u001b[38;5;241m=\u001b[39m  SimpleTokenizer(vocab) \u001b[38;5;66;03m# Initialize your tokenizer\u001b[39;00m\n",
      "\u001b[1;31mNameError\u001b[0m: name 'trans' is not defined"
     ]
    }
   ],
   "source": [
    "import os\n",
    "import cv2\n",
    "import librosa\n",
    "import torch\n",
    "from torch.utils.data import Dataset\n",
    "from tensorflow.keras.preprocessing.sequence import pad_sequences\n",
    "\n",
    "class LipSyncDataset(Dataset):\n",
    "    def __init__(self, video_folder, text_sequences, tokenizer, max_sequence_length):\n",
    "        self.video_folder = video_folder\n",
    "        self.text_sequences = text_sequences\n",
    "        self.tokenizer = tokenizer\n",
    "        self.max_sequence_length = max_sequence_length\n",
    "        self.video_files = os.listdir(self.video_folder)\n",
    "        \n",
    "    def __len__(self):\n",
    "        return len(self.video_files)\n",
    "    \n",
    "    def __getitem__(self, idx):\n",
    "        # Load video frame (masked lips)\n",
    "        video_filename = self.video_files[idx]\n",
    "        video_file = os.path.join(self.video_folder, video_filename)\n",
    "        video_frame = cv2.imread(video_file)  # Load the video frame\n",
    "        mask_filename = f\"frame_{idx}.jpg\"  # Modify this to match your naming convention for masks\n",
    "        mask_file = os.path.join(self.video_folder, \"img\", \"masked_images\",mask_filename)\n",
    "        mask = cv2.imread(mask_file)\n",
    "        # Load audio data\n",
    "        audio_folder = os.path.join(self.video_folder, video_filename.replace(\".mp4\", \"\"))\n",
    "        audio_file = os.path.join(audio_folder, \"audio.wav\")\n",
    "        audio_data, _ = librosa.load(audio_file, sr=16000)  # Load the audio data\n",
    "        \n",
    "        # Encode text sequence\n",
    "        text_sequence = self.text_sequences[video_filename]\n",
    "        encoded_text = self.tokenizer.text_to_numerical(text_sequence)\n",
    "        encoded_text = torch.tensor(encoded_text, dtype=torch.long)\n",
    "        encoded_text = torch.nn.functional.pad(encoded_text, (0, self.max_sequence_length - len(encoded_text)))\n",
    "        return {\n",
    "            \"video_frame\": torch.from_numpy(video_frame).permute(2, 0, 1).float(),\n",
    "            \"audio_data\": torch.from_numpy(audio_data).float(),\n",
    "            \"encoded_text\": encoded_text,\n",
    "            \"mask\": torch.from_numpy(mask).permute(2, 0, 1).float()\n",
    "        }\n",
    "# Set paths and parameters\n",
    "video_folder = os.path.join(os.getcwd(), \"pri_data\", \"videos\")\n",
    "text_sequences = trans\n",
    "numerical_text_sequences = {filename: text_to_numerical(text) for filename, text in text_sequences.items()}\n",
    "\n",
    "tokenizer =  SimpleTokenizer(vocab) # Initialize your tokenizer\n",
    "max_sequence_length = 50  # Maximum sequence length for encoded text\n",
    "\n",
    "# Create the dataset\n",
    "lip_sync_dataset = LipSyncDataset(video_folder, text_sequences, tokenizer, max_sequence_length)\n",
    "\n",
    "# Create a DataLoader for batch processing\n",
    "batch_size = 32\n",
    "dataloader = torch.utils.data.DataLoader(lip_sync_dataset, batch_size=batch_size, shuffle=True)"
   ]
  },
  {
   "cell_type": "code",
   "execution_count": 46,
   "id": "b173b9a5",
   "metadata": {},
   "outputs": [
    {
     "ename": "ValueError",
     "evalue": "A `Concatenate` layer should be called on a list of at least 1 input. Received: input_shape=[[[(), (), (), (), (), (), (), (), (), (), (), (), (), (), (), (), (), (), (), (), (), (), (), (), (), (), (), (), (), (), (), (), (), (), (), (), (), (), (), (), (), (), (), (), (), (), (), (), (), (), (), (), (), (), (), (), (), (), (), (), (), (), (), (), (), (), (), (), ()], [(), (), (), (), (), (), (), (), (), (), (), (), (), (), (), (), (), (), (), (), (), (), (), (), (), (), (), (), (), (), (), (), (), (), (), (), (), (), (), (), (), (), (), (), (), (), (), (), (), (), (), (), (), (), (), (), (), (), (), (), (), (), (), (), (), (), (), (), ()], [(), (), (), (), (), (), (), (), (), (), (), (), (), (), (), (), (), (), (), (), (), (), (), (), (), (), (), (), (), (), (), (), (), (), (), (), (), (), (), (), (), (), (), (), (), (), (), (), (), (), (), (), (), (), (), (), (), (), (), (), (), (), (), (), (), (), (), (), ()], [(), (), (), (), (), (), (), (), (), (), (), (), (), (), (), (), (), (), (), (), (), (), (), (), (), (), (), (), (), (), (), (), (), (), (), (), (), (), (), (), (), (), (), (), (), (), (), (), (), (), (), (), (), (), (), (), (), (), (), (), (), (), (), (), (), (), (), (), ()], [(), (), (), (), (), (), (), (), (), (), (), (), (), (), (), (), (), (), (), (), (), (), (), (), (), (), (), (), (), (), (), (), (), (), (), (), (), (), (), (), (), (), (), (), (), (), (), (), (), (), (), (), (), (), (), (), (), (), (), (), (), (), (), (), (), (), (), (), ()], [(), (), (), (), (), (), (), (), (), (), (), (), (), (), (), (), (), (), (), (), (), (), (), (), (), (), (), (), (), (), (), (), (), (), (), (), (), (), (), (), (), (), (), (), (), (), (), (), (), (), (), (), (), (), (), (), (), (), (), (), (), (), (), (), (), (), (), (), ()], [(), (), (), (), (), (), (), (), (), (), (), (), (), (), (), (), (), (), (), (), (), (), (), (), (), (), (), (), (), (), (), (), (), (), (), (), (), (), (), (), (), (), (), (), (), (), (), (), (), (), (), (), (), (), (), (), (), (), (), (), (), (), (), (), (), (), (), (), ()], [(), (), (), (), (), (), (), (), (), (), (), (), (), (), (), (), (), (), (), (), (), (), (), (), (), (), (), (), (), (), (), (), (), (), (), (), (), (), (), (), (), (), (), (), (), (), (), (), (), (), (), (), (), (), (), (), (), (), (), (), (), (), (), (), (), (), (), (), ()], [(), (), (), (), (), (), (), (), (), (), (), (), (), (), (), (), (), (), (), (), (), (), (), (), (), (), (), (), (), (), (), (), (), (), (), (), (), (), (), (), (), (), (), (), (), (), (), (), (), (), (), (), (), (), (), (), (), (), (), (), (), (), (), (), (), (), (), (), ()], [(), (), (), (), (), (), (), (), (), (), (), (), (), (), (), (), (), (), (), (), (), (), (), (), (), (), (), (), (), (), (), (), (), (), (), (), (), (), (), (), (), (), (), (), (), (), (), (), (), (), (), (), (), (), (), (), (), (), (), (), (), (), (), (), (), (), (), (), ()], [(), (), (), (), (), (), (), (), (), (), (), (), (), (), (), (), (), (), (), (), (), (), (), (), (), (), (), (), (), (), (), (), (), (), (), (), (), (), (), (), (), (), (), (), (), (), (), (), (), (), (), (), (), (), (), (), (), (), (), (), (), (), (), (), (), (), (), (), ()], [(), (), (), (), (), (), (), (), (), (), (), (), (), (), (), (), (), (), (), (), (), (), (), (), (), (), (), (), (), (), (), (), (), (), (), (), (), (), (), (), (), (), (), (), (), (), (), (), (), (), (), (), (), (), (), (), (), (), (), (), (), (), (), (), (), (), (), (), ()], [(), (), (), (), (), (), (), (), (), (), (), (), (), (), (), (), (), (), (), (), (), (), (), (), (), (), (), (), (), (), (), (), (), (), (), (), (), (), (), (), (), (), (), (), (), (), (), (), (), (), (), (), (), (), (), (), (), (), (), (), (), (), (), (), (), (), (), (), ()], [(), (), (), (), (), (), (), (), (), (), (), (), (), (), (), (), (), (), (), (), (), (), (), (), (), (), (), (), (), (), (), (), (), (), (), (), (), (), (), (), (), (), (), (), (), (), (), (), (), (), (), (), (), (), (), (), (), (), (), (), (), (), (), (), (), (), (), (), ()]], (9, 1)]",
     "output_type": "error",
     "traceback": [
      "\u001b[1;31m---------------------------------------------------------------------------\u001b[0m",
      "\u001b[1;31mValueError\u001b[0m                                Traceback (most recent call last)",
      "Cell \u001b[1;32mIn[46], line 5\u001b[0m\n\u001b[0;32m      2\u001b[0m \u001b[38;5;28;01mfrom\u001b[39;00m \u001b[38;5;21;01mtensorflow\u001b[39;00m\u001b[38;5;21;01m.\u001b[39;00m\u001b[38;5;21;01mkeras\u001b[39;00m\u001b[38;5;21;01m.\u001b[39;00m\u001b[38;5;21;01mlayers\u001b[39;00m \u001b[38;5;28;01mimport\u001b[39;00m Concatenate, Dense\n\u001b[0;32m      4\u001b[0m \u001b[38;5;66;03m# Concatenate or merge the audio and text encodings\u001b[39;00m\n\u001b[1;32m----> 5\u001b[0m combined_encoding \u001b[38;5;241m=\u001b[39m Concatenate(axis\u001b[38;5;241m=\u001b[39m\u001b[38;5;241m-\u001b[39m\u001b[38;5;241m1\u001b[39m)([audio_features, text_features])\n\u001b[0;32m      7\u001b[0m \u001b[38;5;66;03m# Optionally, you can pass the combined encoding through additional layers for further processing\u001b[39;00m\n\u001b[0;32m      8\u001b[0m \u001b[38;5;66;03m# Example: Add a dense layer for dimensionality reduction or feature transformation\u001b[39;00m\n\u001b[0;32m      9\u001b[0m combined_encoding \u001b[38;5;241m=\u001b[39m Dense(\u001b[38;5;241m256\u001b[39m, activation\u001b[38;5;241m=\u001b[39m\u001b[38;5;124m'\u001b[39m\u001b[38;5;124mrelu\u001b[39m\u001b[38;5;124m'\u001b[39m)(combined_encoding)\n",
      "File \u001b[1;32m~\\miniconda3\\Lib\\site-packages\\keras\\src\\utils\\traceback_utils.py:70\u001b[0m, in \u001b[0;36mfilter_traceback.<locals>.error_handler\u001b[1;34m(*args, **kwargs)\u001b[0m\n\u001b[0;32m     67\u001b[0m     filtered_tb \u001b[38;5;241m=\u001b[39m _process_traceback_frames(e\u001b[38;5;241m.\u001b[39m__traceback__)\n\u001b[0;32m     68\u001b[0m     \u001b[38;5;66;03m# To get the full stack trace, call:\u001b[39;00m\n\u001b[0;32m     69\u001b[0m     \u001b[38;5;66;03m# `tf.debugging.disable_traceback_filtering()`\u001b[39;00m\n\u001b[1;32m---> 70\u001b[0m     \u001b[38;5;28;01mraise\u001b[39;00m e\u001b[38;5;241m.\u001b[39mwith_traceback(filtered_tb) \u001b[38;5;28;01mfrom\u001b[39;00m \u001b[38;5;28;01mNone\u001b[39;00m\n\u001b[0;32m     71\u001b[0m \u001b[38;5;28;01mfinally\u001b[39;00m:\n\u001b[0;32m     72\u001b[0m     \u001b[38;5;28;01mdel\u001b[39;00m filtered_tb\n",
      "File \u001b[1;32m~\\miniconda3\\Lib\\site-packages\\keras\\src\\layers\\merging\\concatenate.py:98\u001b[0m, in \u001b[0;36mConcatenate.build\u001b[1;34m(self, input_shape)\u001b[0m\n\u001b[0;32m     94\u001b[0m \u001b[38;5;129m@tf_utils\u001b[39m\u001b[38;5;241m.\u001b[39mshape_type_conversion\n\u001b[0;32m     95\u001b[0m \u001b[38;5;28;01mdef\u001b[39;00m \u001b[38;5;21mbuild\u001b[39m(\u001b[38;5;28mself\u001b[39m, input_shape):\n\u001b[0;32m     96\u001b[0m     \u001b[38;5;66;03m# Used purely for shape validation.\u001b[39;00m\n\u001b[0;32m     97\u001b[0m     \u001b[38;5;28;01mif\u001b[39;00m \u001b[38;5;28mlen\u001b[39m(input_shape) \u001b[38;5;241m<\u001b[39m \u001b[38;5;241m1\u001b[39m \u001b[38;5;129;01mor\u001b[39;00m \u001b[38;5;129;01mnot\u001b[39;00m \u001b[38;5;28misinstance\u001b[39m(input_shape[\u001b[38;5;241m0\u001b[39m], \u001b[38;5;28mtuple\u001b[39m):\n\u001b[1;32m---> 98\u001b[0m         \u001b[38;5;28;01mraise\u001b[39;00m \u001b[38;5;167;01mValueError\u001b[39;00m(\n\u001b[0;32m     99\u001b[0m             \u001b[38;5;124m\"\u001b[39m\u001b[38;5;124mA `Concatenate` layer should be called on a list of \u001b[39m\u001b[38;5;124m\"\u001b[39m\n\u001b[0;32m    100\u001b[0m             \u001b[38;5;124mf\u001b[39m\u001b[38;5;124m\"\u001b[39m\u001b[38;5;124mat least 1 input. Received: input_shape=\u001b[39m\u001b[38;5;132;01m{\u001b[39;00minput_shape\u001b[38;5;132;01m}\u001b[39;00m\u001b[38;5;124m\"\u001b[39m\n\u001b[0;32m    101\u001b[0m         )\n\u001b[0;32m    102\u001b[0m     \u001b[38;5;28;01mif\u001b[39;00m \u001b[38;5;28mall\u001b[39m(shape \u001b[38;5;129;01mis\u001b[39;00m \u001b[38;5;28;01mNone\u001b[39;00m \u001b[38;5;28;01mfor\u001b[39;00m shape \u001b[38;5;129;01min\u001b[39;00m input_shape):\n\u001b[0;32m    103\u001b[0m         \u001b[38;5;28;01mreturn\u001b[39;00m\n",
      "\u001b[1;31mValueError\u001b[0m: A `Concatenate` layer should be called on a list of at least 1 input. Received: input_shape=[[[(), (), (), (), (), (), (), (), (), (), (), (), (), (), (), (), (), (), (), (), (), (), (), (), (), (), (), (), (), (), (), (), (), (), (), (), (), (), (), (), (), (), (), (), (), (), (), (), (), (), (), (), (), (), (), (), (), (), (), (), (), (), (), (), (), (), (), (), ()], [(), (), (), (), (), (), (), (), (), (), (), (), (), (), (), (), (), (), (), (), (), (), (), (), (), (), (), (), (), (), (), (), (), (), (), (), (), (), (), (), (), (), (), (), (), (), (), (), (), (), (), (), (), (), (), (), (), (), (), (), (), (), (), (), (), (), (), (), ()], [(), (), (), (), (), (), (), (), (), (), (), (), (), (), (), (), (), (), (), (), (), (), (), (), (), (), (), (), (), (), (), (), (), (), (), (), (), (), (), (), (), (), (), (), (), (), (), (), (), (), (), (), (), (), (), (), (), (), (), (), (), (), (), (), (), (), (), (), ()], [(), (), (), (), (), (), (), (), (), (), (), (), (), (), (), (), (), (), (), (), (), (), (), (), (), (), (), (), (), (), (), (), (), (), (), (), (), (), (), (), (), (), (), (), (), (), (), (), (), (), (), (), (), (), (), (), (), (), (), (), (), (), (), (), (), (), (), (), ()], [(), (), (), (), (), (), (), (), (), (), (), (), (), (), (), (), (), (), (), (), (), (), (), (), (), (), (), (), (), (), (), (), (), (), (), (), (), (), (), (), (), (), (), (), (), (), (), (), (), (), (), (), (), (), (), (), (), (), (), (), (), (), (), (), (), (), (), (), ()], [(), (), (), (), (), (), (), (), (), (), (), (), (), (), (), (), (), (), (), (), (), (), (), (), (), (), (), (), (), (), (), (), (), (), (), (), (), (), (), (), (), (), (), (), (), (), (), (), (), (), (), (), (), (), (), (), (), (), (), (), (), (), (), (), (), (), (), (), ()], [(), (), (), (), (), (), (), (), (), (), (), (), (), (), (), (), (), (), (), (), (), (), (), (), (), (), (), (), (), (), (), (), (), (), (), (), (), (), (), (), (), (), (), (), (), (), (), (), (), (), (), (), (), (), (), (), (), (), (), (), (), (), (), (), (), (), (), (), ()], [(), (), (), (), (), (), (), (), (), (), (), (), (), (), (), (), (), (), (), (), (), (), (), (), (), (), (), (), (), (), (), (), (), (), (), (), (), (), (), (), (), (), (), (), (), (), (), (), (), (), (), (), (), (), (), (), (), (), (), (), (), (), (), (), (), (), (), (), ()], [(), (), (), (), (), (), (), (), (), (), (), (), (), (), (), (), (), (), (), (), (), (), (), (), (), (), (), (), (), (), (), (), (), (), (), (), (), (), (), (), (), (), (), (), (), (), (), (), (), (), (), (), (), (), (), (), (), (), (), (), (), (), (), (), (), (), (), (), ()], [(), (), (), (), (), (), (), (), (), (), (), (), (), (), (), (), (), (), (), (), (), (), (), (), (), (), (), (), (), (), (), (), (), (), (), (), (), (), (), (), (), (), (), (), (), (), (), (), (), (), (), (), (), (), (), (), (), (), (), (), (), (), (), (), (), (), (), (), ()], [(), (), (), (), (), (), (), (), (), (), (), (), (), (), (), (), (), (), (), (), (), (), (), (), (), (), (), (), (), (), (), (), (), (), (), (), (), (), (), (), (), (), (), (), (), (), (), (), (), (), (), (), (), (), (), (), (), (), (), (), (), (), (), (), (), (), (), (), ()], [(), (), (), (), (), (), (), (), (), (), (), (), (), (), (), (), (), (), (), (), (), (), (), (), (), (), (), (), (), (), (), (), (), (), (), (), (), (), (), (), (), (), (), (), (), (), (), (), (), (), (), (), (), (), (), (), (), (), (), (), (), (), (), (), (), (), (), (), ()], [(), (), (), (), (), (), (), (), (), (), (), (), (), (), (), (), (), (), (), (), (), (), (), (), (), (), (), (), (), (), (), (), (), (), (), (), (), (), (), (), (), (), (), (), (), (), (), (), (), (), (), (), (), (), (), (), (), (), (), (), (), (), (), (), (), (), (), (), ()], [(), (), (), (), (), (), (), (), (), (), (), (), (), (), (), (), (), (), (), (), (), (), (), (), (), (), (), (), (), (), (), (), (), (), (), (), (), (), (), (), (), (), (), (), (), (), (), (), (), (), (), (), (), (), (), (), (), (), (), (), (), (), (), (), (), (), (), (), ()]], (9, 1)]"
     ]
    }
   ],
   "source": [
    "import tensorflow as tf\n",
    "from tensorflow.keras.layers import Concatenate, Dense\n",
    "\n",
    "# Concatenate or merge the audio and text encodings\n",
    "combined_encoding = Concatenate(axis=-1)([audio_features, text_features])\n",
    "combined_encoding = Dense(256, activation='relu')(combined_encoding)\n",
    "# This combined_encoding can now be used as input to your lip sync model"
   ]
  },
  {
   "cell_type": "code",
   "execution_count": 45,
   "id": "5dfc634e",
   "metadata": {},
   "outputs": [
    {
     "ename": "NameError",
     "evalue": "name 'encoder_output' is not defined",
     "output_type": "error",
     "traceback": [
      "\u001b[1;31m---------------------------------------------------------------------------\u001b[0m",
      "\u001b[1;31mNameError\u001b[0m                                 Traceback (most recent call last)",
      "Cell \u001b[1;32mIn[45], line 44\u001b[0m\n\u001b[0;32m     41\u001b[0m     final_decoder_output \u001b[38;5;241m=\u001b[39m tf\u001b[38;5;241m.\u001b[39mkeras\u001b[38;5;241m.\u001b[39mlayers\u001b[38;5;241m.\u001b[39mLambda(\u001b[38;5;28;01mlambda\u001b[39;00m x: tf\u001b[38;5;241m.\u001b[39mstack(x, axis\u001b[38;5;241m=\u001b[39m\u001b[38;5;241m1\u001b[39m))(decoder_outputs)\n\u001b[0;32m     43\u001b[0m     \u001b[38;5;28;01mreturn\u001b[39;00m final_decoder_output\n\u001b[1;32m---> 44\u001b[0m lip_motion_decoder(encoder_output, text_features)\n",
      "\u001b[1;31mNameError\u001b[0m: name 'encoder_output' is not defined"
     ]
    }
   ],
   "source": [
    "import tensorflow as tf\n",
    "from tensorflow.keras.layers import LSTM, GRU, Attention, Concatenate, Dense\n",
    "\n",
    "def lip_motion_decoder(encoder_output, text_features):\n",
    "    # Define the LSTM or GRU layers for the decoder\n",
    "    decoder_lstm = LSTM(units=hidden_units, return_sequences=True, return_state=True)\n",
    "    \n",
    "    # Initialize decoder hidden state with the encoder output\n",
    "    decoder_initial_state = [encoder_output, encoder_output]  # LSTM/GRU cell state\n",
    "    \n",
    "    # Define the attention mechanism\n",
    "    attention = Attention(use_scale=True)\n",
    "    \n",
    "    # Initialize the decoder input with a start token (you can use a learned embedding for this)\n",
    "    decoder_input = tf.keras.layers.Input(shape=(1, lip_motion_feature_dim))\n",
    "    \n",
    "    # Create a list to hold the decoder outputs\n",
    "    decoder_outputs = []\n",
    "    \n",
    "    # Loop through time steps for decoding\n",
    "    for t in range(max_output_seq_length):\n",
    "        # Apply the attention mechanism to calculate context vector\n",
    "        context_vector, attention_weights = attention([encoder_output, decoder_input])\n",
    "        \n",
    "        # Concatenate context vector and decoder input for attention-aware input\n",
    "        decoder_input_combined = Concatenate(axis=-1)([context_vector, decoder_input])\n",
    "        \n",
    "        # Pass the concatenated input through the decoder LSTM/GRU\n",
    "        decoder_output, _, _ = decoder_lstm(decoder_input_combined, initial_state=decoder_initial_state)\n",
    "        \n",
    "        # Pass the decoder output through a dense layer to generate the next lip motion feature\n",
    "        next_lip_motion_feature = Dense(lip_motion_feature_dim, activation='linear')(decoder_output)\n",
    "        \n",
    "        # Append the output to the list of decoder outputs\n",
    "        decoder_outputs.append(next_lip_motion_feature)\n",
    "        \n",
    "        # Use the generated lip motion feature as the input for the next time step\n",
    "        decoder_input = next_lip_motion_feature\n",
    "    \n",
    "    # Stack the list of decoder outputs to get the final output sequence\n",
    "    final_decoder_output = tf.keras.layers.Lambda(lambda x: tf.stack(x, axis=1))(decoder_outputs)\n",
    "    \n",
    "    return final_decoder_output\n",
    "lip_motion_decoder(encoder_output, text_features)"
   ]
  },
  {
   "cell_type": "code",
   "execution_count": 26,
   "id": "ce063dcd",
   "metadata": {},
   "outputs": [
    {
     "name": "stdout",
     "output_type": "stream",
     "text": [
      "Moviepy - Building video final_output_video.mp4.\n",
      "MoviePy - Writing audio in final_output_videoTEMP_MPY_wvf_snd.mp3\n"
     ]
    },
    {
     "name": "stderr",
     "output_type": "stream",
     "text": [
      "                                                                                                                       "
     ]
    },
    {
     "name": "stdout",
     "output_type": "stream",
     "text": [
      "MoviePy - Done.\n",
      "Moviepy - Writing video final_output_video.mp4\n",
      "\n"
     ]
    },
    {
     "name": "stderr",
     "output_type": "stream",
     "text": [
      "                                                                                                                       \r"
     ]
    },
    {
     "name": "stdout",
     "output_type": "stream",
     "text": [
      "Moviepy - Done !\n",
      "Moviepy - video ready final_output_video.mp4\n"
     ]
    }
   ],
   "source": [
    "import cv2\n",
    "import numpy as np\n",
    "import os\n",
    "from moviepy.editor import *\n",
    "\n",
    "image_folder = os.path.join(folder, \"img\", \"1\",\"masked_images\") \n",
    "images = [img for img in os.listdir(image_folder) if img.endswith(\".jpg\")]\n",
    "frame = cv2.imread(os.path.join(image_folder, images[0]))\n",
    "height, width, layers = frame.shape\n",
    "video_name = 'output_video.mp4'\n",
    "fourcc = cv2.VideoWriter_fourcc(*'X264')  # You can use other codecs as well\n",
    "out = cv2.VideoWriter(video_name, fourcc, 30, (width, height))\n",
    "for image in images:\n",
    "    img = cv2.imread(os.path.join(image_folder, image))\n",
    "    out.write(img)\n",
    "video_clip = VideoFileClip('output_video.mp4')\n",
    "audio_clip = AudioFileClip(\"pri_data\\\\audio\\\\1.wav\")\n",
    "\n",
    "video_clip = video_clip.set_audio(audio_clip)\n",
    "\n",
    "output_video = 'final_output_video.mp4'\n",
    "video_clip.write_videofile(output_video, codec='libx264')\n"
   ]
  },
  {
   "cell_type": "markdown",
   "id": "e2d7c62b",
   "metadata": {},
   "source": [
    "Audio and video segmentation"
   ]
  },
  {
   "cell_type": "code",
   "execution_count": null,
   "id": "f563cd31",
   "metadata": {},
   "outputs": [],
   "source": [
    "from moviepy.editor import VideoFileClip\n",
    "from pydub import AudioSegment\n",
    "import os\n",
    "\n",
    "def segment_audio_and_video(video_path, audio_path, timestamps_path, output_dir):\n",
    "    # Read timestamps from file\n",
    "    timestamps = []\n",
    "    with open(timestamps_path, \"r\") as f:\n",
    "        for line in f:\n",
    "            parts = line\n",
    "            if len(parts) == 3:\n",
    "                word = parts[0]\n",
    "                start_time = float(parts[1])\n",
    "                end_time = float(parts[2])\n",
    "                timestamps.append((word, start_time, end_time))\n",
    "            else:\n",
    "                print(f\"Invalid line in timestamps file: {line}\")\n",
    "\n",
    "    # Load video and audio\n",
    "    video_clip = VideoFileClip(video_path)\n",
    "    audio_clip = AudioSegment.from_wav(audio_path)\n",
    "\n",
    "    # Iterate through timestamps and segment video and audio\n",
    "    for idx, (word, start_time, end_time) in enumerate(timestamps):\n",
    "        # Calculate start and end frames for video\n",
    "        start_frame = int(start_time * video_clip.fps)\n",
    "        end_frame = int(end_time * video_clip.fps)\n",
    "        \n",
    "        # Segment video\n",
    "        video_segment = video_clip.subclip(start_time, end_time)\n",
    "        video_output_path = os.path.join(output_dir, f\"video_segment_{idx}.mp4\")\n",
    "        video_segment.write_videofile(video_output_path, codec=\"libx264\")\n",
    "\n",
    "        # Calculate start and end milliseconds for audio\n",
    "        start_ms = int(start_time * 1000)\n",
    "        end_ms = int(end_time * 1000)\n",
    "\n",
    "        # Segment audio\n",
    "        audio_segment = audio_clip[start_ms:end_ms]\n",
    "        audio_output_path = os.path.join(output_dir, f\"audio_segment_{idx}.wav\")\n",
    "        audio_segment.export(audio_output_path, format=\"wav\")\n",
    "\n",
    "    print(\"Segmentation complete. Segmented audio and video are saved in the output directory.\")\n",
    "\n",
    "# Define input folder\n",
    "folder = os.path.join(os.getcwd(), \"pri_data\")\n",
    "\n",
    "# Process each file in the folder\n",
    "for filename in os.listdir(folder):\n",
    "    if filename.endswith(\".mp4\"):\n",
    "        video_path = os.path.join(folder,\"videos\", filename)\n",
    "        audio_path = os.path.join(folder,\"audio\", filename.replace(\".mp4\", \".wav\"))\n",
    "        timestamps_path = os.path.join(folder, filename.replace(\".mp4\", \"_time.txt\"))\n",
    "        output_dir = os.path.join(folder, \"output_segments\")\n",
    "\n",
    "        # Create output directory if it doesn't exist\n",
    "        os.makedirs(output_dir, exist_ok=True)\n",
    "\n",
    "        # Perform segmentation\n",
    "        segment_audio_and_video(video_path, audio_path, timestamps_path, output_dir)\n"
   ]
  },
  {
   "cell_type": "markdown",
   "id": "2b3bc45e",
   "metadata": {},
   "source": [
    "Lip sync model architecture"
   ]
  },
  {
   "cell_type": "code",
   "execution_count": null,
   "id": "8c3d3728",
   "metadata": {},
   "outputs": [],
   "source": [
    "import torch\n",
    "import torch.nn as nn\n",
    "\n",
    "# Define the LipNet architecture\n",
    "class LipNet(nn.Module):\n",
    "    def __init__(self, num_classes, cnn_channels, rnn_hidden_size):\n",
    "        super(LipNet, self).__init__()\n",
    "        # CNN layers\n",
    "        self.cnn_layers = nn.Sequential(\n",
    "            nn.Conv2d(in_channels=3, out_channels=cnn_channels, kernel_size=3, padding=1),\n",
    "            nn.ReLU(),\n",
    "            nn.MaxPool2d(kernel_size=2, stride=2),\n",
    "            # Add more CNN layers as needed\n",
    "        )\n",
    "        # Bi-GRU layers\n",
    "        self.bigrus = nn.GRU(input_size=cnn_channels, hidden_size=rnn_hidden_size, bidirectional=True, batch_first=True)\n",
    "        # Fully connected layer and softmax\n",
    "        self.fc = nn.Linear(in_features=rnn_hidden_size * 2, out_features=num_classes)\n",
    "        self.softmax = nn.Softmax(dim=2)\n",
    "    def forward(self, x):\n",
    "        # x: input sequence of frames (batch_size, sequence_length, 3, height, width)\n",
    "        # CNN processing\n",
    "        cnn_output = self.cnn_layers(x)\n",
    "        # Rearrange dimensions for RNN input\n",
    "        rnn_input = cnn_output.permute(0, 2, 1, 3, 4).reshape(cnn_output.size(0), cnn_output.size(2), -1)\n",
    "        # RNN processing\n",
    "        rnn_output, _ = self.bigrus(rnn_input)\n",
    "        # Fully connected and softmax\n",
    "        fc_output = self.fc(rnn_output)\n",
    "        output = self.softmax(fc_output)\n",
    "        return output\n",
    "# Hyperparameters\n",
    "num_classes = 28  # Number of classes for speech recognition (e.g., letters)\n",
    "cnn_channels = 64\n",
    "rnn_hidden_size = 256\n",
    "# Create an instance of the LipNet model\n",
    "model = LipNet(num_classes, cnn_channels, rnn_hidden_size)\n",
    "# Print the model architecture\n",
    "print(model)"
   ]
  }
 ],
 "metadata": {
  "kernelspec": {
   "display_name": "Python 3 (ipykernel)",
   "language": "python",
   "name": "python3"
  },
  "language_info": {
   "codemirror_mode": {
    "name": "ipython",
    "version": 3
   },
   "file_extension": ".py",
   "mimetype": "text/x-python",
   "name": "python",
   "nbconvert_exporter": "python",
   "pygments_lexer": "ipython3",
   "version": "3.9.7"
  }
 },
 "nbformat": 4,
 "nbformat_minor": 5
}
